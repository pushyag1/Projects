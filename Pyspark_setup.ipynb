{
  "nbformat": 4,
  "nbformat_minor": 0,
  "metadata": {
    "colab": {
      "name": "Pyspark  setup.ipynb",
      "provenance": [],
      "collapsed_sections": [],
      "include_colab_link": true
    },
    "kernelspec": {
      "name": "python3",
      "display_name": "Python 3"
    }
  },
  "cells": [
    {
      "cell_type": "markdown",
      "metadata": {
        "id": "view-in-github",
        "colab_type": "text"
      },
      "source": [
        "<a href=\"https://colab.research.google.com/github/pushyag1/Projects/blob/main/Pyspark_setup.ipynb\" target=\"_parent\"><img src=\"https://colab.research.google.com/assets/colab-badge.svg\" alt=\"Open In Colab\"/></a>"
      ]
    },
    {
      "cell_type": "code",
      "metadata": {
        "id": "DUW5jnokc7GY"
      },
      "source": [
        "#PYSPARK SETUP\n",
        "\n",
        "#https://www.analyticsvidhya.com/blog/2020/11/a-must-read-guide-on-how-to-work-with-pyspark-on-google-colab-for-data-scientists/"
      ],
      "execution_count": null,
      "outputs": []
    },
    {
      "cell_type": "markdown",
      "metadata": {
        "id": "AWEJ1C0s1F3I"
      },
      "source": [
        "input valiables for user input= only this variable should calculate the whole thing\n",
        "\n",
        "model year= 2021\n",
        "model verson= v22,etc\n",
        "date to calculate age by = Any date\n",
        "sex and age edits required or not (Y,N) **bold text**"
      ]
    },
    {
      "cell_type": "markdown",
      "metadata": {
        "id": "MmshShoN6EiV"
      },
      "source": [
        "# **Running Pyspark in Colab**\n",
        "\n",
        "To run spark in Colab, we need to first install all the dependencies in Colab environment i.e. Apache Spark 2.3.2 with hadoop 2.7, Java 8 and Findspark to locate the spark in the system. The tools installation can be carried out inside the Jupyter Notebook of the Colab. One important note is that if you are new in Spark, it is better to avoid Spark 2.4.0 version since some people have already complained about its compatibility issue with python. \n",
        "Follow the steps to install the dependencies:"
      ]
    },
    {
      "cell_type": "code",
      "metadata": {
        "colab": {
          "base_uri": "https://localhost:8080/"
        },
        "id": "7vjY9GLJL_1Q",
        "outputId": "dc003c3b-c4db-4176-f42d-b05606dd45a2"
      },
      "source": [
        "!apt-get update"
      ],
      "execution_count": null,
      "outputs": [
        {
          "output_type": "stream",
          "text": [
            "Get:1 https://cloud.r-project.org/bin/linux/ubuntu bionic-cran40/ InRelease [3,626 B]\n",
            "Ign:2 https://developer.download.nvidia.com/compute/cuda/repos/ubuntu1804/x86_64  InRelease\n",
            "Get:3 http://ppa.launchpad.net/c2d4u.team/c2d4u4.0+/ubuntu bionic InRelease [15.9 kB]\n",
            "Ign:4 https://developer.download.nvidia.com/compute/machine-learning/repos/ubuntu1804/x86_64  InRelease\n",
            "Get:5 https://developer.download.nvidia.com/compute/cuda/repos/ubuntu1804/x86_64  Release [697 B]\n",
            "Hit:6 https://developer.download.nvidia.com/compute/machine-learning/repos/ubuntu1804/x86_64  Release\n",
            "Get:7 https://developer.download.nvidia.com/compute/cuda/repos/ubuntu1804/x86_64  Release.gpg [836 B]\n",
            "Hit:8 http://archive.ubuntu.com/ubuntu bionic InRelease\n",
            "Get:9 http://security.ubuntu.com/ubuntu bionic-security InRelease [88.7 kB]\n",
            "Get:10 http://archive.ubuntu.com/ubuntu bionic-updates InRelease [88.7 kB]\n",
            "Get:11 https://cloud.r-project.org/bin/linux/ubuntu bionic-cran40/ Packages [53.9 kB]\n",
            "Hit:12 http://ppa.launchpad.net/cran/libgit2/ubuntu bionic InRelease\n",
            "Hit:13 http://ppa.launchpad.net/deadsnakes/ppa/ubuntu bionic InRelease\n",
            "Get:14 http://archive.ubuntu.com/ubuntu bionic-backports InRelease [74.6 kB]\n",
            "Get:16 http://ppa.launchpad.net/graphics-drivers/ppa/ubuntu bionic InRelease [15.9 kB]\n",
            "Ign:17 https://developer.download.nvidia.com/compute/cuda/repos/ubuntu1804/x86_64  Packages\n",
            "Get:17 https://developer.download.nvidia.com/compute/cuda/repos/ubuntu1804/x86_64  Packages [742 kB]\n",
            "Get:18 http://ppa.launchpad.net/c2d4u.team/c2d4u4.0+/ubuntu bionic/main Sources [1,759 kB]\n",
            "Get:19 http://security.ubuntu.com/ubuntu bionic-security/universe amd64 Packages [1,410 kB]\n",
            "Get:20 http://archive.ubuntu.com/ubuntu bionic-updates/main amd64 Packages [2,546 kB]\n",
            "Get:21 http://ppa.launchpad.net/c2d4u.team/c2d4u4.0+/ubuntu bionic/main amd64 Packages [900 kB]\n",
            "Get:22 http://security.ubuntu.com/ubuntu bionic-security/restricted amd64 Packages [396 kB]\n",
            "Get:23 http://security.ubuntu.com/ubuntu bionic-security/main amd64 Packages [2,116 kB]\n",
            "Get:24 http://security.ubuntu.com/ubuntu bionic-security/multiverse amd64 Packages [24.7 kB]\n",
            "Get:25 http://archive.ubuntu.com/ubuntu bionic-updates/multiverse amd64 Packages [31.6 kB]\n",
            "Get:26 http://archive.ubuntu.com/ubuntu bionic-updates/universe amd64 Packages [2,181 kB]\n",
            "Get:27 http://archive.ubuntu.com/ubuntu bionic-updates/restricted amd64 Packages [426 kB]\n",
            "Get:28 http://ppa.launchpad.net/graphics-drivers/ppa/ubuntu bionic/main amd64 Packages [53.2 kB]\n",
            "Fetched 12.9 MB in 3s (3,766 kB/s)\n",
            "Reading package lists... Done\n"
          ],
          "name": "stdout"
        }
      ]
    },
    {
      "cell_type": "code",
      "metadata": {
        "id": "a3NChhao6GLa"
      },
      "source": [
        "!apt-get install openjdk-8-jdk-headless -qq > /dev/null"
      ],
      "execution_count": null,
      "outputs": []
    },
    {
      "cell_type": "code",
      "metadata": {
        "id": "6TWzHJyq6UUU"
      },
      "source": [
        "!wget -q https://www-us.apache.org/dist/spark/spark-3.0.2/spark-3.0.2-bin-hadoop2.7.tgz\n"
      ],
      "execution_count": null,
      "outputs": []
    },
    {
      "cell_type": "code",
      "metadata": {
        "id": "Fcw56UH0_-MX"
      },
      "source": [
        "!tar xf spark-3.0.2-bin-hadoop2.7.tgz"
      ],
      "execution_count": null,
      "outputs": []
    },
    {
      "cell_type": "code",
      "metadata": {
        "id": "IkjLitgNAE7I"
      },
      "source": [
        "!pip install -q findspark"
      ],
      "execution_count": null,
      "outputs": []
    },
    {
      "cell_type": "code",
      "metadata": {
        "id": "v03nHXoXBbUZ"
      },
      "source": [
        "import os\n",
        "os.environ[\"JAVA_HOME\"] = \"/usr/lib/jvm/java-8-openjdk-amd64\"\n",
        "os.environ[\"SPARK_HOME\"] = \"/content/spark-3.0.2-bin-hadoop2.7\"\n"
      ],
      "execution_count": null,
      "outputs": []
    },
    {
      "cell_type": "code",
      "metadata": {
        "id": "yuUA0x3BBlw6"
      },
      "source": [
        "import findspark\n",
        "findspark.init()"
      ],
      "execution_count": null,
      "outputs": []
    },
    {
      "cell_type": "code",
      "metadata": {
        "colab": {
          "base_uri": "https://localhost:8080/",
          "height": 35
        },
        "id": "OGPZghFCBo3X",
        "outputId": "d92c855a-c310-43f2-e9ae-de47d8684d95"
      },
      "source": [
        "findspark.find()\n"
      ],
      "execution_count": null,
      "outputs": [
        {
          "output_type": "execute_result",
          "data": {
            "application/vnd.google.colaboratory.intrinsic+json": {
              "type": "string"
            },
            "text/plain": [
              "'/content/spark-3.0.2-bin-hadoop2.7'"
            ]
          },
          "metadata": {
            "tags": []
          },
          "execution_count": 8
        }
      ]
    },
    {
      "cell_type": "code",
      "metadata": {
        "id": "D7OJMWZRBsbc"
      },
      "source": [
        "from pyspark.sql import SparkSession\n",
        "\n",
        "spark = SparkSession.builder\\\n",
        "        .master(\"local\")\\\n",
        "        .appName(\"Colab\")\\\n",
        "        .config('spark.ui.port', '4050')\\\n",
        "        .getOrCreate()"
      ],
      "execution_count": null,
      "outputs": []
    },
    {
      "cell_type": "code",
      "metadata": {
        "colab": {
          "base_uri": "https://localhost:8080/",
          "height": 208
        },
        "id": "XG2j5Rb2B1zY",
        "outputId": "abc811ea-21d5-4596-fe73-6c4a552338bc"
      },
      "source": [
        "spark\n"
      ],
      "execution_count": null,
      "outputs": [
        {
          "output_type": "execute_result",
          "data": {
            "text/html": [
              "\n",
              "            <div>\n",
              "                <p><b>SparkSession - in-memory</b></p>\n",
              "                \n",
              "        <div>\n",
              "            <p><b>SparkContext</b></p>\n",
              "\n",
              "            <p><a href=\"http://eb45696830d2:4050\">Spark UI</a></p>\n",
              "\n",
              "            <dl>\n",
              "              <dt>Version</dt>\n",
              "                <dd><code>v3.0.2</code></dd>\n",
              "              <dt>Master</dt>\n",
              "                <dd><code>local</code></dd>\n",
              "              <dt>AppName</dt>\n",
              "                <dd><code>Colab</code></dd>\n",
              "            </dl>\n",
              "        </div>\n",
              "        \n",
              "            </div>\n",
              "        "
            ],
            "text/plain": [
              "<pyspark.sql.session.SparkSession at 0x7f0bae730090>"
            ]
          },
          "metadata": {
            "tags": []
          },
          "execution_count": 10
        }
      ]
    },
    {
      "cell_type": "code",
      "metadata": {
        "id": "QAiz7QBUC39q"
      },
      "source": [
        "#loading libraries\n",
        "import pandas\n",
        "import os\n",
        "import pyspark.sql.functions as func\n",
        "\n"
      ],
      "execution_count": null,
      "outputs": []
    },
    {
      "cell_type": "code",
      "metadata": {
        "id": "TZtHGd86c0QP"
      },
      "source": [
        "Date_to_calculate_age = '2021-02-01' #@param {type:\"date\"}\n",
        "Choose_a_model_version = 'V24' #@param [\"V22\",\"V24\", \"RX\", \"ESRD-P1\",\"ESRD-P2\"]\n",
        "Choose_a_model_year = '2021' #@param [\"2020\",\"2021\"]\n",
        "Sex_Age_edits_required = 'Yes' #@param [\"Yes\",\"No\"]"
      ],
      "execution_count": null,
      "outputs": []
    },
    {
      "cell_type": "markdown",
      "metadata": {
        "id": "y_hz8tvOl8fz"
      },
      "source": [
        "**Please us the dataframe only for future codes- donot override below age calulation cells**\n",
        "**Himanshu**"
      ]
    },
    {
      "cell_type": "code",
      "metadata": {
        "colab": {
          "base_uri": "https://localhost:8080/",
          "height": 387
        },
        "id": "6ma3NK3RC_Zf",
        "outputId": "021957c3-65fb-488b-c895-ee58db29578a"
      },
      "source": [
        "#Loading Data\n",
        "#sdf2 = pandas.read_excel (\"/content/sample_data/Correct_Demography_Variable_Calculated_2021.xlsx\")\n",
        "\n",
        "sdf2 = pandas.read_excel (\"/content/sample_data/Correct_Demography_Variable_Calculated_2021.xlsx\")\n",
        "\n",
        "sdf2 = spark.createDataFrame(sdf2)\n",
        "sdf2.show()\n",
        "#To See columns or Features names\n"
      ],
      "execution_count": null,
      "outputs": [
        {
          "output_type": "error",
          "ename": "FileNotFoundError",
          "evalue": "ignored",
          "traceback": [
            "\u001b[0;31m---------------------------------------------------------------------------\u001b[0m",
            "\u001b[0;31mFileNotFoundError\u001b[0m                         Traceback (most recent call last)",
            "\u001b[0;32m<ipython-input-13-9721bfd01c12>\u001b[0m in \u001b[0;36m<module>\u001b[0;34m()\u001b[0m\n\u001b[1;32m      2\u001b[0m \u001b[0;31m#sdf2 = pandas.read_excel (\"/content/sample_data/Correct_Demography_Variable_Calculated_2021.xlsx\")\u001b[0m\u001b[0;34m\u001b[0m\u001b[0;34m\u001b[0m\u001b[0;34m\u001b[0m\u001b[0m\n\u001b[1;32m      3\u001b[0m \u001b[0;34m\u001b[0m\u001b[0m\n\u001b[0;32m----> 4\u001b[0;31m \u001b[0msdf2\u001b[0m \u001b[0;34m=\u001b[0m \u001b[0mpandas\u001b[0m\u001b[0;34m.\u001b[0m\u001b[0mread_excel\u001b[0m \u001b[0;34m(\u001b[0m\u001b[0;34m\"/content/sample_data/Correct_Demography_Variable_Calculated_2021.xlsx\"\u001b[0m\u001b[0;34m)\u001b[0m\u001b[0;34m\u001b[0m\u001b[0;34m\u001b[0m\u001b[0m\n\u001b[0m\u001b[1;32m      5\u001b[0m \u001b[0;34m\u001b[0m\u001b[0m\n\u001b[1;32m      6\u001b[0m \u001b[0msdf2\u001b[0m \u001b[0;34m=\u001b[0m \u001b[0mspark\u001b[0m\u001b[0;34m.\u001b[0m\u001b[0mcreateDataFrame\u001b[0m\u001b[0;34m(\u001b[0m\u001b[0msdf2\u001b[0m\u001b[0;34m)\u001b[0m\u001b[0;34m\u001b[0m\u001b[0;34m\u001b[0m\u001b[0m\n",
            "\u001b[0;32m/usr/local/lib/python3.7/dist-packages/pandas/util/_decorators.py\u001b[0m in \u001b[0;36mwrapper\u001b[0;34m(*args, **kwargs)\u001b[0m\n\u001b[1;32m    294\u001b[0m                 )\n\u001b[1;32m    295\u001b[0m                 \u001b[0mwarnings\u001b[0m\u001b[0;34m.\u001b[0m\u001b[0mwarn\u001b[0m\u001b[0;34m(\u001b[0m\u001b[0mmsg\u001b[0m\u001b[0;34m,\u001b[0m \u001b[0mFutureWarning\u001b[0m\u001b[0;34m,\u001b[0m \u001b[0mstacklevel\u001b[0m\u001b[0;34m=\u001b[0m\u001b[0mstacklevel\u001b[0m\u001b[0;34m)\u001b[0m\u001b[0;34m\u001b[0m\u001b[0;34m\u001b[0m\u001b[0m\n\u001b[0;32m--> 296\u001b[0;31m             \u001b[0;32mreturn\u001b[0m \u001b[0mfunc\u001b[0m\u001b[0;34m(\u001b[0m\u001b[0;34m*\u001b[0m\u001b[0margs\u001b[0m\u001b[0;34m,\u001b[0m \u001b[0;34m**\u001b[0m\u001b[0mkwargs\u001b[0m\u001b[0;34m)\u001b[0m\u001b[0;34m\u001b[0m\u001b[0;34m\u001b[0m\u001b[0m\n\u001b[0m\u001b[1;32m    297\u001b[0m \u001b[0;34m\u001b[0m\u001b[0m\n\u001b[1;32m    298\u001b[0m         \u001b[0;32mreturn\u001b[0m \u001b[0mwrapper\u001b[0m\u001b[0;34m\u001b[0m\u001b[0;34m\u001b[0m\u001b[0m\n",
            "\u001b[0;32m/usr/local/lib/python3.7/dist-packages/pandas/io/excel/_base.py\u001b[0m in \u001b[0;36mread_excel\u001b[0;34m(io, sheet_name, header, names, index_col, usecols, squeeze, dtype, engine, converters, true_values, false_values, skiprows, nrows, na_values, keep_default_na, na_filter, verbose, parse_dates, date_parser, thousands, comment, skipfooter, convert_float, mangle_dupe_cols)\u001b[0m\n\u001b[1;32m    302\u001b[0m \u001b[0;34m\u001b[0m\u001b[0m\n\u001b[1;32m    303\u001b[0m     \u001b[0;32mif\u001b[0m \u001b[0;32mnot\u001b[0m \u001b[0misinstance\u001b[0m\u001b[0;34m(\u001b[0m\u001b[0mio\u001b[0m\u001b[0;34m,\u001b[0m \u001b[0mExcelFile\u001b[0m\u001b[0;34m)\u001b[0m\u001b[0;34m:\u001b[0m\u001b[0;34m\u001b[0m\u001b[0;34m\u001b[0m\u001b[0m\n\u001b[0;32m--> 304\u001b[0;31m         \u001b[0mio\u001b[0m \u001b[0;34m=\u001b[0m \u001b[0mExcelFile\u001b[0m\u001b[0;34m(\u001b[0m\u001b[0mio\u001b[0m\u001b[0;34m,\u001b[0m \u001b[0mengine\u001b[0m\u001b[0;34m=\u001b[0m\u001b[0mengine\u001b[0m\u001b[0;34m)\u001b[0m\u001b[0;34m\u001b[0m\u001b[0;34m\u001b[0m\u001b[0m\n\u001b[0m\u001b[1;32m    305\u001b[0m     \u001b[0;32melif\u001b[0m \u001b[0mengine\u001b[0m \u001b[0;32mand\u001b[0m \u001b[0mengine\u001b[0m \u001b[0;34m!=\u001b[0m \u001b[0mio\u001b[0m\u001b[0;34m.\u001b[0m\u001b[0mengine\u001b[0m\u001b[0;34m:\u001b[0m\u001b[0;34m\u001b[0m\u001b[0;34m\u001b[0m\u001b[0m\n\u001b[1;32m    306\u001b[0m         raise ValueError(\n",
            "\u001b[0;32m/usr/local/lib/python3.7/dist-packages/pandas/io/excel/_base.py\u001b[0m in \u001b[0;36m__init__\u001b[0;34m(self, path_or_buffer, engine)\u001b[0m\n\u001b[1;32m    865\u001b[0m         \u001b[0mself\u001b[0m\u001b[0;34m.\u001b[0m\u001b[0m_io\u001b[0m \u001b[0;34m=\u001b[0m \u001b[0mstringify_path\u001b[0m\u001b[0;34m(\u001b[0m\u001b[0mpath_or_buffer\u001b[0m\u001b[0;34m)\u001b[0m\u001b[0;34m\u001b[0m\u001b[0;34m\u001b[0m\u001b[0m\n\u001b[1;32m    866\u001b[0m \u001b[0;34m\u001b[0m\u001b[0m\n\u001b[0;32m--> 867\u001b[0;31m         \u001b[0mself\u001b[0m\u001b[0;34m.\u001b[0m\u001b[0m_reader\u001b[0m \u001b[0;34m=\u001b[0m \u001b[0mself\u001b[0m\u001b[0;34m.\u001b[0m\u001b[0m_engines\u001b[0m\u001b[0;34m[\u001b[0m\u001b[0mengine\u001b[0m\u001b[0;34m]\u001b[0m\u001b[0;34m(\u001b[0m\u001b[0mself\u001b[0m\u001b[0;34m.\u001b[0m\u001b[0m_io\u001b[0m\u001b[0;34m)\u001b[0m\u001b[0;34m\u001b[0m\u001b[0;34m\u001b[0m\u001b[0m\n\u001b[0m\u001b[1;32m    868\u001b[0m \u001b[0;34m\u001b[0m\u001b[0m\n\u001b[1;32m    869\u001b[0m     \u001b[0;32mdef\u001b[0m \u001b[0m__fspath__\u001b[0m\u001b[0;34m(\u001b[0m\u001b[0mself\u001b[0m\u001b[0;34m)\u001b[0m\u001b[0;34m:\u001b[0m\u001b[0;34m\u001b[0m\u001b[0;34m\u001b[0m\u001b[0m\n",
            "\u001b[0;32m/usr/local/lib/python3.7/dist-packages/pandas/io/excel/_xlrd.py\u001b[0m in \u001b[0;36m__init__\u001b[0;34m(self, filepath_or_buffer)\u001b[0m\n\u001b[1;32m     20\u001b[0m         \u001b[0merr_msg\u001b[0m \u001b[0;34m=\u001b[0m \u001b[0;34m\"Install xlrd >= 1.0.0 for Excel support\"\u001b[0m\u001b[0;34m\u001b[0m\u001b[0;34m\u001b[0m\u001b[0m\n\u001b[1;32m     21\u001b[0m         \u001b[0mimport_optional_dependency\u001b[0m\u001b[0;34m(\u001b[0m\u001b[0;34m\"xlrd\"\u001b[0m\u001b[0;34m,\u001b[0m \u001b[0mextra\u001b[0m\u001b[0;34m=\u001b[0m\u001b[0merr_msg\u001b[0m\u001b[0;34m)\u001b[0m\u001b[0;34m\u001b[0m\u001b[0;34m\u001b[0m\u001b[0m\n\u001b[0;32m---> 22\u001b[0;31m         \u001b[0msuper\u001b[0m\u001b[0;34m(\u001b[0m\u001b[0;34m)\u001b[0m\u001b[0;34m.\u001b[0m\u001b[0m__init__\u001b[0m\u001b[0;34m(\u001b[0m\u001b[0mfilepath_or_buffer\u001b[0m\u001b[0;34m)\u001b[0m\u001b[0;34m\u001b[0m\u001b[0;34m\u001b[0m\u001b[0m\n\u001b[0m\u001b[1;32m     23\u001b[0m \u001b[0;34m\u001b[0m\u001b[0m\n\u001b[1;32m     24\u001b[0m     \u001b[0;34m@\u001b[0m\u001b[0mproperty\u001b[0m\u001b[0;34m\u001b[0m\u001b[0;34m\u001b[0m\u001b[0m\n",
            "\u001b[0;32m/usr/local/lib/python3.7/dist-packages/pandas/io/excel/_base.py\u001b[0m in \u001b[0;36m__init__\u001b[0;34m(self, filepath_or_buffer)\u001b[0m\n\u001b[1;32m    351\u001b[0m             \u001b[0mself\u001b[0m\u001b[0;34m.\u001b[0m\u001b[0mbook\u001b[0m \u001b[0;34m=\u001b[0m \u001b[0mself\u001b[0m\u001b[0;34m.\u001b[0m\u001b[0mload_workbook\u001b[0m\u001b[0;34m(\u001b[0m\u001b[0mfilepath_or_buffer\u001b[0m\u001b[0;34m)\u001b[0m\u001b[0;34m\u001b[0m\u001b[0;34m\u001b[0m\u001b[0m\n\u001b[1;32m    352\u001b[0m         \u001b[0;32melif\u001b[0m \u001b[0misinstance\u001b[0m\u001b[0;34m(\u001b[0m\u001b[0mfilepath_or_buffer\u001b[0m\u001b[0;34m,\u001b[0m \u001b[0mstr\u001b[0m\u001b[0;34m)\u001b[0m\u001b[0;34m:\u001b[0m\u001b[0;34m\u001b[0m\u001b[0;34m\u001b[0m\u001b[0m\n\u001b[0;32m--> 353\u001b[0;31m             \u001b[0mself\u001b[0m\u001b[0;34m.\u001b[0m\u001b[0mbook\u001b[0m \u001b[0;34m=\u001b[0m \u001b[0mself\u001b[0m\u001b[0;34m.\u001b[0m\u001b[0mload_workbook\u001b[0m\u001b[0;34m(\u001b[0m\u001b[0mfilepath_or_buffer\u001b[0m\u001b[0;34m)\u001b[0m\u001b[0;34m\u001b[0m\u001b[0;34m\u001b[0m\u001b[0m\n\u001b[0m\u001b[1;32m    354\u001b[0m         \u001b[0;32melif\u001b[0m \u001b[0misinstance\u001b[0m\u001b[0;34m(\u001b[0m\u001b[0mfilepath_or_buffer\u001b[0m\u001b[0;34m,\u001b[0m \u001b[0mbytes\u001b[0m\u001b[0;34m)\u001b[0m\u001b[0;34m:\u001b[0m\u001b[0;34m\u001b[0m\u001b[0;34m\u001b[0m\u001b[0m\n\u001b[1;32m    355\u001b[0m             \u001b[0mself\u001b[0m\u001b[0;34m.\u001b[0m\u001b[0mbook\u001b[0m \u001b[0;34m=\u001b[0m \u001b[0mself\u001b[0m\u001b[0;34m.\u001b[0m\u001b[0mload_workbook\u001b[0m\u001b[0;34m(\u001b[0m\u001b[0mBytesIO\u001b[0m\u001b[0;34m(\u001b[0m\u001b[0mfilepath_or_buffer\u001b[0m\u001b[0;34m)\u001b[0m\u001b[0;34m)\u001b[0m\u001b[0;34m\u001b[0m\u001b[0;34m\u001b[0m\u001b[0m\n",
            "\u001b[0;32m/usr/local/lib/python3.7/dist-packages/pandas/io/excel/_xlrd.py\u001b[0m in \u001b[0;36mload_workbook\u001b[0;34m(self, filepath_or_buffer)\u001b[0m\n\u001b[1;32m     35\u001b[0m             \u001b[0;32mreturn\u001b[0m \u001b[0mopen_workbook\u001b[0m\u001b[0;34m(\u001b[0m\u001b[0mfile_contents\u001b[0m\u001b[0;34m=\u001b[0m\u001b[0mdata\u001b[0m\u001b[0;34m)\u001b[0m\u001b[0;34m\u001b[0m\u001b[0;34m\u001b[0m\u001b[0m\n\u001b[1;32m     36\u001b[0m         \u001b[0;32melse\u001b[0m\u001b[0;34m:\u001b[0m\u001b[0;34m\u001b[0m\u001b[0;34m\u001b[0m\u001b[0m\n\u001b[0;32m---> 37\u001b[0;31m             \u001b[0;32mreturn\u001b[0m \u001b[0mopen_workbook\u001b[0m\u001b[0;34m(\u001b[0m\u001b[0mfilepath_or_buffer\u001b[0m\u001b[0;34m)\u001b[0m\u001b[0;34m\u001b[0m\u001b[0;34m\u001b[0m\u001b[0m\n\u001b[0m\u001b[1;32m     38\u001b[0m \u001b[0;34m\u001b[0m\u001b[0m\n\u001b[1;32m     39\u001b[0m     \u001b[0;34m@\u001b[0m\u001b[0mproperty\u001b[0m\u001b[0;34m\u001b[0m\u001b[0;34m\u001b[0m\u001b[0m\n",
            "\u001b[0;32m/usr/local/lib/python3.7/dist-packages/xlrd/__init__.py\u001b[0m in \u001b[0;36mopen_workbook\u001b[0;34m(filename, logfile, verbosity, use_mmap, file_contents, encoding_override, formatting_info, on_demand, ragged_rows)\u001b[0m\n\u001b[1;32m    114\u001b[0m         \u001b[0mpeek\u001b[0m \u001b[0;34m=\u001b[0m \u001b[0mfile_contents\u001b[0m\u001b[0;34m[\u001b[0m\u001b[0;34m:\u001b[0m\u001b[0mpeeksz\u001b[0m\u001b[0;34m]\u001b[0m\u001b[0;34m\u001b[0m\u001b[0;34m\u001b[0m\u001b[0m\n\u001b[1;32m    115\u001b[0m     \u001b[0;32melse\u001b[0m\u001b[0;34m:\u001b[0m\u001b[0;34m\u001b[0m\u001b[0;34m\u001b[0m\u001b[0m\n\u001b[0;32m--> 116\u001b[0;31m         \u001b[0;32mwith\u001b[0m \u001b[0mopen\u001b[0m\u001b[0;34m(\u001b[0m\u001b[0mfilename\u001b[0m\u001b[0;34m,\u001b[0m \u001b[0;34m\"rb\"\u001b[0m\u001b[0;34m)\u001b[0m \u001b[0;32mas\u001b[0m \u001b[0mf\u001b[0m\u001b[0;34m:\u001b[0m\u001b[0;34m\u001b[0m\u001b[0;34m\u001b[0m\u001b[0m\n\u001b[0m\u001b[1;32m    117\u001b[0m             \u001b[0mpeek\u001b[0m \u001b[0;34m=\u001b[0m \u001b[0mf\u001b[0m\u001b[0;34m.\u001b[0m\u001b[0mread\u001b[0m\u001b[0;34m(\u001b[0m\u001b[0mpeeksz\u001b[0m\u001b[0;34m)\u001b[0m\u001b[0;34m\u001b[0m\u001b[0;34m\u001b[0m\u001b[0m\n\u001b[1;32m    118\u001b[0m     \u001b[0;32mif\u001b[0m \u001b[0mpeek\u001b[0m \u001b[0;34m==\u001b[0m \u001b[0;34mb\"PK\\x03\\x04\"\u001b[0m\u001b[0;34m:\u001b[0m \u001b[0;31m# a ZIP file\u001b[0m\u001b[0;34m\u001b[0m\u001b[0;34m\u001b[0m\u001b[0m\n",
            "\u001b[0;31mFileNotFoundError\u001b[0m: [Errno 2] No such file or directory: '/content/sample_data/Correct_Demography_Variable_Calculated_2021.xlsx'"
          ]
        }
      ]
    },
    {
      "cell_type": "markdown",
      "metadata": {
        "id": "9pdv3NixppHA"
      },
      "source": [
        "from pyspark.sql.functions import struct\n",
        "\n",
        "from pyspark.sql.types import IntegerType\n",
        "from pyspark.sql.functions import udf\n",
        "\n",
        "def func(Age, OREC):\n",
        "  if Age == 64 and OREC == 0:\n",
        "    return 65\n",
        "  elif Age < 0 :\n",
        "    return 0\n",
        "  return Age\n",
        "\n",
        "func_udf = udf(func, IntegerType())\n",
        "df = sdf2.withColumn('new_column',func_udf(sdf2['Age'], sdf2['OREC']))\n",
        "df"
      ]
    },
    {
      "cell_type": "code",
      "metadata": {
        "id": "_QOSwnHfphBS"
      },
      "source": [
        ""
      ],
      "execution_count": null,
      "outputs": []
    },
    {
      "cell_type": "code",
      "metadata": {
        "id": "E7hWCMk8DK6-",
        "colab": {
          "base_uri": "https://localhost:8080/",
          "height": 195
        },
        "outputId": "b00ef532-0f1a-4f11-a1ba-4904c078f032"
      },
      "source": [
        "sdf3=sdf2.withColumn(\"Age\",(datediff(to_date(lit(\"2021-02-01\")),to_date(\"DOB\",\"yyyy/MM/dd\")))/366)\n"
      ],
      "execution_count": null,
      "outputs": [
        {
          "output_type": "error",
          "ename": "NameError",
          "evalue": "ignored",
          "traceback": [
            "\u001b[0;31m---------------------------------------------------------------------------\u001b[0m",
            "\u001b[0;31mNameError\u001b[0m                                 Traceback (most recent call last)",
            "\u001b[0;32m<ipython-input-12-6faffee2c29d>\u001b[0m in \u001b[0;36m<module>\u001b[0;34m()\u001b[0m\n\u001b[1;32m      2\u001b[0m \u001b[0;32mfrom\u001b[0m \u001b[0mpyspark\u001b[0m\u001b[0;34m.\u001b[0m\u001b[0msql\u001b[0m\u001b[0;34m.\u001b[0m\u001b[0mfunctions\u001b[0m \u001b[0;32mimport\u001b[0m \u001b[0mdatediff\u001b[0m\u001b[0;34m,\u001b[0m \u001b[0mto_date\u001b[0m\u001b[0;34m,\u001b[0m \u001b[0mlit\u001b[0m\u001b[0;34m\u001b[0m\u001b[0;34m\u001b[0m\u001b[0m\n\u001b[1;32m      3\u001b[0m \u001b[0;34m\u001b[0m\u001b[0m\n\u001b[0;32m----> 4\u001b[0;31m \u001b[0msdf3\u001b[0m\u001b[0;34m=\u001b[0m\u001b[0msdf2\u001b[0m\u001b[0;34m.\u001b[0m\u001b[0mwithColumn\u001b[0m\u001b[0;34m(\u001b[0m\u001b[0;34m\"Age\"\u001b[0m\u001b[0;34m,\u001b[0m\u001b[0;34m(\u001b[0m\u001b[0mdatediff\u001b[0m\u001b[0;34m(\u001b[0m\u001b[0mto_date\u001b[0m\u001b[0;34m(\u001b[0m\u001b[0mlit\u001b[0m\u001b[0;34m(\u001b[0m\u001b[0;34m\"2021-02-01\"\u001b[0m\u001b[0;34m)\u001b[0m\u001b[0;34m)\u001b[0m\u001b[0;34m,\u001b[0m\u001b[0mto_date\u001b[0m\u001b[0;34m(\u001b[0m\u001b[0;34m\"DOB\"\u001b[0m\u001b[0;34m,\u001b[0m\u001b[0;34m\"yyyy/MM/dd\"\u001b[0m\u001b[0;34m)\u001b[0m\u001b[0;34m)\u001b[0m\u001b[0;34m)\u001b[0m\u001b[0;34m/\u001b[0m\u001b[0;36m366\u001b[0m\u001b[0;34m,\u001b[0m\u001b[0mfunc\u001b[0m\u001b[0;34m.\u001b[0m\u001b[0mround\u001b[0m\u001b[0;34m(\u001b[0m\u001b[0;34m'Age'\u001b[0m\u001b[0;34m,\u001b[0m \u001b[0;36m2\u001b[0m\u001b[0;34m)\u001b[0m\u001b[0;34m.\u001b[0m\u001b[0mcast\u001b[0m\u001b[0;34m(\u001b[0m\u001b[0;34m'integer'\u001b[0m\u001b[0;34m)\u001b[0m\u001b[0;34m)\u001b[0m\u001b[0;34m\u001b[0m\u001b[0;34m\u001b[0m\u001b[0m\n\u001b[0m",
            "\u001b[0;31mNameError\u001b[0m: name 'sdf2' is not defined"
          ]
        }
      ]
    },
    {
      "cell_type": "code",
      "metadata": {
        "id": "HbqPrVZlIy2l",
        "colab": {
          "base_uri": "https://localhost:8080/"
        },
        "outputId": "53fb5725-6136-42a1-8b55-93e9d466c616"
      },
      "source": [
        "sdf3.show()"
      ],
      "execution_count": null,
      "outputs": [
        {
          "output_type": "stream",
          "text": [
            "+----------+---------+-------------------+------+----+--------+-------+----+-----+-------------------+--------+-----------------+\n",
            "|Unnamed: 0|Person ID|                DOB|Gender|OREC|LTIMCAID|NEMCAID|ESRD|MCAID|         MODEL_YEAR|Age 2021|              Age|\n",
            "+----------+---------+-------------------+------+----+--------+-------+----+-----+-------------------+--------+-----------------+\n",
            "|         0| 95307787|1944-03-23 00:00:00|     1|   0|       1|      0|   1|    1|2021-02-01 00:00:00|      77|76.70491803278688|\n",
            "|         1| 67928991|1930-05-29 00:00:00|     2|   0|       1|      0|   0|    1|2021-02-01 00:00:00|      91|90.49453551912568|\n",
            "|         2|124623786|1948-07-30 00:00:00|     1|   0|       1|      0|   0|    0|2021-02-01 00:00:00|      73|72.36065573770492|\n",
            "|         3| 73717666|1935-06-12 00:00:00|     2|   0|       1|      0|   0|    1|2021-02-01 00:00:00|      86| 85.4672131147541|\n",
            "|         4|111693065|1927-05-03 00:00:00|     2|   0|       1|      0|   0|    0|2021-02-01 00:00:00|      94|93.56010928961749|\n",
            "|         5|120898337|1930-11-02 00:00:00|     2|   0|       1|      0|   1|    0|2021-02-01 00:00:00|      90|90.06557377049181|\n",
            "|         6|124116805|1933-02-14 00:00:00|     2|   0|       1|      0|   1|    0|2021-02-01 00:00:00|      88|87.78415300546447|\n",
            "|         7| 14464261|1962-07-27 00:00:00|     2|   1|       1|      0|   1|    1|2021-02-01 00:00:00|      59|58.39890710382514|\n",
            "|         8| 59011425|1929-06-10 00:00:00|     1|   0|       1|      0|   1|    1|2021-02-01 00:00:00|      92|91.45901639344262|\n",
            "|         9|155756563|1927-07-25 00:00:00|     2|   0|       1|      0|   0|    1|2021-02-01 00:00:00|      94|93.33333333333333|\n",
            "|        10| 24692817|1940-10-11 00:00:00|     2|   0|       1|      0|   0|    0|2021-02-01 00:00:00|      80|80.14480874316939|\n",
            "|        11| 30440111|1949-05-29 00:00:00|     1|   0|       1|      0|   0|    1|2021-02-01 00:00:00|      72| 71.5327868852459|\n",
            "|        12|  3281681|1927-07-22 00:00:00|     2|   0|       1|      0|   0|    0|2021-02-01 00:00:00|      94| 93.3415300546448|\n",
            "|        13| 11474346|1953-03-29 00:00:00|     2|   0|       1|      0|   1|    0|2021-02-01 00:00:00|      68|67.70765027322405|\n",
            "|        14|133798923|1934-01-24 00:00:00|     1|   0|       1|      0|   1|    0|2021-02-01 00:00:00|      87|86.84426229508196|\n",
            "|        15|119899350|1936-09-19 00:00:00|     2|   0|       1|      0|   1|    1|2021-02-01 00:00:00|      84|84.19672131147541|\n",
            "|        16|  5934555|1921-12-24 00:00:00|     1|   0|       1|      0|   1|    1|2021-02-01 00:00:00|      99|98.90437158469945|\n",
            "|        17| 57312531|1955-02-08 00:00:00|     1|   0|       1|      0|   0|    1|2021-02-01 00:00:00|      66|65.84699453551913|\n",
            "|        18|  6941119|1934-11-09 00:00:00|     1|   0|       1|      0|   0|    0|2021-02-01 00:00:00|      86|86.05464480874316|\n",
            "|        19| 95237592|1943-04-17 00:00:00|     1|   0|       1|      0|   0|    1|2021-02-01 00:00:00|      78|77.63661202185793|\n",
            "+----------+---------+-------------------+------+----+--------+-------+----+-----+-------------------+--------+-----------------+\n",
            "only showing top 20 rows\n",
            "\n"
          ],
          "name": "stdout"
        }
      ]
    },
    {
      "cell_type": "code",
      "metadata": {
        "id": "PWujDPWqfU3H",
        "colab": {
          "base_uri": "https://localhost:8080/"
        },
        "outputId": "ace3ff51-2e80-4500-8067-0dfcc5bbac55"
      },
      "source": [
        "#Calculating only Decimal Vlaues\n",
        "sdf4 = sdf3.withColumn(\"Age\", func.round(sdf3[\"Age\"], 2).cast('integer'))\n",
        "sdf4.show()"
      ],
      "execution_count": null,
      "outputs": [
        {
          "output_type": "stream",
          "text": [
            "+----------+---------+-------------------+------+----+--------+-------+----+-----+-------------------+--------+---+\n",
            "|Unnamed: 0|Person ID|                DOB|Gender|OREC|LTIMCAID|NEMCAID|ESRD|MCAID|         MODEL_YEAR|Age 2021|Age|\n",
            "+----------+---------+-------------------+------+----+--------+-------+----+-----+-------------------+--------+---+\n",
            "|         0| 95307787|1944-03-23 00:00:00|     1|   0|       1|      0|   1|    1|2021-02-01 00:00:00|      77| 76|\n",
            "|         1| 67928991|1930-05-29 00:00:00|     2|   0|       1|      0|   0|    1|2021-02-01 00:00:00|      91| 90|\n",
            "|         2|124623786|1948-07-30 00:00:00|     1|   0|       1|      0|   0|    0|2021-02-01 00:00:00|      73| 72|\n",
            "|         3| 73717666|1935-06-12 00:00:00|     2|   0|       1|      0|   0|    1|2021-02-01 00:00:00|      86| 85|\n",
            "|         4|111693065|1927-05-03 00:00:00|     2|   0|       1|      0|   0|    0|2021-02-01 00:00:00|      94| 93|\n",
            "|         5|120898337|1930-11-02 00:00:00|     2|   0|       1|      0|   1|    0|2021-02-01 00:00:00|      90| 90|\n",
            "|         6|124116805|1933-02-14 00:00:00|     2|   0|       1|      0|   1|    0|2021-02-01 00:00:00|      88| 87|\n",
            "|         7| 14464261|1962-07-27 00:00:00|     2|   1|       1|      0|   1|    1|2021-02-01 00:00:00|      59| 58|\n",
            "|         8| 59011425|1929-06-10 00:00:00|     1|   0|       1|      0|   1|    1|2021-02-01 00:00:00|      92| 91|\n",
            "|         9|155756563|1927-07-25 00:00:00|     2|   0|       1|      0|   0|    1|2021-02-01 00:00:00|      94| 93|\n",
            "|        10| 24692817|1940-10-11 00:00:00|     2|   0|       1|      0|   0|    0|2021-02-01 00:00:00|      80| 80|\n",
            "|        11| 30440111|1949-05-29 00:00:00|     1|   0|       1|      0|   0|    1|2021-02-01 00:00:00|      72| 71|\n",
            "|        12|  3281681|1927-07-22 00:00:00|     2|   0|       1|      0|   0|    0|2021-02-01 00:00:00|      94| 93|\n",
            "|        13| 11474346|1953-03-29 00:00:00|     2|   0|       1|      0|   1|    0|2021-02-01 00:00:00|      68| 67|\n",
            "|        14|133798923|1934-01-24 00:00:00|     1|   0|       1|      0|   1|    0|2021-02-01 00:00:00|      87| 86|\n",
            "|        15|119899350|1936-09-19 00:00:00|     2|   0|       1|      0|   1|    1|2021-02-01 00:00:00|      84| 84|\n",
            "|        16|  5934555|1921-12-24 00:00:00|     1|   0|       1|      0|   1|    1|2021-02-01 00:00:00|      99| 98|\n",
            "|        17| 57312531|1955-02-08 00:00:00|     1|   0|       1|      0|   0|    1|2021-02-01 00:00:00|      66| 65|\n",
            "|        18|  6941119|1934-11-09 00:00:00|     1|   0|       1|      0|   0|    0|2021-02-01 00:00:00|      86| 86|\n",
            "|        19| 95237592|1943-04-17 00:00:00|     1|   0|       1|      0|   0|    1|2021-02-01 00:00:00|      78| 77|\n",
            "+----------+---------+-------------------+------+----+--------+-------+----+-----+-------------------+--------+---+\n",
            "only showing top 20 rows\n",
            "\n"
          ],
          "name": "stdout"
        }
      ]
    },
    {
      "cell_type": "code",
      "metadata": {
        "colab": {
          "base_uri": "https://localhost:8080/"
        },
        "id": "aCsXv-ejt3A3",
        "outputId": "a8f91d21-1952-4e7a-fc26-ff978bc5f73f"
      },
      "source": [
        "#Droping uneccessary columns\n",
        "\n",
        "drop_list = [ 'Unnamed: 0',\"Age 2021\",\"\",\"\",\"\",\"\",\"\",\"\",\"\",\"\",\"\",\"\"]\n",
        "sdf5=sdf4.select([column for column in sdf4.columns if column not in drop_list])\n",
        "sdf5.show()\n",
        "\n",
        "\n"
      ],
      "execution_count": null,
      "outputs": [
        {
          "output_type": "stream",
          "text": [
            "+---------+-------------------+------+----+--------+-------+----+-----+-------------------+---+\n",
            "|Person ID|                DOB|Gender|OREC|LTIMCAID|NEMCAID|ESRD|MCAID|         MODEL_YEAR|Age|\n",
            "+---------+-------------------+------+----+--------+-------+----+-----+-------------------+---+\n",
            "| 95307787|1944-03-23 00:00:00|     1|   0|       1|      0|   1|    1|2021-02-01 00:00:00| 76|\n",
            "| 67928991|1930-05-29 00:00:00|     2|   0|       1|      0|   0|    1|2021-02-01 00:00:00| 90|\n",
            "|124623786|1948-07-30 00:00:00|     1|   0|       1|      0|   0|    0|2021-02-01 00:00:00| 72|\n",
            "| 73717666|1935-06-12 00:00:00|     2|   0|       1|      0|   0|    1|2021-02-01 00:00:00| 85|\n",
            "|111693065|1927-05-03 00:00:00|     2|   0|       1|      0|   0|    0|2021-02-01 00:00:00| 93|\n",
            "|120898337|1930-11-02 00:00:00|     2|   0|       1|      0|   1|    0|2021-02-01 00:00:00| 90|\n",
            "|124116805|1933-02-14 00:00:00|     2|   0|       1|      0|   1|    0|2021-02-01 00:00:00| 87|\n",
            "| 14464261|1962-07-27 00:00:00|     2|   1|       1|      0|   1|    1|2021-02-01 00:00:00| 58|\n",
            "| 59011425|1929-06-10 00:00:00|     1|   0|       1|      0|   1|    1|2021-02-01 00:00:00| 91|\n",
            "|155756563|1927-07-25 00:00:00|     2|   0|       1|      0|   0|    1|2021-02-01 00:00:00| 93|\n",
            "| 24692817|1940-10-11 00:00:00|     2|   0|       1|      0|   0|    0|2021-02-01 00:00:00| 80|\n",
            "| 30440111|1949-05-29 00:00:00|     1|   0|       1|      0|   0|    1|2021-02-01 00:00:00| 71|\n",
            "|  3281681|1927-07-22 00:00:00|     2|   0|       1|      0|   0|    0|2021-02-01 00:00:00| 93|\n",
            "| 11474346|1953-03-29 00:00:00|     2|   0|       1|      0|   1|    0|2021-02-01 00:00:00| 67|\n",
            "|133798923|1934-01-24 00:00:00|     1|   0|       1|      0|   1|    0|2021-02-01 00:00:00| 86|\n",
            "|119899350|1936-09-19 00:00:00|     2|   0|       1|      0|   1|    1|2021-02-01 00:00:00| 84|\n",
            "|  5934555|1921-12-24 00:00:00|     1|   0|       1|      0|   1|    1|2021-02-01 00:00:00| 98|\n",
            "| 57312531|1955-02-08 00:00:00|     1|   0|       1|      0|   0|    1|2021-02-01 00:00:00| 65|\n",
            "|  6941119|1934-11-09 00:00:00|     1|   0|       1|      0|   0|    0|2021-02-01 00:00:00| 86|\n",
            "| 95237592|1943-04-17 00:00:00|     1|   0|       1|      0|   0|    1|2021-02-01 00:00:00| 77|\n",
            "+---------+-------------------+------+----+--------+-------+----+-----+-------------------+---+\n",
            "only showing top 20 rows\n",
            "\n"
          ],
          "name": "stdout"
        }
      ]
    },
    {
      "cell_type": "code",
      "metadata": {
        "id": "k2MEKZ1VcUVr"
      },
      "source": [
        "\n"
      ],
      "execution_count": null,
      "outputs": []
    },
    {
      "cell_type": "markdown",
      "metadata": {
        "id": "w8X4ZM6A1EQn"
      },
      "source": [
        ""
      ]
    },
    {
      "cell_type": "code",
      "metadata": {
        "colab": {
          "base_uri": "https://localhost:8080/"
        },
        "id": "gIvIKKsjceBh",
        "outputId": "d48c144a-8b04-4550-a3bc-7f056a27c440"
      },
      "source": [
        "df.show(18)"
      ],
      "execution_count": null,
      "outputs": [
        {
          "output_type": "stream",
          "text": [
            "+---------+-------------------+------+----+--------+-------+----+-----+-------------------+---+----------+\n",
            "|Person ID|                DOB|Gender|OREC|LTIMCAID|NEMCAID|ESRD|MCAID|         MODEL_YEAR|Age|new_column|\n",
            "+---------+-------------------+------+----+--------+-------+----+-----+-------------------+---+----------+\n",
            "| 95307787|1944-03-23 00:00:00|     1|   0|       1|      0|   1|    1|2021-02-01 00:00:00| 76|        76|\n",
            "| 67928991|1930-05-29 00:00:00|     2|   0|       1|      0|   0|    1|2021-02-01 00:00:00| 90|        90|\n",
            "|124623786|1948-07-30 00:00:00|     1|   0|       1|      0|   0|    0|2021-02-01 00:00:00| 72|        72|\n",
            "| 73717666|1935-06-12 00:00:00|     2|   0|       1|      0|   0|    1|2021-02-01 00:00:00| 85|        85|\n",
            "|111693065|1927-05-03 00:00:00|     2|   0|       1|      0|   0|    0|2021-02-01 00:00:00| 93|        93|\n",
            "|120898337|1930-11-02 00:00:00|     2|   0|       1|      0|   1|    0|2021-02-01 00:00:00| 90|        90|\n",
            "|124116805|1933-02-14 00:00:00|     2|   0|       1|      0|   1|    0|2021-02-01 00:00:00| 87|        87|\n",
            "| 14464261|1962-07-27 00:00:00|     2|   1|       1|      0|   1|    1|2021-02-01 00:00:00| 58|        58|\n",
            "| 59011425|1929-06-10 00:00:00|     1|   0|       1|      0|   1|    1|2021-02-01 00:00:00| 91|        91|\n",
            "|155756563|1927-07-25 00:00:00|     2|   0|       1|      0|   0|    1|2021-02-01 00:00:00| 93|        93|\n",
            "| 24692817|1940-10-11 00:00:00|     2|   0|       1|      0|   0|    0|2021-02-01 00:00:00| 80|        80|\n",
            "| 30440111|1949-05-29 00:00:00|     1|   0|       1|      0|   0|    1|2021-02-01 00:00:00| 71|        71|\n",
            "|  3281681|1927-07-22 00:00:00|     2|   0|       1|      0|   0|    0|2021-02-01 00:00:00| 93|        93|\n",
            "| 11474346|1953-03-29 00:00:00|     2|   0|       1|      0|   1|    0|2021-02-01 00:00:00| 67|        67|\n",
            "|133798923|1934-01-24 00:00:00|     1|   0|       1|      0|   1|    0|2021-02-01 00:00:00| 86|        86|\n",
            "|119899350|1936-09-19 00:00:00|     2|   0|       1|      0|   1|    1|2021-02-01 00:00:00| 84|        84|\n",
            "|  5934555|1921-12-24 00:00:00|     1|   0|       1|      0|   1|    1|2021-02-01 00:00:00| 98|        98|\n",
            "| 57312531|1955-02-08 00:00:00|     1|   0|       1|      0|   0|    1|2021-02-01 00:00:00| 65|        65|\n",
            "+---------+-------------------+------+----+--------+-------+----+-----+-------------------+---+----------+\n",
            "only showing top 18 rows\n",
            "\n"
          ],
          "name": "stdout"
        }
      ]
    },
    {
      "cell_type": "markdown",
      "metadata": {
        "id": "0cXUmAWwZd8O"
      },
      "source": [
        "For model 2020"
      ]
    },
    {
      "cell_type": "code",
      "metadata": {
        "id": "Tv19n4CKZXrd",
        "colab": {
          "base_uri": "https://localhost:8080/"
        },
        "outputId": "88620c80-32d5-4c3e-c3fd-743aa180b6c5"
      },
      "source": [
        "#sdf6 = pandas.read_excel (\"/content/sample_data/Correct_Demography_Variable_Calculated_2020.xlsx\")\n",
        "\n",
        "sdf6 = pandas.read_excel (\"/content/sample_data/Correct_Demography_Variable_Calculated_2020.xlsx\")\n",
        "\n",
        "sdf6 = spark.createDataFrame(sdf6)\n",
        "sdf6.show()"
      ],
      "execution_count": null,
      "outputs": [
        {
          "output_type": "stream",
          "text": [
            "+----------+---------+-------------------+------+----+--------+-------+----+-----+-------------------+--------+\n",
            "|Unnamed: 0|Person ID|                DOB|Gender|OREC|LTIMCAID|NEMCAID|ESRD|MCAID|         MODEL_YEAR|Age 2020|\n",
            "+----------+---------+-------------------+------+----+--------+-------+----+-----+-------------------+--------+\n",
            "|         0| 95307787|1944-03-23 00:00:00|     1|   0|       1|      0|   1|    1|2020-02-01 00:00:00|      77|\n",
            "|         1| 67928991|1930-05-29 00:00:00|     2|   0|       1|      0|   0|    1|2020-02-02 00:00:00|      91|\n",
            "|         2|124623786|1948-07-30 00:00:00|     1|   0|       1|      0|   0|    0|2020-02-03 00:00:00|      73|\n",
            "|         3| 73717666|1935-06-12 00:00:00|     2|   0|       1|      0|   0|    1|2020-02-04 00:00:00|      86|\n",
            "|         4|111693065|1927-05-03 00:00:00|     2|   0|       1|      0|   0|    0|2020-02-05 00:00:00|      94|\n",
            "|         5|120898337|1930-11-02 00:00:00|     2|   0|       1|      0|   1|    0|2020-02-06 00:00:00|      90|\n",
            "|         6|124116805|1933-02-14 00:00:00|     2|   0|       1|      0|   1|    0|2020-02-07 00:00:00|      88|\n",
            "|         7| 14464261|1962-07-27 00:00:00|     2|   1|       1|      0|   1|    1|2020-02-08 00:00:00|      59|\n",
            "|         8| 59011425|1929-06-10 00:00:00|     1|   0|       1|      0|   1|    1|2020-02-09 00:00:00|      92|\n",
            "|         9|155756563|1927-07-25 00:00:00|     2|   0|       1|      0|   0|    1|2020-02-10 00:00:00|      94|\n",
            "|        10| 24692817|1940-10-11 00:00:00|     2|   0|       1|      0|   0|    0|2020-02-11 00:00:00|      80|\n",
            "|        11| 30440111|1949-05-29 00:00:00|     1|   0|       1|      0|   0|    1|2020-02-12 00:00:00|      72|\n",
            "|        12|  3281681|1927-07-22 00:00:00|     2|   0|       1|      0|   0|    0|2020-02-13 00:00:00|      94|\n",
            "|        13| 11474346|1953-03-29 00:00:00|     2|   0|       1|      0|   1|    0|2020-02-14 00:00:00|      68|\n",
            "|        14|133798923|1934-01-24 00:00:00|     1|   0|       1|      0|   1|    0|2020-02-15 00:00:00|      87|\n",
            "|        15|119899350|1936-09-19 00:00:00|     2|   0|       1|      0|   1|    1|2020-02-16 00:00:00|      84|\n",
            "|        16|  5934555|1921-12-24 00:00:00|     1|   0|       1|      0|   1|    1|2020-02-17 00:00:00|      99|\n",
            "|        17| 57312531|1955-02-08 00:00:00|     1|   0|       1|      0|   0|    1|2020-02-18 00:00:00|      66|\n",
            "|        18|  6941119|1934-11-09 00:00:00|     1|   0|       1|      0|   0|    0|2020-02-19 00:00:00|      86|\n",
            "|        19| 95237592|1943-04-17 00:00:00|     1|   0|       1|      0|   0|    1|2020-02-20 00:00:00|      78|\n",
            "+----------+---------+-------------------+------+----+--------+-------+----+-----+-------------------+--------+\n",
            "only showing top 20 rows\n",
            "\n"
          ],
          "name": "stdout"
        }
      ]
    },
    {
      "cell_type": "code",
      "metadata": {
        "id": "icUctYCpgu-6"
      },
      "source": [
        ""
      ],
      "execution_count": null,
      "outputs": []
    },
    {
      "cell_type": "code",
      "metadata": {
        "id": "yFrPz0aHZX2i",
        "colab": {
          "base_uri": "https://localhost:8080/"
        },
        "outputId": "98cd2581-5b35-457b-8470-562b80432365"
      },
      "source": [
        "from pyspark.sql.functions import datediff, to_date, lit\n",
        "\n",
        "sdf7=sdf6.withColumn(\"Age\",(datediff(to_date(lit(\"2020-02-01\")),to_date(\"DOB\",\"yyyy/MM/dd\")))/366)\n",
        "sdf7.show()"
      ],
      "execution_count": null,
      "outputs": [
        {
          "output_type": "stream",
          "text": [
            "+----------+---------+-------------------+------+----+--------+-------+----+-----+-------------------+--------+-----------------+\n",
            "|Unnamed: 0|Person ID|                DOB|Gender|OREC|LTIMCAID|NEMCAID|ESRD|MCAID|         MODEL_YEAR|Age 2020|              Age|\n",
            "+----------+---------+-------------------+------+----+--------+-------+----+-----+-------------------+--------+-----------------+\n",
            "|         0| 95307787|1944-03-23 00:00:00|     1|   0|       1|      0|   1|    1|2020-02-01 00:00:00|      77|75.70491803278688|\n",
            "|         1| 67928991|1930-05-29 00:00:00|     2|   0|       1|      0|   0|    1|2020-02-02 00:00:00|      91|89.49453551912568|\n",
            "|         2|124623786|1948-07-30 00:00:00|     1|   0|       1|      0|   0|    0|2020-02-03 00:00:00|      73|71.36065573770492|\n",
            "|         3| 73717666|1935-06-12 00:00:00|     2|   0|       1|      0|   0|    1|2020-02-04 00:00:00|      86| 84.4672131147541|\n",
            "|         4|111693065|1927-05-03 00:00:00|     2|   0|       1|      0|   0|    0|2020-02-05 00:00:00|      94|92.56010928961749|\n",
            "|         5|120898337|1930-11-02 00:00:00|     2|   0|       1|      0|   1|    0|2020-02-06 00:00:00|      90|89.06557377049181|\n",
            "|         6|124116805|1933-02-14 00:00:00|     2|   0|       1|      0|   1|    0|2020-02-07 00:00:00|      88|86.78415300546447|\n",
            "|         7| 14464261|1962-07-27 00:00:00|     2|   1|       1|      0|   1|    1|2020-02-08 00:00:00|      59|57.39890710382514|\n",
            "|         8| 59011425|1929-06-10 00:00:00|     1|   0|       1|      0|   1|    1|2020-02-09 00:00:00|      92|90.45901639344262|\n",
            "|         9|155756563|1927-07-25 00:00:00|     2|   0|       1|      0|   0|    1|2020-02-10 00:00:00|      94|92.33333333333333|\n",
            "|        10| 24692817|1940-10-11 00:00:00|     2|   0|       1|      0|   0|    0|2020-02-11 00:00:00|      80|79.14480874316939|\n",
            "|        11| 30440111|1949-05-29 00:00:00|     1|   0|       1|      0|   0|    1|2020-02-12 00:00:00|      72| 70.5327868852459|\n",
            "|        12|  3281681|1927-07-22 00:00:00|     2|   0|       1|      0|   0|    0|2020-02-13 00:00:00|      94| 92.3415300546448|\n",
            "|        13| 11474346|1953-03-29 00:00:00|     2|   0|       1|      0|   1|    0|2020-02-14 00:00:00|      68|66.70765027322405|\n",
            "|        14|133798923|1934-01-24 00:00:00|     1|   0|       1|      0|   1|    0|2020-02-15 00:00:00|      87|85.84426229508196|\n",
            "|        15|119899350|1936-09-19 00:00:00|     2|   0|       1|      0|   1|    1|2020-02-16 00:00:00|      84|83.19672131147541|\n",
            "|        16|  5934555|1921-12-24 00:00:00|     1|   0|       1|      0|   1|    1|2020-02-17 00:00:00|      99|97.90437158469945|\n",
            "|        17| 57312531|1955-02-08 00:00:00|     1|   0|       1|      0|   0|    1|2020-02-18 00:00:00|      66|64.84699453551913|\n",
            "|        18|  6941119|1934-11-09 00:00:00|     1|   0|       1|      0|   0|    0|2020-02-19 00:00:00|      86|85.05464480874316|\n",
            "|        19| 95237592|1943-04-17 00:00:00|     1|   0|       1|      0|   0|    1|2020-02-20 00:00:00|      78|76.63661202185793|\n",
            "+----------+---------+-------------------+------+----+--------+-------+----+-----+-------------------+--------+-----------------+\n",
            "only showing top 20 rows\n",
            "\n"
          ],
          "name": "stdout"
        }
      ]
    },
    {
      "cell_type": "code",
      "metadata": {
        "id": "eNJB1UVdZsLK",
        "colab": {
          "base_uri": "https://localhost:8080/"
        },
        "outputId": "d1f2a2d9-e29b-4002-cff5-bb79fadae89a"
      },
      "source": [
        "#Calculating only Decimal Vlaues\n",
        "sdf8 = sdf7.withColumn(\"Age\", func.round(sdf7[\"Age\"], 2).cast('integer'))\n",
        "sdf8.show()"
      ],
      "execution_count": null,
      "outputs": [
        {
          "output_type": "stream",
          "text": [
            "+----------+---------+-------------------+------+----+--------+-------+----+-----+-------------------+--------+---+\n",
            "|Unnamed: 0|Person ID|                DOB|Gender|OREC|LTIMCAID|NEMCAID|ESRD|MCAID|         MODEL_YEAR|Age 2020|Age|\n",
            "+----------+---------+-------------------+------+----+--------+-------+----+-----+-------------------+--------+---+\n",
            "|         0| 95307787|1944-03-23 00:00:00|     1|   0|       1|      0|   1|    1|2020-02-01 00:00:00|      77| 75|\n",
            "|         1| 67928991|1930-05-29 00:00:00|     2|   0|       1|      0|   0|    1|2020-02-02 00:00:00|      91| 89|\n",
            "|         2|124623786|1948-07-30 00:00:00|     1|   0|       1|      0|   0|    0|2020-02-03 00:00:00|      73| 71|\n",
            "|         3| 73717666|1935-06-12 00:00:00|     2|   0|       1|      0|   0|    1|2020-02-04 00:00:00|      86| 84|\n",
            "|         4|111693065|1927-05-03 00:00:00|     2|   0|       1|      0|   0|    0|2020-02-05 00:00:00|      94| 92|\n",
            "|         5|120898337|1930-11-02 00:00:00|     2|   0|       1|      0|   1|    0|2020-02-06 00:00:00|      90| 89|\n",
            "|         6|124116805|1933-02-14 00:00:00|     2|   0|       1|      0|   1|    0|2020-02-07 00:00:00|      88| 86|\n",
            "|         7| 14464261|1962-07-27 00:00:00|     2|   1|       1|      0|   1|    1|2020-02-08 00:00:00|      59| 57|\n",
            "|         8| 59011425|1929-06-10 00:00:00|     1|   0|       1|      0|   1|    1|2020-02-09 00:00:00|      92| 90|\n",
            "|         9|155756563|1927-07-25 00:00:00|     2|   0|       1|      0|   0|    1|2020-02-10 00:00:00|      94| 92|\n",
            "|        10| 24692817|1940-10-11 00:00:00|     2|   0|       1|      0|   0|    0|2020-02-11 00:00:00|      80| 79|\n",
            "|        11| 30440111|1949-05-29 00:00:00|     1|   0|       1|      0|   0|    1|2020-02-12 00:00:00|      72| 70|\n",
            "|        12|  3281681|1927-07-22 00:00:00|     2|   0|       1|      0|   0|    0|2020-02-13 00:00:00|      94| 92|\n",
            "|        13| 11474346|1953-03-29 00:00:00|     2|   0|       1|      0|   1|    0|2020-02-14 00:00:00|      68| 66|\n",
            "|        14|133798923|1934-01-24 00:00:00|     1|   0|       1|      0|   1|    0|2020-02-15 00:00:00|      87| 85|\n",
            "|        15|119899350|1936-09-19 00:00:00|     2|   0|       1|      0|   1|    1|2020-02-16 00:00:00|      84| 83|\n",
            "|        16|  5934555|1921-12-24 00:00:00|     1|   0|       1|      0|   1|    1|2020-02-17 00:00:00|      99| 97|\n",
            "|        17| 57312531|1955-02-08 00:00:00|     1|   0|       1|      0|   0|    1|2020-02-18 00:00:00|      66| 64|\n",
            "|        18|  6941119|1934-11-09 00:00:00|     1|   0|       1|      0|   0|    0|2020-02-19 00:00:00|      86| 85|\n",
            "|        19| 95237592|1943-04-17 00:00:00|     1|   0|       1|      0|   0|    1|2020-02-20 00:00:00|      78| 76|\n",
            "+----------+---------+-------------------+------+----+--------+-------+----+-----+-------------------+--------+---+\n",
            "only showing top 20 rows\n",
            "\n"
          ],
          "name": "stdout"
        }
      ]
    },
    {
      "cell_type": "code",
      "metadata": {
        "id": "BgvtYw5uZsNk",
        "colab": {
          "base_uri": "https://localhost:8080/"
        },
        "outputId": "c7bd16b1-e519-4172-940e-e708fdeae4f8"
      },
      "source": [
        "#Droping uneccessary columns\n",
        "\n",
        "drop_list = [ 'Unnamed: 0',\"Age 2020\",\"\",\"\",\"\",\"\",\"\",\"\",\"\",\"\",\"\",\"\"]\n",
        "sdf9=sdf8.select([column for column in sdf8.columns if column not in drop_list])\n",
        "sdf9.show()"
      ],
      "execution_count": null,
      "outputs": [
        {
          "output_type": "stream",
          "text": [
            "+---------+-------------------+------+----+--------+-------+----+-----+-------------------+---+\n",
            "|Person ID|                DOB|Gender|OREC|LTIMCAID|NEMCAID|ESRD|MCAID|         MODEL_YEAR|Age|\n",
            "+---------+-------------------+------+----+--------+-------+----+-----+-------------------+---+\n",
            "| 95307787|1944-03-23 00:00:00|     1|   0|       1|      0|   1|    1|2020-02-01 00:00:00| 75|\n",
            "| 67928991|1930-05-29 00:00:00|     2|   0|       1|      0|   0|    1|2020-02-02 00:00:00| 89|\n",
            "|124623786|1948-07-30 00:00:00|     1|   0|       1|      0|   0|    0|2020-02-03 00:00:00| 71|\n",
            "| 73717666|1935-06-12 00:00:00|     2|   0|       1|      0|   0|    1|2020-02-04 00:00:00| 84|\n",
            "|111693065|1927-05-03 00:00:00|     2|   0|       1|      0|   0|    0|2020-02-05 00:00:00| 92|\n",
            "|120898337|1930-11-02 00:00:00|     2|   0|       1|      0|   1|    0|2020-02-06 00:00:00| 89|\n",
            "|124116805|1933-02-14 00:00:00|     2|   0|       1|      0|   1|    0|2020-02-07 00:00:00| 86|\n",
            "| 14464261|1962-07-27 00:00:00|     2|   1|       1|      0|   1|    1|2020-02-08 00:00:00| 57|\n",
            "| 59011425|1929-06-10 00:00:00|     1|   0|       1|      0|   1|    1|2020-02-09 00:00:00| 90|\n",
            "|155756563|1927-07-25 00:00:00|     2|   0|       1|      0|   0|    1|2020-02-10 00:00:00| 92|\n",
            "| 24692817|1940-10-11 00:00:00|     2|   0|       1|      0|   0|    0|2020-02-11 00:00:00| 79|\n",
            "| 30440111|1949-05-29 00:00:00|     1|   0|       1|      0|   0|    1|2020-02-12 00:00:00| 70|\n",
            "|  3281681|1927-07-22 00:00:00|     2|   0|       1|      0|   0|    0|2020-02-13 00:00:00| 92|\n",
            "| 11474346|1953-03-29 00:00:00|     2|   0|       1|      0|   1|    0|2020-02-14 00:00:00| 66|\n",
            "|133798923|1934-01-24 00:00:00|     1|   0|       1|      0|   1|    0|2020-02-15 00:00:00| 85|\n",
            "|119899350|1936-09-19 00:00:00|     2|   0|       1|      0|   1|    1|2020-02-16 00:00:00| 83|\n",
            "|  5934555|1921-12-24 00:00:00|     1|   0|       1|      0|   1|    1|2020-02-17 00:00:00| 97|\n",
            "| 57312531|1955-02-08 00:00:00|     1|   0|       1|      0|   0|    1|2020-02-18 00:00:00| 64|\n",
            "|  6941119|1934-11-09 00:00:00|     1|   0|       1|      0|   0|    0|2020-02-19 00:00:00| 85|\n",
            "| 95237592|1943-04-17 00:00:00|     1|   0|       1|      0|   0|    1|2020-02-20 00:00:00| 76|\n",
            "+---------+-------------------+------+----+--------+-------+----+-----+-------------------+---+\n",
            "only showing top 20 rows\n",
            "\n"
          ],
          "name": "stdout"
        }
      ]
    },
    {
      "cell_type": "code",
      "metadata": {
        "id": "8QICBjtbZsRH"
      },
      "source": [
        "#Merging columns - Final Dataframe for Age Module\n",
        "from functools import reduce  # For Python 3.x\n",
        "from pyspark.sql import DataFrame\n",
        "\n",
        "def unionAll(*dfs):\n",
        "    return reduce(DataFrame.unionAll, dfs)\n",
        "\n",
        "df=unionAll(sdf9, sdf5)\n",
        "# MODEL_YEAR"
      ],
      "execution_count": null,
      "outputs": []
    },
    {
      "cell_type": "code",
      "metadata": {
        "colab": {
          "base_uri": "https://localhost:8080/"
        },
        "id": "XBWsU1NZCVL-",
        "outputId": "04d61071-075b-4111-ea36-58b28f8f318c"
      },
      "source": [
        "df.show()"
      ],
      "execution_count": null,
      "outputs": [
        {
          "output_type": "stream",
          "text": [
            "+---------+-------------------+------+----+--------+-------+----+-----+-------------------+---+\n",
            "|Person ID|                DOB|Gender|OREC|LTIMCAID|NEMCAID|ESRD|MCAID|         MODEL_YEAR|Age|\n",
            "+---------+-------------------+------+----+--------+-------+----+-----+-------------------+---+\n",
            "| 95307787|1944-03-23 00:00:00|     1|   0|       1|      0|   1|    1|2020-02-01 00:00:00| 75|\n",
            "| 67928991|1930-05-29 00:00:00|     2|   0|       1|      0|   0|    1|2020-02-02 00:00:00| 89|\n",
            "|124623786|1948-07-30 00:00:00|     1|   0|       1|      0|   0|    0|2020-02-03 00:00:00| 71|\n",
            "| 73717666|1935-06-12 00:00:00|     2|   0|       1|      0|   0|    1|2020-02-04 00:00:00| 84|\n",
            "|111693065|1927-05-03 00:00:00|     2|   0|       1|      0|   0|    0|2020-02-05 00:00:00| 92|\n",
            "|120898337|1930-11-02 00:00:00|     2|   0|       1|      0|   1|    0|2020-02-06 00:00:00| 89|\n",
            "|124116805|1933-02-14 00:00:00|     2|   0|       1|      0|   1|    0|2020-02-07 00:00:00| 86|\n",
            "| 14464261|1962-07-27 00:00:00|     2|   1|       1|      0|   1|    1|2020-02-08 00:00:00| 57|\n",
            "| 59011425|1929-06-10 00:00:00|     1|   0|       1|      0|   1|    1|2020-02-09 00:00:00| 90|\n",
            "|155756563|1927-07-25 00:00:00|     2|   0|       1|      0|   0|    1|2020-02-10 00:00:00| 92|\n",
            "| 24692817|1940-10-11 00:00:00|     2|   0|       1|      0|   0|    0|2020-02-11 00:00:00| 79|\n",
            "| 30440111|1949-05-29 00:00:00|     1|   0|       1|      0|   0|    1|2020-02-12 00:00:00| 70|\n",
            "|  3281681|1927-07-22 00:00:00|     2|   0|       1|      0|   0|    0|2020-02-13 00:00:00| 92|\n",
            "| 11474346|1953-03-29 00:00:00|     2|   0|       1|      0|   1|    0|2020-02-14 00:00:00| 66|\n",
            "|133798923|1934-01-24 00:00:00|     1|   0|       1|      0|   1|    0|2020-02-15 00:00:00| 85|\n",
            "|119899350|1936-09-19 00:00:00|     2|   0|       1|      0|   1|    1|2020-02-16 00:00:00| 83|\n",
            "|  5934555|1921-12-24 00:00:00|     1|   0|       1|      0|   1|    1|2020-02-17 00:00:00| 97|\n",
            "| 57312531|1955-02-08 00:00:00|     1|   0|       1|      0|   0|    1|2020-02-18 00:00:00| 64|\n",
            "|  6941119|1934-11-09 00:00:00|     1|   0|       1|      0|   0|    0|2020-02-19 00:00:00| 85|\n",
            "| 95237592|1943-04-17 00:00:00|     1|   0|       1|      0|   0|    1|2020-02-20 00:00:00| 76|\n",
            "+---------+-------------------+------+----+--------+-------+----+-----+-------------------+---+\n",
            "only showing top 20 rows\n",
            "\n"
          ],
          "name": "stdout"
        }
      ]
    },
    {
      "cell_type": "code",
      "metadata": {
        "id": "CAvNBLGnZsd9",
        "colab": {
          "base_uri": "https://localhost:8080/"
        },
        "outputId": "274057fa-87ef-48a0-dfb9-258a316fbb97"
      },
      "source": [
        "df_Final1=df.sort(\"Person ID\").show(truncate=False)\n"
      ],
      "execution_count": null,
      "outputs": [
        {
          "output_type": "stream",
          "text": [
            "+---------+-------------------+------+----+--------+-------+----+-----+-------------------+---+\n",
            "|Person ID|DOB                |Gender|OREC|LTIMCAID|NEMCAID|ESRD|MCAID|MODEL_YEAR         |Age|\n",
            "+---------+-------------------+------+----+--------+-------+----+-----+-------------------+---+\n",
            "|1049180  |1937-07-31 00:00:00|1     |0   |1       |0      |1   |0    |2020-05-13 00:00:00|82 |\n",
            "|1049180  |1937-07-31 00:00:00|1     |0   |1       |0      |1   |0    |2021-02-01 00:00:00|83 |\n",
            "|1393478  |1938-03-12 00:00:00|2     |0   |1       |0      |1   |1    |2020-05-22 00:00:00|81 |\n",
            "|1393478  |1938-03-12 00:00:00|2     |0   |1       |0      |1   |1    |2021-02-01 00:00:00|82 |\n",
            "|2180921  |1951-01-21 00:00:00|1     |0   |1       |0      |0   |0    |2021-02-01 00:00:00|69 |\n",
            "|2180921  |1951-01-21 00:00:00|1     |0   |1       |0      |0   |0    |2020-12-31 00:00:00|68 |\n",
            "|2660169  |1943-05-20 00:00:00|1     |0   |1       |0      |1   |1    |2020-08-26 00:00:00|76 |\n",
            "|2660169  |1943-05-20 00:00:00|1     |0   |1       |0      |1   |1    |2021-02-01 00:00:00|77 |\n",
            "|2693705  |1977-07-26 00:00:00|2     |1   |1       |0      |1   |0    |2020-06-14 00:00:00|42 |\n",
            "|2693705  |1977-07-26 00:00:00|2     |1   |1       |0      |1   |0    |2021-02-01 00:00:00|43 |\n",
            "|2794680  |1946-01-20 00:00:00|1     |0   |1       |0      |0   |1    |2020-10-31 00:00:00|73 |\n",
            "|2794680  |1946-01-20 00:00:00|1     |0   |1       |0      |0   |1    |2021-02-01 00:00:00|74 |\n",
            "|3281681  |1927-07-22 00:00:00|2     |0   |1       |0      |0   |0    |2020-02-13 00:00:00|92 |\n",
            "|3281681  |1927-07-22 00:00:00|2     |0   |1       |0      |0   |0    |2021-02-01 00:00:00|93 |\n",
            "|3384119  |1943-09-22 00:00:00|2     |0   |1       |0      |1   |1    |2021-02-01 00:00:00|77 |\n",
            "|3384119  |1943-09-22 00:00:00|2     |0   |1       |0      |1   |1    |2020-03-03 00:00:00|76 |\n",
            "|4538476  |1996-12-16 00:00:00|2     |1   |1       |0      |1   |1    |2021-02-01 00:00:00|24 |\n",
            "|4538476  |1996-12-16 00:00:00|2     |1   |1       |0      |1   |1    |2020-12-31 00:00:00|23 |\n",
            "|4749967  |1948-09-07 00:00:00|1     |0   |1       |0      |1   |0    |2020-12-31 00:00:00|71 |\n",
            "|4749967  |1948-09-07 00:00:00|1     |0   |1       |0      |1   |0    |2021-02-01 00:00:00|72 |\n",
            "+---------+-------------------+------+----+--------+-------+----+-----+-------------------+---+\n",
            "only showing top 20 rows\n",
            "\n"
          ],
          "name": "stdout"
        }
      ]
    },
    {
      "cell_type": "markdown",
      "metadata": {
        "id": "f5Dcgu43P-pv"
      },
      "source": [
        "Himanshu:\n",
        "Can you please add the following condition to the age calculation:\n",
        "\n",
        "1.\tIf the age calculated = 64 and OREC = 0, then age = 65\n",
        "\n",
        "2.\tIf age calculated < 0  then age = 0\n",
        "\n",
        "OREC is one of the fields in the Person input file.\n",
        "\n",
        "Regards,\n",
        "Santhosh\n"
      ]
    },
    {
      "cell_type": "code",
      "metadata": {
        "colab": {
          "base_uri": "https://localhost:8080/",
          "height": 195
        },
        "id": "9O2DZOJbSPo1",
        "outputId": "3d31c796-049c-4e5e-8c8a-e82291242d45"
      },
      "source": [
        "from pyspark.sql.functions import struct\n",
        "\n",
        "from pyspark.sql.types import IntegerType\n",
        "from pyspark.sql.functions import udf\n",
        "\n",
        "def func(Age, OREC):\n",
        "  if Age == 64 or OREC == 0:\n",
        "    return 65\n",
        "  if Age < 0 :\n",
        "    return 0\n",
        "  return 0\n",
        "\n",
        "func_udf = udf(func, IntegerType())\n",
        "df = df_Final1.withColumn('new_column',func_udf(df_Final1['Age'], df_Final1['OREC']))"
      ],
      "execution_count": null,
      "outputs": [
        {
          "output_type": "error",
          "ename": "AttributeError",
          "evalue": "ignored",
          "traceback": [
            "\u001b[0;31m---------------------------------------------------------------------------\u001b[0m",
            "\u001b[0;31mAttributeError\u001b[0m                            Traceback (most recent call last)",
            "\u001b[0;32m<ipython-input-39-b0722bee847e>\u001b[0m in \u001b[0;36m<module>\u001b[0;34m()\u001b[0m\n\u001b[1;32m     12\u001b[0m \u001b[0;34m\u001b[0m\u001b[0m\n\u001b[1;32m     13\u001b[0m \u001b[0mfunc_udf\u001b[0m \u001b[0;34m=\u001b[0m \u001b[0mudf\u001b[0m\u001b[0;34m(\u001b[0m\u001b[0mfunc\u001b[0m\u001b[0;34m,\u001b[0m \u001b[0mIntegerType\u001b[0m\u001b[0;34m(\u001b[0m\u001b[0;34m)\u001b[0m\u001b[0;34m)\u001b[0m\u001b[0;34m\u001b[0m\u001b[0;34m\u001b[0m\u001b[0m\n\u001b[0;32m---> 14\u001b[0;31m \u001b[0mdf\u001b[0m \u001b[0;34m=\u001b[0m \u001b[0mdf_Final1\u001b[0m\u001b[0;34m.\u001b[0m\u001b[0mwithColumn\u001b[0m\u001b[0;34m(\u001b[0m\u001b[0;34m'new_column'\u001b[0m\u001b[0;34m,\u001b[0m\u001b[0mfunc_udf\u001b[0m\u001b[0;34m(\u001b[0m\u001b[0mstruct\u001b[0m\u001b[0;34m(\u001b[0m\u001b[0mdf_Final1\u001b[0m\u001b[0;34m[\u001b[0m\u001b[0;34m'Age'\u001b[0m\u001b[0;34m]\u001b[0m\u001b[0;34m,\u001b[0m \u001b[0mdf_Final1\u001b[0m\u001b[0;34m[\u001b[0m\u001b[0;34m'OREC'\u001b[0m\u001b[0;34m]\u001b[0m\u001b[0;34m)\u001b[0m\u001b[0;34m)\u001b[0m\u001b[0;34m)\u001b[0m\u001b[0;34m\u001b[0m\u001b[0;34m\u001b[0m\u001b[0m\n\u001b[0m",
            "\u001b[0;31mAttributeError\u001b[0m: 'NoneType' object has no attribute 'withColumn'"
          ]
        }
      ]
    },
    {
      "cell_type": "code",
      "metadata": {
        "colab": {
          "base_uri": "https://localhost:8080/",
          "height": 162
        },
        "id": "zn9p9WN9TsP0",
        "outputId": "6a57e05a-2fda-4a7f-9cba-b1e2d10c71eb"
      },
      "source": [
        ""
      ],
      "execution_count": null,
      "outputs": [
        {
          "output_type": "error",
          "ename": "AttributeError",
          "evalue": "ignored",
          "traceback": [
            "\u001b[0;31m---------------------------------------------------------------------------\u001b[0m",
            "\u001b[0;31mAttributeError\u001b[0m                            Traceback (most recent call last)",
            "\u001b[0;32m<ipython-input-54-2c8ff1ecb8f0>\u001b[0m in \u001b[0;36m<module>\u001b[0;34m()\u001b[0m\n\u001b[0;32m----> 1\u001b[0;31m \u001b[0mdf_Final1\u001b[0m\u001b[0;34m.\u001b[0m\u001b[0mdescribe\u001b[0m\u001b[0;34m(\u001b[0m\u001b[0;34m)\u001b[0m\u001b[0;34m\u001b[0m\u001b[0;34m\u001b[0m\u001b[0m\n\u001b[0m",
            "\u001b[0;31mAttributeError\u001b[0m: 'NoneType' object has no attribute 'describe'"
          ]
        }
      ]
    },
    {
      "cell_type": "code",
      "metadata": {
        "id": "U5pz3sFiZshk"
      },
      "source": [
        "df.toPandas().to_csv('Himanshu_AGE_Cal.csv')"
      ],
      "execution_count": null,
      "outputs": []
    },
    {
      "cell_type": "code",
      "metadata": {
        "id": "kBeJpKvFj-uM"
      },
      "source": [
        ""
      ],
      "execution_count": null,
      "outputs": []
    },
    {
      "cell_type": "markdown",
      "metadata": {
        "id": "KhG65EKtlp6C"
      },
      "source": [
        "**Please us the dataframe only for future codes- donot override above cells**\n",
        "**Himanshu**"
      ]
    },
    {
      "cell_type": "code",
      "metadata": {
        "id": "Rc3G-OExjtTh"
      },
      "source": [
        "# please write yor name who is working on below codes"
      ],
      "execution_count": null,
      "outputs": []
    },
    {
      "cell_type": "markdown",
      "metadata": {
        "id": "81nQa5ievgUo"
      },
      "source": [
        "## Demography Calculation\n",
        "\n",
        "Two Input Files\n",
        "  - Demography Variable Calculations.csv --> which has the Logic\n",
        "  - The Demograhy_File_updated --> having the Age\n",
        "\n",
        "Iterate over the Demography calculation file for each model year and model version to compute the demography variables and add it as new columns. Add 1s whereever the condition is met and 0s otherwise.\n",
        "\n",
        "Output an excel file for each Model year and version containing the demograpdy variables. Total 10 excel files to be generated"
      ]
    },
    {
      "cell_type": "code",
      "metadata": {
        "id": "LXRs4F2uj0hO",
        "colab": {
          "base_uri": "https://localhost:8080/",
          "height": 404
        },
        "outputId": "ba59827b-d3cf-4185-aeee-ecef775c885f"
      },
      "source": [
        "# Reading the file containing the logic\n",
        "import pandas as pd\n",
        "demo_file = pd.read_csv(\"Demography Variable Calculations.csv\")\n",
        "demo_file"
      ],
      "execution_count": null,
      "outputs": [
        {
          "output_type": "execute_result",
          "data": {
            "text/html": [
              "<div>\n",
              "<style scoped>\n",
              "    .dataframe tbody tr th:only-of-type {\n",
              "        vertical-align: middle;\n",
              "    }\n",
              "\n",
              "    .dataframe tbody tr th {\n",
              "        vertical-align: top;\n",
              "    }\n",
              "\n",
              "    .dataframe thead th {\n",
              "        text-align: right;\n",
              "    }\n",
              "</style>\n",
              "<table border=\"1\" class=\"dataframe\">\n",
              "  <thead>\n",
              "    <tr style=\"text-align: right;\">\n",
              "      <th></th>\n",
              "      <th>Year</th>\n",
              "      <th>Version</th>\n",
              "      <th>Variable</th>\n",
              "      <th>Logic</th>\n",
              "    </tr>\n",
              "  </thead>\n",
              "  <tbody>\n",
              "    <tr>\n",
              "      <th>0</th>\n",
              "      <td>2020</td>\n",
              "      <td>ESRD-P1</td>\n",
              "      <td>DISABL</td>\n",
              "      <td>CASE WHEN (AGEF &lt; 65 AND OREC &lt;&gt;'0') THEN 1 EL...</td>\n",
              "    </tr>\n",
              "    <tr>\n",
              "      <th>1</th>\n",
              "      <td>2020</td>\n",
              "      <td>ESRD-P2</td>\n",
              "      <td>DISABL</td>\n",
              "      <td>CASE WHEN (AGEF &lt; 65 AND OREC &lt;&gt;'0') THEN 1 EL...</td>\n",
              "    </tr>\n",
              "    <tr>\n",
              "      <th>2</th>\n",
              "      <td>2021</td>\n",
              "      <td>ESRD-P1</td>\n",
              "      <td>DISABL</td>\n",
              "      <td>CASE WHEN (AGEF &lt; 65 AND OREC &lt;&gt;'0') THEN 1 EL...</td>\n",
              "    </tr>\n",
              "    <tr>\n",
              "      <th>3</th>\n",
              "      <td>2021</td>\n",
              "      <td>ESRD-P2</td>\n",
              "      <td>DISABL</td>\n",
              "      <td>CASE WHEN (AGEF &lt; 65 AND OREC &lt;&gt;'0') THEN 1 EL...</td>\n",
              "    </tr>\n",
              "    <tr>\n",
              "      <th>4</th>\n",
              "      <td>2020</td>\n",
              "      <td>ESRD-P1</td>\n",
              "      <td>F0_34</td>\n",
              "      <td>CASE WHEN ((SEX = '2') AND (AGEF BETWEEN 0 AND...</td>\n",
              "    </tr>\n",
              "    <tr>\n",
              "      <th>...</th>\n",
              "      <td>...</td>\n",
              "      <td>...</td>\n",
              "      <td>...</td>\n",
              "      <td>...</td>\n",
              "    </tr>\n",
              "    <tr>\n",
              "      <th>737</th>\n",
              "      <td>2021</td>\n",
              "      <td>V24</td>\n",
              "      <td>NEM90_94</td>\n",
              "      <td>CASE WHEN (SEX = '1' AND (AGEF BETWEEN 90 AND ...</td>\n",
              "    </tr>\n",
              "    <tr>\n",
              "      <th>738</th>\n",
              "      <td>2021</td>\n",
              "      <td>V24</td>\n",
              "      <td>NEM95_GT</td>\n",
              "      <td>CASE WHEN (SEX = '1' AND (AGEF &gt; 94)) THEN 1 E...</td>\n",
              "    </tr>\n",
              "    <tr>\n",
              "      <th>739</th>\n",
              "      <td>2021</td>\n",
              "      <td>V24</td>\n",
              "      <td>NMCAID_NORIGDIS</td>\n",
              "      <td>CASE WHEN ((NEMCAID &lt;=0) and ((CASE WHEN ((AGE...</td>\n",
              "    </tr>\n",
              "    <tr>\n",
              "      <th>740</th>\n",
              "      <td>2021</td>\n",
              "      <td>V24</td>\n",
              "      <td>NMCAID_ORIGDIS</td>\n",
              "      <td>CASE WHEN ( (NEMCAID &lt;=0) and ((CASE WHEN ((AG...</td>\n",
              "    </tr>\n",
              "    <tr>\n",
              "      <th>741</th>\n",
              "      <td>2021</td>\n",
              "      <td>V24</td>\n",
              "      <td>ORIGDS</td>\n",
              "      <td>CASE WHEN ((OREC='1') AND ((CASE WHEN (AGEF &lt; ...</td>\n",
              "    </tr>\n",
              "  </tbody>\n",
              "</table>\n",
              "<p>742 rows × 4 columns</p>\n",
              "</div>"
            ],
            "text/plain": [
              "     Year  ...                                              Logic\n",
              "0    2020  ...  CASE WHEN (AGEF < 65 AND OREC <>'0') THEN 1 EL...\n",
              "1    2020  ...  CASE WHEN (AGEF < 65 AND OREC <>'0') THEN 1 EL...\n",
              "2    2021  ...  CASE WHEN (AGEF < 65 AND OREC <>'0') THEN 1 EL...\n",
              "3    2021  ...  CASE WHEN (AGEF < 65 AND OREC <>'0') THEN 1 EL...\n",
              "4    2020  ...  CASE WHEN ((SEX = '2') AND (AGEF BETWEEN 0 AND...\n",
              "..    ...  ...                                                ...\n",
              "737  2021  ...  CASE WHEN (SEX = '1' AND (AGEF BETWEEN 90 AND ...\n",
              "738  2021  ...  CASE WHEN (SEX = '1' AND (AGEF > 94)) THEN 1 E...\n",
              "739  2021  ...  CASE WHEN ((NEMCAID <=0) and ((CASE WHEN ((AGE...\n",
              "740  2021  ...  CASE WHEN ( (NEMCAID <=0) and ((CASE WHEN ((AG...\n",
              "741  2021  ...  CASE WHEN ((OREC='1') AND ((CASE WHEN (AGEF < ...\n",
              "\n",
              "[742 rows x 4 columns]"
            ]
          },
          "metadata": {
            "tags": []
          },
          "execution_count": 36
        }
      ]
    },
    {
      "cell_type": "code",
      "metadata": {
        "id": "j4GldaVmBtlb",
        "colab": {
          "base_uri": "https://localhost:8080/"
        },
        "outputId": "6c81ae0e-f709-4a4a-b008-6a33d4afb4e7"
      },
      "source": [
        "versions_demo = demo_file['Version'].unique().tolist()\n",
        "versions_demo"
      ],
      "execution_count": null,
      "outputs": [
        {
          "output_type": "execute_result",
          "data": {
            "text/plain": [
              "['ESRD-P1', 'ESRD-P2', 'RX', 'V22', 'V24']"
            ]
          },
          "metadata": {
            "tags": []
          },
          "execution_count": 37
        }
      ]
    },
    {
      "cell_type": "code",
      "metadata": {
        "id": "KBygP2DqAYKC",
        "colab": {
          "base_uri": "https://localhost:8080/"
        },
        "outputId": "2189597a-8955-4e2c-82e7-f76a2f3e1e7e"
      },
      "source": [
        "years_demo= demo_file['Year'].unique().tolist()\n",
        "years_demo"
      ],
      "execution_count": null,
      "outputs": [
        {
          "output_type": "execute_result",
          "data": {
            "text/plain": [
              "[2020, 2021]"
            ]
          },
          "metadata": {
            "tags": []
          },
          "execution_count": 38
        }
      ]
    },
    {
      "cell_type": "code",
      "metadata": {
        "colab": {
          "base_uri": "https://localhost:8080/",
          "height": 404
        },
        "id": "3yBU3XIcCxs9",
        "outputId": "71fb57c0-ed52-49a0-b96c-289d4ea583f0"
      },
      "source": [
        "# Himanshu's DataFrame containing Age for Model Year 2020 and 2021 - converting it to Pandas \n",
        "df_age = df.toPandas()\n",
        "df_age"
      ],
      "execution_count": null,
      "outputs": [
        {
          "output_type": "execute_result",
          "data": {
            "text/html": [
              "<div>\n",
              "<style scoped>\n",
              "    .dataframe tbody tr th:only-of-type {\n",
              "        vertical-align: middle;\n",
              "    }\n",
              "\n",
              "    .dataframe tbody tr th {\n",
              "        vertical-align: top;\n",
              "    }\n",
              "\n",
              "    .dataframe thead th {\n",
              "        text-align: right;\n",
              "    }\n",
              "</style>\n",
              "<table border=\"1\" class=\"dataframe\">\n",
              "  <thead>\n",
              "    <tr style=\"text-align: right;\">\n",
              "      <th></th>\n",
              "      <th>Person ID</th>\n",
              "      <th>DOB</th>\n",
              "      <th>Gender</th>\n",
              "      <th>OREC</th>\n",
              "      <th>LTIMCAID</th>\n",
              "      <th>NEMCAID</th>\n",
              "      <th>ESRD</th>\n",
              "      <th>MCAID</th>\n",
              "      <th>MODEL_YEAR</th>\n",
              "      <th>Age</th>\n",
              "    </tr>\n",
              "  </thead>\n",
              "  <tbody>\n",
              "    <tr>\n",
              "      <th>0</th>\n",
              "      <td>95307787</td>\n",
              "      <td>1944-03-23</td>\n",
              "      <td>1</td>\n",
              "      <td>0</td>\n",
              "      <td>1</td>\n",
              "      <td>0</td>\n",
              "      <td>1</td>\n",
              "      <td>1</td>\n",
              "      <td>2020-02-01</td>\n",
              "      <td>75</td>\n",
              "    </tr>\n",
              "    <tr>\n",
              "      <th>1</th>\n",
              "      <td>67928991</td>\n",
              "      <td>1930-05-29</td>\n",
              "      <td>2</td>\n",
              "      <td>0</td>\n",
              "      <td>1</td>\n",
              "      <td>0</td>\n",
              "      <td>0</td>\n",
              "      <td>1</td>\n",
              "      <td>2020-02-02</td>\n",
              "      <td>89</td>\n",
              "    </tr>\n",
              "    <tr>\n",
              "      <th>2</th>\n",
              "      <td>124623786</td>\n",
              "      <td>1948-07-30</td>\n",
              "      <td>1</td>\n",
              "      <td>0</td>\n",
              "      <td>1</td>\n",
              "      <td>0</td>\n",
              "      <td>0</td>\n",
              "      <td>0</td>\n",
              "      <td>2020-02-03</td>\n",
              "      <td>71</td>\n",
              "    </tr>\n",
              "    <tr>\n",
              "      <th>3</th>\n",
              "      <td>73717666</td>\n",
              "      <td>1935-06-12</td>\n",
              "      <td>2</td>\n",
              "      <td>0</td>\n",
              "      <td>1</td>\n",
              "      <td>0</td>\n",
              "      <td>0</td>\n",
              "      <td>1</td>\n",
              "      <td>2020-02-04</td>\n",
              "      <td>84</td>\n",
              "    </tr>\n",
              "    <tr>\n",
              "      <th>4</th>\n",
              "      <td>111693065</td>\n",
              "      <td>1927-05-03</td>\n",
              "      <td>2</td>\n",
              "      <td>0</td>\n",
              "      <td>1</td>\n",
              "      <td>0</td>\n",
              "      <td>0</td>\n",
              "      <td>0</td>\n",
              "      <td>2020-02-05</td>\n",
              "      <td>92</td>\n",
              "    </tr>\n",
              "    <tr>\n",
              "      <th>...</th>\n",
              "      <td>...</td>\n",
              "      <td>...</td>\n",
              "      <td>...</td>\n",
              "      <td>...</td>\n",
              "      <td>...</td>\n",
              "      <td>...</td>\n",
              "      <td>...</td>\n",
              "      <td>...</td>\n",
              "      <td>...</td>\n",
              "      <td>...</td>\n",
              "    </tr>\n",
              "    <tr>\n",
              "      <th>995</th>\n",
              "      <td>40752647</td>\n",
              "      <td>1953-10-14</td>\n",
              "      <td>2</td>\n",
              "      <td>0</td>\n",
              "      <td>1</td>\n",
              "      <td>0</td>\n",
              "      <td>1</td>\n",
              "      <td>1</td>\n",
              "      <td>2021-02-01</td>\n",
              "      <td>67</td>\n",
              "    </tr>\n",
              "    <tr>\n",
              "      <th>996</th>\n",
              "      <td>150788750</td>\n",
              "      <td>1953-10-15</td>\n",
              "      <td>1</td>\n",
              "      <td>0</td>\n",
              "      <td>1</td>\n",
              "      <td>0</td>\n",
              "      <td>1</td>\n",
              "      <td>1</td>\n",
              "      <td>2021-02-01</td>\n",
              "      <td>67</td>\n",
              "    </tr>\n",
              "    <tr>\n",
              "      <th>997</th>\n",
              "      <td>87823398</td>\n",
              "      <td>1966-09-24</td>\n",
              "      <td>2</td>\n",
              "      <td>1</td>\n",
              "      <td>1</td>\n",
              "      <td>0</td>\n",
              "      <td>0</td>\n",
              "      <td>1</td>\n",
              "      <td>2021-02-01</td>\n",
              "      <td>54</td>\n",
              "    </tr>\n",
              "    <tr>\n",
              "      <th>998</th>\n",
              "      <td>77246378</td>\n",
              "      <td>1953-09-26</td>\n",
              "      <td>2</td>\n",
              "      <td>0</td>\n",
              "      <td>1</td>\n",
              "      <td>0</td>\n",
              "      <td>0</td>\n",
              "      <td>0</td>\n",
              "      <td>2021-02-01</td>\n",
              "      <td>67</td>\n",
              "    </tr>\n",
              "    <tr>\n",
              "      <th>999</th>\n",
              "      <td>20266147</td>\n",
              "      <td>1966-10-07</td>\n",
              "      <td>2</td>\n",
              "      <td>1</td>\n",
              "      <td>1</td>\n",
              "      <td>0</td>\n",
              "      <td>0</td>\n",
              "      <td>1</td>\n",
              "      <td>2021-02-01</td>\n",
              "      <td>54</td>\n",
              "    </tr>\n",
              "  </tbody>\n",
              "</table>\n",
              "<p>1000 rows × 10 columns</p>\n",
              "</div>"
            ],
            "text/plain": [
              "     Person ID        DOB  Gender  OREC  ...  ESRD  MCAID  MODEL_YEAR  Age\n",
              "0     95307787 1944-03-23       1     0  ...     1      1  2020-02-01   75\n",
              "1     67928991 1930-05-29       2     0  ...     0      1  2020-02-02   89\n",
              "2    124623786 1948-07-30       1     0  ...     0      0  2020-02-03   71\n",
              "3     73717666 1935-06-12       2     0  ...     0      1  2020-02-04   84\n",
              "4    111693065 1927-05-03       2     0  ...     0      0  2020-02-05   92\n",
              "..         ...        ...     ...   ...  ...   ...    ...         ...  ...\n",
              "995   40752647 1953-10-14       2     0  ...     1      1  2021-02-01   67\n",
              "996  150788750 1953-10-15       1     0  ...     1      1  2021-02-01   67\n",
              "997   87823398 1966-09-24       2     1  ...     0      1  2021-02-01   54\n",
              "998   77246378 1953-09-26       2     0  ...     0      0  2021-02-01   67\n",
              "999   20266147 1966-10-07       2     1  ...     0      1  2021-02-01   54\n",
              "\n",
              "[1000 rows x 10 columns]"
            ]
          },
          "metadata": {
            "tags": []
          },
          "execution_count": 39
        }
      ]
    },
    {
      "cell_type": "code",
      "metadata": {
        "colab": {
          "base_uri": "https://localhost:8080/",
          "height": 404
        },
        "id": "p_XXz8INDdsD",
        "outputId": "7dd18be9-610a-40d1-ce77-37f1d351f3b8"
      },
      "source": [
        "# Extracting only the year part from Model_Year\n",
        "df_age['Year'] = pd.DatetimeIndex(df_age['MODEL_YEAR']).year\n",
        "df_age"
      ],
      "execution_count": null,
      "outputs": [
        {
          "output_type": "execute_result",
          "data": {
            "text/html": [
              "<div>\n",
              "<style scoped>\n",
              "    .dataframe tbody tr th:only-of-type {\n",
              "        vertical-align: middle;\n",
              "    }\n",
              "\n",
              "    .dataframe tbody tr th {\n",
              "        vertical-align: top;\n",
              "    }\n",
              "\n",
              "    .dataframe thead th {\n",
              "        text-align: right;\n",
              "    }\n",
              "</style>\n",
              "<table border=\"1\" class=\"dataframe\">\n",
              "  <thead>\n",
              "    <tr style=\"text-align: right;\">\n",
              "      <th></th>\n",
              "      <th>Person ID</th>\n",
              "      <th>DOB</th>\n",
              "      <th>Gender</th>\n",
              "      <th>OREC</th>\n",
              "      <th>LTIMCAID</th>\n",
              "      <th>NEMCAID</th>\n",
              "      <th>ESRD</th>\n",
              "      <th>MCAID</th>\n",
              "      <th>MODEL_YEAR</th>\n",
              "      <th>Age</th>\n",
              "      <th>Year</th>\n",
              "    </tr>\n",
              "  </thead>\n",
              "  <tbody>\n",
              "    <tr>\n",
              "      <th>0</th>\n",
              "      <td>95307787</td>\n",
              "      <td>1944-03-23</td>\n",
              "      <td>1</td>\n",
              "      <td>0</td>\n",
              "      <td>1</td>\n",
              "      <td>0</td>\n",
              "      <td>1</td>\n",
              "      <td>1</td>\n",
              "      <td>2020-02-01</td>\n",
              "      <td>75</td>\n",
              "      <td>2020</td>\n",
              "    </tr>\n",
              "    <tr>\n",
              "      <th>1</th>\n",
              "      <td>67928991</td>\n",
              "      <td>1930-05-29</td>\n",
              "      <td>2</td>\n",
              "      <td>0</td>\n",
              "      <td>1</td>\n",
              "      <td>0</td>\n",
              "      <td>0</td>\n",
              "      <td>1</td>\n",
              "      <td>2020-02-02</td>\n",
              "      <td>89</td>\n",
              "      <td>2020</td>\n",
              "    </tr>\n",
              "    <tr>\n",
              "      <th>2</th>\n",
              "      <td>124623786</td>\n",
              "      <td>1948-07-30</td>\n",
              "      <td>1</td>\n",
              "      <td>0</td>\n",
              "      <td>1</td>\n",
              "      <td>0</td>\n",
              "      <td>0</td>\n",
              "      <td>0</td>\n",
              "      <td>2020-02-03</td>\n",
              "      <td>71</td>\n",
              "      <td>2020</td>\n",
              "    </tr>\n",
              "    <tr>\n",
              "      <th>3</th>\n",
              "      <td>73717666</td>\n",
              "      <td>1935-06-12</td>\n",
              "      <td>2</td>\n",
              "      <td>0</td>\n",
              "      <td>1</td>\n",
              "      <td>0</td>\n",
              "      <td>0</td>\n",
              "      <td>1</td>\n",
              "      <td>2020-02-04</td>\n",
              "      <td>84</td>\n",
              "      <td>2020</td>\n",
              "    </tr>\n",
              "    <tr>\n",
              "      <th>4</th>\n",
              "      <td>111693065</td>\n",
              "      <td>1927-05-03</td>\n",
              "      <td>2</td>\n",
              "      <td>0</td>\n",
              "      <td>1</td>\n",
              "      <td>0</td>\n",
              "      <td>0</td>\n",
              "      <td>0</td>\n",
              "      <td>2020-02-05</td>\n",
              "      <td>92</td>\n",
              "      <td>2020</td>\n",
              "    </tr>\n",
              "    <tr>\n",
              "      <th>...</th>\n",
              "      <td>...</td>\n",
              "      <td>...</td>\n",
              "      <td>...</td>\n",
              "      <td>...</td>\n",
              "      <td>...</td>\n",
              "      <td>...</td>\n",
              "      <td>...</td>\n",
              "      <td>...</td>\n",
              "      <td>...</td>\n",
              "      <td>...</td>\n",
              "      <td>...</td>\n",
              "    </tr>\n",
              "    <tr>\n",
              "      <th>995</th>\n",
              "      <td>40752647</td>\n",
              "      <td>1953-10-14</td>\n",
              "      <td>2</td>\n",
              "      <td>0</td>\n",
              "      <td>1</td>\n",
              "      <td>0</td>\n",
              "      <td>1</td>\n",
              "      <td>1</td>\n",
              "      <td>2021-02-01</td>\n",
              "      <td>67</td>\n",
              "      <td>2021</td>\n",
              "    </tr>\n",
              "    <tr>\n",
              "      <th>996</th>\n",
              "      <td>150788750</td>\n",
              "      <td>1953-10-15</td>\n",
              "      <td>1</td>\n",
              "      <td>0</td>\n",
              "      <td>1</td>\n",
              "      <td>0</td>\n",
              "      <td>1</td>\n",
              "      <td>1</td>\n",
              "      <td>2021-02-01</td>\n",
              "      <td>67</td>\n",
              "      <td>2021</td>\n",
              "    </tr>\n",
              "    <tr>\n",
              "      <th>997</th>\n",
              "      <td>87823398</td>\n",
              "      <td>1966-09-24</td>\n",
              "      <td>2</td>\n",
              "      <td>1</td>\n",
              "      <td>1</td>\n",
              "      <td>0</td>\n",
              "      <td>0</td>\n",
              "      <td>1</td>\n",
              "      <td>2021-02-01</td>\n",
              "      <td>54</td>\n",
              "      <td>2021</td>\n",
              "    </tr>\n",
              "    <tr>\n",
              "      <th>998</th>\n",
              "      <td>77246378</td>\n",
              "      <td>1953-09-26</td>\n",
              "      <td>2</td>\n",
              "      <td>0</td>\n",
              "      <td>1</td>\n",
              "      <td>0</td>\n",
              "      <td>0</td>\n",
              "      <td>0</td>\n",
              "      <td>2021-02-01</td>\n",
              "      <td>67</td>\n",
              "      <td>2021</td>\n",
              "    </tr>\n",
              "    <tr>\n",
              "      <th>999</th>\n",
              "      <td>20266147</td>\n",
              "      <td>1966-10-07</td>\n",
              "      <td>2</td>\n",
              "      <td>1</td>\n",
              "      <td>1</td>\n",
              "      <td>0</td>\n",
              "      <td>0</td>\n",
              "      <td>1</td>\n",
              "      <td>2021-02-01</td>\n",
              "      <td>54</td>\n",
              "      <td>2021</td>\n",
              "    </tr>\n",
              "  </tbody>\n",
              "</table>\n",
              "<p>1000 rows × 11 columns</p>\n",
              "</div>"
            ],
            "text/plain": [
              "     Person ID        DOB  Gender  OREC  ...  MCAID  MODEL_YEAR  Age  Year\n",
              "0     95307787 1944-03-23       1     0  ...      1  2020-02-01   75  2020\n",
              "1     67928991 1930-05-29       2     0  ...      1  2020-02-02   89  2020\n",
              "2    124623786 1948-07-30       1     0  ...      0  2020-02-03   71  2020\n",
              "3     73717666 1935-06-12       2     0  ...      1  2020-02-04   84  2020\n",
              "4    111693065 1927-05-03       2     0  ...      0  2020-02-05   92  2020\n",
              "..         ...        ...     ...   ...  ...    ...         ...  ...   ...\n",
              "995   40752647 1953-10-14       2     0  ...      1  2021-02-01   67  2021\n",
              "996  150788750 1953-10-15       1     0  ...      1  2021-02-01   67  2021\n",
              "997   87823398 1966-09-24       2     1  ...      1  2021-02-01   54  2021\n",
              "998   77246378 1953-09-26       2     0  ...      0  2021-02-01   67  2021\n",
              "999   20266147 1966-10-07       2     1  ...      1  2021-02-01   54  2021\n",
              "\n",
              "[1000 rows x 11 columns]"
            ]
          },
          "metadata": {
            "tags": []
          },
          "execution_count": 40
        }
      ]
    },
    {
      "cell_type": "code",
      "metadata": {
        "id": "PDaNQ6f_fAC7"
      },
      "source": [
        "# df = pd.read_excel ('Demography_File_updated.xlsx')\n",
        "# df"
      ],
      "execution_count": null,
      "outputs": []
    },
    {
      "cell_type": "code",
      "metadata": {
        "id": "Ca7wPL2wAyUr",
        "colab": {
          "base_uri": "https://localhost:8080/",
          "height": 436
        },
        "outputId": "7cd64cc8-82e4-4b28-b9fb-62d1275ae017"
      },
      "source": [
        "from pyspark.sql.functions import datediff, to_date, lit\n",
        "from pyspark.sql.functions import col, expr, when\n",
        "import pyspark.sql.functions as F\n",
        "from pyspark.sql.types import *\n",
        "\n",
        "for version in versions_demo:\n",
        "  for model_year in years_demo:\n",
        "\n",
        "    df1 = df_age.copy()\n",
        "    data = spark.createDataFrame(df1)\n",
        "    \n",
        "    demo = (spark.read.format(\"csv\").options(header=\"true\").load(\"/content/Demography Variable Calculations.csv\"))\n",
        "    \n",
        "    #demo_temp = df_DV.loc[(df_DV['Model Version']==str(version)) & (df_DV['Model Year']== year)]\n",
        "\n",
        "    demo = demo.filter((demo['Version'] == version) & (demo['Year'] == model_year))\n",
        "    data = data.where(F.col('Year') == model_year)\n",
        "    data = data.withColumn(\"Version\", lit(str(version)))\n",
        "\n",
        "    for i in demo.collect():\n",
        "      data = data.withColumn(i[2], expr(i[3]))\n",
        "\n",
        "    data.toPandas().to_excel(str(version)+'_'+ str(model_year)+ str('DV')+ '.xlsx')"
      ],
      "execution_count": null,
      "outputs": [
        {
          "output_type": "error",
          "ename": "AnalysisException",
          "evalue": "ignored",
          "traceback": [
            "\u001b[0;31m---------------------------------------------------------------------------\u001b[0m",
            "\u001b[0;31mAnalysisException\u001b[0m                         Traceback (most recent call last)",
            "\u001b[0;32m<ipython-input-42-68544b69743c>\u001b[0m in \u001b[0;36m<module>\u001b[0;34m()\u001b[0m\n\u001b[1;32m     19\u001b[0m \u001b[0;34m\u001b[0m\u001b[0m\n\u001b[1;32m     20\u001b[0m     \u001b[0;32mfor\u001b[0m \u001b[0mi\u001b[0m \u001b[0;32min\u001b[0m \u001b[0mdemo\u001b[0m\u001b[0;34m.\u001b[0m\u001b[0mcollect\u001b[0m\u001b[0;34m(\u001b[0m\u001b[0;34m)\u001b[0m\u001b[0;34m:\u001b[0m\u001b[0;34m\u001b[0m\u001b[0;34m\u001b[0m\u001b[0m\n\u001b[0;32m---> 21\u001b[0;31m       \u001b[0mdata\u001b[0m \u001b[0;34m=\u001b[0m \u001b[0mdata\u001b[0m\u001b[0;34m.\u001b[0m\u001b[0mwithColumn\u001b[0m\u001b[0;34m(\u001b[0m\u001b[0mi\u001b[0m\u001b[0;34m[\u001b[0m\u001b[0;36m2\u001b[0m\u001b[0;34m]\u001b[0m\u001b[0;34m,\u001b[0m \u001b[0mexpr\u001b[0m\u001b[0;34m(\u001b[0m\u001b[0mi\u001b[0m\u001b[0;34m[\u001b[0m\u001b[0;36m3\u001b[0m\u001b[0;34m]\u001b[0m\u001b[0;34m)\u001b[0m\u001b[0;34m)\u001b[0m\u001b[0;34m\u001b[0m\u001b[0;34m\u001b[0m\u001b[0m\n\u001b[0m\u001b[1;32m     22\u001b[0m \u001b[0;34m\u001b[0m\u001b[0m\n\u001b[1;32m     23\u001b[0m     \u001b[0mdata\u001b[0m\u001b[0;34m.\u001b[0m\u001b[0mtoPandas\u001b[0m\u001b[0;34m(\u001b[0m\u001b[0;34m)\u001b[0m\u001b[0;34m.\u001b[0m\u001b[0mto_excel\u001b[0m\u001b[0;34m(\u001b[0m\u001b[0mstr\u001b[0m\u001b[0;34m(\u001b[0m\u001b[0mversion\u001b[0m\u001b[0;34m)\u001b[0m\u001b[0;34m+\u001b[0m\u001b[0;34m'_'\u001b[0m\u001b[0;34m+\u001b[0m \u001b[0mstr\u001b[0m\u001b[0;34m(\u001b[0m\u001b[0mmodel_year\u001b[0m\u001b[0;34m)\u001b[0m\u001b[0;34m+\u001b[0m \u001b[0mstr\u001b[0m\u001b[0;34m(\u001b[0m\u001b[0;34m'DV'\u001b[0m\u001b[0;34m)\u001b[0m\u001b[0;34m+\u001b[0m \u001b[0;34m'.xlsx'\u001b[0m\u001b[0;34m)\u001b[0m\u001b[0;34m\u001b[0m\u001b[0;34m\u001b[0m\u001b[0m\n",
            "\u001b[0;32m/content/spark-3.0.2-bin-hadoop2.7/python/pyspark/sql/dataframe.py\u001b[0m in \u001b[0;36mwithColumn\u001b[0;34m(self, colName, col)\u001b[0m\n\u001b[1;32m   2094\u001b[0m         \"\"\"\n\u001b[1;32m   2095\u001b[0m         \u001b[0;32massert\u001b[0m \u001b[0misinstance\u001b[0m\u001b[0;34m(\u001b[0m\u001b[0mcol\u001b[0m\u001b[0;34m,\u001b[0m \u001b[0mColumn\u001b[0m\u001b[0;34m)\u001b[0m\u001b[0;34m,\u001b[0m \u001b[0;34m\"col should be Column\"\u001b[0m\u001b[0;34m\u001b[0m\u001b[0;34m\u001b[0m\u001b[0m\n\u001b[0;32m-> 2096\u001b[0;31m         \u001b[0;32mreturn\u001b[0m \u001b[0mDataFrame\u001b[0m\u001b[0;34m(\u001b[0m\u001b[0mself\u001b[0m\u001b[0;34m.\u001b[0m\u001b[0m_jdf\u001b[0m\u001b[0;34m.\u001b[0m\u001b[0mwithColumn\u001b[0m\u001b[0;34m(\u001b[0m\u001b[0mcolName\u001b[0m\u001b[0;34m,\u001b[0m \u001b[0mcol\u001b[0m\u001b[0;34m.\u001b[0m\u001b[0m_jc\u001b[0m\u001b[0;34m)\u001b[0m\u001b[0;34m,\u001b[0m \u001b[0mself\u001b[0m\u001b[0;34m.\u001b[0m\u001b[0msql_ctx\u001b[0m\u001b[0;34m)\u001b[0m\u001b[0;34m\u001b[0m\u001b[0;34m\u001b[0m\u001b[0m\n\u001b[0m\u001b[1;32m   2097\u001b[0m \u001b[0;34m\u001b[0m\u001b[0m\n\u001b[1;32m   2098\u001b[0m     \u001b[0;34m@\u001b[0m\u001b[0mignore_unicode_prefix\u001b[0m\u001b[0;34m\u001b[0m\u001b[0;34m\u001b[0m\u001b[0m\n",
            "\u001b[0;32m/content/spark-3.0.2-bin-hadoop2.7/python/lib/py4j-0.10.9-src.zip/py4j/java_gateway.py\u001b[0m in \u001b[0;36m__call__\u001b[0;34m(self, *args)\u001b[0m\n\u001b[1;32m   1303\u001b[0m         \u001b[0manswer\u001b[0m \u001b[0;34m=\u001b[0m \u001b[0mself\u001b[0m\u001b[0;34m.\u001b[0m\u001b[0mgateway_client\u001b[0m\u001b[0;34m.\u001b[0m\u001b[0msend_command\u001b[0m\u001b[0;34m(\u001b[0m\u001b[0mcommand\u001b[0m\u001b[0;34m)\u001b[0m\u001b[0;34m\u001b[0m\u001b[0;34m\u001b[0m\u001b[0m\n\u001b[1;32m   1304\u001b[0m         return_value = get_return_value(\n\u001b[0;32m-> 1305\u001b[0;31m             answer, self.gateway_client, self.target_id, self.name)\n\u001b[0m\u001b[1;32m   1306\u001b[0m \u001b[0;34m\u001b[0m\u001b[0m\n\u001b[1;32m   1307\u001b[0m         \u001b[0;32mfor\u001b[0m \u001b[0mtemp_arg\u001b[0m \u001b[0;32min\u001b[0m \u001b[0mtemp_args\u001b[0m\u001b[0;34m:\u001b[0m\u001b[0;34m\u001b[0m\u001b[0;34m\u001b[0m\u001b[0m\n",
            "\u001b[0;32m/content/spark-3.0.2-bin-hadoop2.7/python/pyspark/sql/utils.py\u001b[0m in \u001b[0;36mdeco\u001b[0;34m(*a, **kw)\u001b[0m\n\u001b[1;32m    132\u001b[0m                 \u001b[0;31m# Hide where the exception came from that shows a non-Pythonic\u001b[0m\u001b[0;34m\u001b[0m\u001b[0;34m\u001b[0m\u001b[0;34m\u001b[0m\u001b[0m\n\u001b[1;32m    133\u001b[0m                 \u001b[0;31m# JVM exception message.\u001b[0m\u001b[0;34m\u001b[0m\u001b[0;34m\u001b[0m\u001b[0;34m\u001b[0m\u001b[0m\n\u001b[0;32m--> 134\u001b[0;31m                 \u001b[0mraise_from\u001b[0m\u001b[0;34m(\u001b[0m\u001b[0mconverted\u001b[0m\u001b[0;34m)\u001b[0m\u001b[0;34m\u001b[0m\u001b[0;34m\u001b[0m\u001b[0m\n\u001b[0m\u001b[1;32m    135\u001b[0m             \u001b[0;32melse\u001b[0m\u001b[0;34m:\u001b[0m\u001b[0;34m\u001b[0m\u001b[0;34m\u001b[0m\u001b[0m\n\u001b[1;32m    136\u001b[0m                 \u001b[0;32mraise\u001b[0m\u001b[0;34m\u001b[0m\u001b[0;34m\u001b[0m\u001b[0m\n",
            "\u001b[0;32m/content/spark-3.0.2-bin-hadoop2.7/python/pyspark/sql/utils.py\u001b[0m in \u001b[0;36mraise_from\u001b[0;34m(e)\u001b[0m\n",
            "\u001b[0;31mAnalysisException\u001b[0m: cannot resolve '`AGEF`' given input columns: [Age, DOB, ESRD, Gender, LTIMCAID, MCAID, MODEL_YEAR, NEMCAID, OREC, Person ID, Version, Year]; line 1 pos 11;\n'Project [Person ID#760L, DOB#761, Gender#762L, OREC#763L, LTIMCAID#764L, NEMCAID#765L, ESRD#766L, MCAID#767L, MODEL_YEAR#768, Age#769L, Year#770L, Version#806, CASE WHEN (('AGEF < 65) AND NOT (OREC#763L = cast(0 as bigint))) THEN 1 ELSE 0 END AS DISABL#823]\n+- Project [Person ID#760L, DOB#761, Gender#762L, OREC#763L, LTIMCAID#764L, NEMCAID#765L, ESRD#766L, MCAID#767L, MODEL_YEAR#768, Age#769L, Year#770L, ESRD-P1 AS Version#806]\n   +- Filter (Year#770L = cast(2020 as bigint))\n      +- LogicalRDD [Person ID#760L, DOB#761, Gender#762L, OREC#763L, LTIMCAID#764L, NEMCAID#765L, ESRD#766L, MCAID#767L, MODEL_YEAR#768, Age#769L, Year#770L], false\n"
          ]
        }
      ]
    },
    {
      "cell_type": "code",
      "metadata": {
        "id": "lcH-3pRPFrzv"
      },
      "source": [
        ""
      ],
      "execution_count": null,
      "outputs": []
    },
    {
      "cell_type": "markdown",
      "metadata": {
        "id": "CauRegcyfDJ_"
      },
      "source": [
        "### CC_Mapping\n",
        "Required csv files for execution:\n",
        "* CC Mapping.csv\n",
        "* Diagnosis Input File.csv\n",
        "\n",
        "Input is these 2 files. Output from this is 10 different mapped excel files for each model year and version\n",
        "\n",
        "* For every model year and model version, we find HCC values from CC Mapping file where dignosis code in Diagnosis Input File is equal to diagnosis code in CC Mapping file.\n",
        "* Obtain all unique HCC values present in CC mapping file.\n",
        "* Generate new columns with column names as HCC values obtained from Step 2. \n",
        "* Add 1's to corresponding rows where HCC value = HCC column value \n",
        "* Output excel files for respective year and version containing the new mapped HCC columns.\n"
      ]
    },
    {
      "cell_type": "code",
      "metadata": {
        "id": "YN0uSxxQe_Au"
      },
      "source": [
        "import pandas as pd\n",
        "import numpy as np\n",
        "\n",
        "df_diagnosis = pd.read_csv('Diagnosis Input File.csv')\n",
        "df_diagnosis = spark.createDataFrame(df_diagnosis)"
      ],
      "execution_count": null,
      "outputs": []
    },
    {
      "cell_type": "code",
      "metadata": {
        "id": "vbH5D6NxfqC0",
        "colab": {
          "base_uri": "https://localhost:8080/"
        },
        "outputId": "331924ff-e0a5-436e-90f0-e9fed6040bc7"
      },
      "source": [
        "#To See columns or Features names\n",
        "df_diagnosis.printSchema()"
      ],
      "execution_count": null,
      "outputs": [
        {
          "output_type": "stream",
          "text": [
            "root\n",
            " |-- PERSON ID: long (nullable = true)\n",
            " |-- DIAGNOSIS CODE: string (nullable = true)\n",
            "\n"
          ],
          "name": "stdout"
        }
      ]
    },
    {
      "cell_type": "code",
      "metadata": {
        "id": "L08yNPjUfq0I",
        "colab": {
          "base_uri": "https://localhost:8080/"
        },
        "outputId": "59b4a6fb-5594-4dd8-ce74-b4e59caaa553"
      },
      "source": [
        "df_diagnosis.show(10)"
      ],
      "execution_count": null,
      "outputs": [
        {
          "output_type": "stream",
          "text": [
            "+---------+--------------+\n",
            "|PERSON ID|DIAGNOSIS CODE|\n",
            "+---------+--------------+\n",
            "| 95307787|       E1165  |\n",
            "| 95307787|       E1122  |\n",
            "| 95307787|       E230   |\n",
            "| 95307787|       E119   |\n",
            "| 95307787|       E1151  |\n",
            "| 95307787|       E1121  |\n",
            "| 95307787|       E1129  |\n",
            "| 67928991|       I739   |\n",
            "| 67928991|       J449   |\n",
            "| 67928991|       I70213 |\n",
            "+---------+--------------+\n",
            "only showing top 10 rows\n",
            "\n"
          ],
          "name": "stdout"
        }
      ]
    },
    {
      "cell_type": "code",
      "metadata": {
        "id": "2SAlMMhufqxd"
      },
      "source": [
        "from pyspark.sql.functions import length,col,trim\n",
        "from pyspark.sql.functions import UserDefinedFunction\n",
        "from pyspark.sql.types import *\n",
        "\n",
        "\n",
        "df_diagnosis = df_diagnosis.withColumn('DIAGNOSIS CODE',trim(col(\"DIAGNOSIS CODE\")))\n"
      ],
      "execution_count": null,
      "outputs": []
    },
    {
      "cell_type": "code",
      "metadata": {
        "id": "pduz9USEfquu",
        "colab": {
          "base_uri": "https://localhost:8080/"
        },
        "outputId": "e705087d-460b-46fd-d200-56666a35f7fc"
      },
      "source": [
        "df_diagnosis.show(5)"
      ],
      "execution_count": null,
      "outputs": [
        {
          "output_type": "stream",
          "text": [
            "+---------+--------------+\n",
            "|PERSON ID|DIAGNOSIS CODE|\n",
            "+---------+--------------+\n",
            "| 95307787|         E1165|\n",
            "| 95307787|         E1122|\n",
            "| 95307787|          E230|\n",
            "| 95307787|          E119|\n",
            "| 95307787|         E1151|\n",
            "+---------+--------------+\n",
            "only showing top 5 rows\n",
            "\n"
          ],
          "name": "stdout"
        }
      ]
    },
    {
      "cell_type": "code",
      "metadata": {
        "id": "S1mSX69UfqsS"
      },
      "source": [
        "#Loading Data\n",
        "from pyspark.sql.types import StructType,StructField\n",
        "from pyspark.sql.types import *\n",
        "df_CC_mapping = pd.read_csv('CC Mapping.csv')\n",
        "\n",
        "\n",
        "label_schema = StructType([\n",
        "    StructField(\"YEAR\", StringType()),\n",
        "    StructField(\"VERSION\", StringType()),\n",
        "    StructField(\"DIAGNOSIS CODE\", StringType()),\n",
        "    StructField(\"CC\", IntegerType())\n",
        "])\n",
        "\n",
        "df_CC_mapping = spark.createDataFrame(df_CC_mapping,schema= label_schema)"
      ],
      "execution_count": null,
      "outputs": []
    },
    {
      "cell_type": "code",
      "metadata": {
        "id": "jdzuDSN8fqpo",
        "colab": {
          "base_uri": "https://localhost:8080/"
        },
        "outputId": "adef4b92-d7bc-42b5-8a1e-15081c449f6b"
      },
      "source": [
        "df_CC_mapping.printSchema()"
      ],
      "execution_count": null,
      "outputs": [
        {
          "output_type": "stream",
          "text": [
            "root\n",
            " |-- YEAR: string (nullable = true)\n",
            " |-- VERSION: string (nullable = true)\n",
            " |-- DIAGNOSIS CODE: string (nullable = true)\n",
            " |-- CC: integer (nullable = true)\n",
            "\n"
          ],
          "name": "stdout"
        }
      ]
    },
    {
      "cell_type": "code",
      "metadata": {
        "id": "TJayplV_fqmx",
        "colab": {
          "base_uri": "https://localhost:8080/"
        },
        "outputId": "a75856f7-cdb3-47a1-fb86-c016ac2090a7"
      },
      "source": [
        "df_CC_mapping.show(10)"
      ],
      "execution_count": null,
      "outputs": [
        {
          "output_type": "stream",
          "text": [
            "+----+-------+--------------+---+\n",
            "|YEAR|VERSION|DIAGNOSIS CODE| CC|\n",
            "+----+-------+--------------+---+\n",
            "|2020|     RX|          A072|  5|\n",
            "|2020|     RX|          A310|  5|\n",
            "|2020|     RX|          A312|  5|\n",
            "|2020|     RX|         A3681|186|\n",
            "|2020|     RX|          A391| 41|\n",
            "|2020|     RX|         A5204|206|\n",
            "|2020|     RX|         A8100|112|\n",
            "|2020|     RX|         A8101|112|\n",
            "|2020|     RX|         A8109|112|\n",
            "|2020|     RX|          A811|112|\n",
            "+----+-------+--------------+---+\n",
            "only showing top 10 rows\n",
            "\n"
          ],
          "name": "stdout"
        }
      ]
    },
    {
      "cell_type": "code",
      "metadata": {
        "id": "Av1TQpD4fqkM",
        "colab": {
          "base_uri": "https://localhost:8080/"
        },
        "outputId": "ba843051-a560-40ca-d816-6e795bb0fa70"
      },
      "source": [
        "model_years= [i.YEAR for i in df_CC_mapping.select('YEAR').distinct().collect()]\n",
        "model_years\n"
      ],
      "execution_count": null,
      "outputs": [
        {
          "output_type": "execute_result",
          "data": {
            "text/plain": [
              "['2020', '2021']"
            ]
          },
          "metadata": {
            "tags": []
          },
          "execution_count": 23
        }
      ]
    },
    {
      "cell_type": "code",
      "metadata": {
        "id": "ijPnJ5DWf8Av",
        "colab": {
          "base_uri": "https://localhost:8080/"
        },
        "outputId": "2e99c226-89fd-489a-cc4f-7ba93c4a98ec"
      },
      "source": [
        "versions= [i.VERSION for i in df_CC_mapping.select('VERSION').distinct().collect()]\n",
        "versions"
      ],
      "execution_count": null,
      "outputs": [
        {
          "output_type": "execute_result",
          "data": {
            "text/plain": [
              "['V24', 'V22', 'ESRD-P1', 'ESRD-P2', 'RX']"
            ]
          },
          "metadata": {
            "tags": []
          },
          "execution_count": 24
        }
      ]
    },
    {
      "cell_type": "code",
      "metadata": {
        "id": "tUFWPhWVf7-y"
      },
      "source": [
        "import time"
      ],
      "execution_count": null,
      "outputs": []
    },
    {
      "cell_type": "code",
      "metadata": {
        "id": "6NVoPL7ff77i",
        "colab": {
          "base_uri": "https://localhost:8080/"
        },
        "outputId": "cffb9e8d-a474-48c3-9336-e6af9d8f9df2"
      },
      "source": [
        "from pyspark.sql import functions as F\n",
        "from pyspark.sql.functions import col\n",
        "import numpy as np\n",
        "\n",
        "\n",
        "start=time.time()\n",
        "# for year in model_years:\n",
        "#   for version in versions:\n",
        "cond1= col('YEAR')== str(Choose_a_model_year)\n",
        "cond2= col('VERSION')== str(Choose_a_model_version)\n",
        "df_temp= df_CC_mapping.where(cond1 & cond2)\n",
        "\n",
        "\n",
        "\n",
        "# df_temp.show(5)\n",
        "df_temp= df_temp.toDF('YEAR','VERSION','D_DIAG CODE','CC')\n",
        "\n",
        "\n",
        "h= df_temp.join(df_diagnosis,(df_diagnosis[\"DIAGNOSIS CODE\"] == df_temp[\"D_DIAG CODE\"]),how='right')  # Mtachin diagnosis codes from diagnosis input file and CC_mapping file\n",
        "\n",
        "unique_HCC= sorted([i.CC for i in df_temp.select('CC').distinct().collect()]) #Finding all unique values of HCC and storing it in a list to generate HCC columns later\n",
        "\n",
        "CC_list = h.select(\"CC\").rdd.flatMap(lambda x: x).collect()\n",
        "\n",
        "p_id = h.select(\"PERSON ID\").rdd.flatMap(lambda x: x).collect()\n",
        "\n",
        "diag_code= h.select(\"DIAGNOSIS CODE\").rdd.flatMap(lambda x: x).collect()\n",
        "\n",
        "\n",
        "\n",
        "df_main= pd.DataFrame()\n",
        "df_main['PERSON ID']= p_id\n",
        "df_main['DIAGNOSIS CODE']= diag_code \n",
        "\n",
        "\n",
        "df_main['HCC']= CC_list  # CC values obtained after mapping from Part 2.\n",
        "df_main['HCC'] = list(df_main['HCC'].astype(np.float).astype(\"Int32\"))\n",
        "\n",
        "df_main['MODEL YEAR']= str(Choose_a_model_year)\n",
        "df_main['Version']=str(Choose_a_model_version)\n",
        "\n",
        "# df_main\n",
        "if 'RX' in Choose_a_model_version:\n",
        "  columns_df=[]\n",
        "  for value in (unique_HCC):\n",
        "    columns_df.append('RXHCC'+str(value)) # Example: RXHCC1,RXHCC2,RXHCC3 etc\n",
        "  #print(columns_df)\n",
        "  for colum in range(len(columns_df)):\n",
        "    df_main[columns_df[colum]]=0  #adding zero's to every column \n",
        "\n",
        "  for v in range(len(df_main)):                         \n",
        "    df_main.at[v,'RXHCC'+ str(df_main.iloc[v][2])]=1   # Adding 1's to columns. Example if df_main['HCC'][10]= 22, then adding a 1 in HCC10 column in the 9th row. \n",
        "\n",
        "  df_main = df_main.drop(df_main.columns[-1],axis=1)\n",
        "  #df_main.to_excel(str(Choose_a_model_version)+'_'+str(Choose_a_model_year)+'.xlsx')\n",
        "\n",
        "\n",
        "else:\n",
        "  # Part 5: Creating new columns with column names as HCC values obtained from Part 4\n",
        "  columns_df=[]\n",
        "  for value in (unique_HCC):\n",
        "    columns_df.append('HCC'+str(value)) # Example: HCC1,HCC2,HCC3 etc\n",
        "  #print(columns_df)\n",
        "  for colum in range(len(columns_df)):\n",
        "    df_main[columns_df[colum]]=0  #adding zero's to every column \n",
        "\n",
        "  for v in range(len(df_main)):                         \n",
        "    df_main.at[v,'HCC'+ str(df_main.iloc[v][2])]=1   # Adding 1's to columns. Example if df_main['HCC'][10]= 22, then adding a 1 in HCC10 column in the 9th row. \n",
        "\n",
        "  df_main = df_main.drop(df_main.columns[-1],axis=1)\n",
        "  #df_main.to_excel(str(Choose_a_model_version)+'_'+str(Choose_a_model_year)+'.xlsx')\n",
        "\n",
        "print(time.time()-start)"
      ],
      "execution_count": null,
      "outputs": [
        {
          "output_type": "stream",
          "text": [
            "42.99209666252136\n"
          ],
          "name": "stdout"
        }
      ]
    },
    {
      "cell_type": "code",
      "metadata": {
        "colab": {
          "base_uri": "https://localhost:8080/",
          "height": 255
        },
        "id": "1yFb2UGnfvwr",
        "outputId": "22edd8bb-5200-48d8-85f2-3bc7610302bc"
      },
      "source": [
        "df_main.head()"
      ],
      "execution_count": null,
      "outputs": [
        {
          "output_type": "execute_result",
          "data": {
            "text/html": [
              "<div>\n",
              "<style scoped>\n",
              "    .dataframe tbody tr th:only-of-type {\n",
              "        vertical-align: middle;\n",
              "    }\n",
              "\n",
              "    .dataframe tbody tr th {\n",
              "        vertical-align: top;\n",
              "    }\n",
              "\n",
              "    .dataframe thead th {\n",
              "        text-align: right;\n",
              "    }\n",
              "</style>\n",
              "<table border=\"1\" class=\"dataframe\">\n",
              "  <thead>\n",
              "    <tr style=\"text-align: right;\">\n",
              "      <th></th>\n",
              "      <th>PERSON ID</th>\n",
              "      <th>DIAGNOSIS CODE</th>\n",
              "      <th>HCC</th>\n",
              "      <th>MODEL YEAR</th>\n",
              "      <th>Version</th>\n",
              "      <th>HCC1</th>\n",
              "      <th>HCC2</th>\n",
              "      <th>HCC6</th>\n",
              "      <th>HCC8</th>\n",
              "      <th>HCC9</th>\n",
              "      <th>HCC10</th>\n",
              "      <th>HCC11</th>\n",
              "      <th>HCC12</th>\n",
              "      <th>HCC17</th>\n",
              "      <th>HCC18</th>\n",
              "      <th>HCC19</th>\n",
              "      <th>HCC21</th>\n",
              "      <th>HCC22</th>\n",
              "      <th>HCC23</th>\n",
              "      <th>HCC27</th>\n",
              "      <th>HCC28</th>\n",
              "      <th>HCC29</th>\n",
              "      <th>HCC33</th>\n",
              "      <th>HCC34</th>\n",
              "      <th>HCC35</th>\n",
              "      <th>HCC39</th>\n",
              "      <th>HCC40</th>\n",
              "      <th>HCC46</th>\n",
              "      <th>HCC47</th>\n",
              "      <th>HCC48</th>\n",
              "      <th>HCC51</th>\n",
              "      <th>HCC52</th>\n",
              "      <th>HCC54</th>\n",
              "      <th>HCC55</th>\n",
              "      <th>HCC56</th>\n",
              "      <th>HCC57</th>\n",
              "      <th>HCC58</th>\n",
              "      <th>HCC59</th>\n",
              "      <th>HCC60</th>\n",
              "      <th>HCC70</th>\n",
              "      <th>...</th>\n",
              "      <th>HCC83</th>\n",
              "      <th>HCC84</th>\n",
              "      <th>HCC85</th>\n",
              "      <th>HCC86</th>\n",
              "      <th>HCC87</th>\n",
              "      <th>HCC88</th>\n",
              "      <th>HCC96</th>\n",
              "      <th>HCC99</th>\n",
              "      <th>HCC100</th>\n",
              "      <th>HCC103</th>\n",
              "      <th>HCC104</th>\n",
              "      <th>HCC106</th>\n",
              "      <th>HCC107</th>\n",
              "      <th>HCC108</th>\n",
              "      <th>HCC110</th>\n",
              "      <th>HCC111</th>\n",
              "      <th>HCC112</th>\n",
              "      <th>HCC114</th>\n",
              "      <th>HCC115</th>\n",
              "      <th>HCC122</th>\n",
              "      <th>HCC124</th>\n",
              "      <th>HCC134</th>\n",
              "      <th>HCC135</th>\n",
              "      <th>HCC136</th>\n",
              "      <th>HCC137</th>\n",
              "      <th>HCC138</th>\n",
              "      <th>HCC157</th>\n",
              "      <th>HCC158</th>\n",
              "      <th>HCC159</th>\n",
              "      <th>HCC161</th>\n",
              "      <th>HCC162</th>\n",
              "      <th>HCC166</th>\n",
              "      <th>HCC167</th>\n",
              "      <th>HCC169</th>\n",
              "      <th>HCC170</th>\n",
              "      <th>HCC173</th>\n",
              "      <th>HCC176</th>\n",
              "      <th>HCC186</th>\n",
              "      <th>HCC188</th>\n",
              "      <th>HCC189</th>\n",
              "    </tr>\n",
              "  </thead>\n",
              "  <tbody>\n",
              "    <tr>\n",
              "      <th>0</th>\n",
              "      <td>59011425</td>\n",
              "      <td>N179</td>\n",
              "      <td>135</td>\n",
              "      <td>2021</td>\n",
              "      <td>V24</td>\n",
              "      <td>0</td>\n",
              "      <td>0</td>\n",
              "      <td>0</td>\n",
              "      <td>0</td>\n",
              "      <td>0</td>\n",
              "      <td>0</td>\n",
              "      <td>0</td>\n",
              "      <td>0</td>\n",
              "      <td>0</td>\n",
              "      <td>0</td>\n",
              "      <td>0</td>\n",
              "      <td>0</td>\n",
              "      <td>0</td>\n",
              "      <td>0</td>\n",
              "      <td>0</td>\n",
              "      <td>0</td>\n",
              "      <td>0</td>\n",
              "      <td>0</td>\n",
              "      <td>0</td>\n",
              "      <td>0</td>\n",
              "      <td>0</td>\n",
              "      <td>0</td>\n",
              "      <td>0</td>\n",
              "      <td>0</td>\n",
              "      <td>0</td>\n",
              "      <td>0</td>\n",
              "      <td>0</td>\n",
              "      <td>0</td>\n",
              "      <td>0</td>\n",
              "      <td>0</td>\n",
              "      <td>0</td>\n",
              "      <td>0</td>\n",
              "      <td>0</td>\n",
              "      <td>0</td>\n",
              "      <td>0</td>\n",
              "      <td>...</td>\n",
              "      <td>0</td>\n",
              "      <td>0</td>\n",
              "      <td>0</td>\n",
              "      <td>0</td>\n",
              "      <td>0</td>\n",
              "      <td>0</td>\n",
              "      <td>0</td>\n",
              "      <td>0</td>\n",
              "      <td>0</td>\n",
              "      <td>0</td>\n",
              "      <td>0</td>\n",
              "      <td>0</td>\n",
              "      <td>0</td>\n",
              "      <td>0</td>\n",
              "      <td>0</td>\n",
              "      <td>0</td>\n",
              "      <td>0</td>\n",
              "      <td>0</td>\n",
              "      <td>0</td>\n",
              "      <td>0</td>\n",
              "      <td>0</td>\n",
              "      <td>0</td>\n",
              "      <td>1</td>\n",
              "      <td>0</td>\n",
              "      <td>0</td>\n",
              "      <td>0</td>\n",
              "      <td>0</td>\n",
              "      <td>0</td>\n",
              "      <td>0</td>\n",
              "      <td>0</td>\n",
              "      <td>0</td>\n",
              "      <td>0</td>\n",
              "      <td>0</td>\n",
              "      <td>0</td>\n",
              "      <td>0</td>\n",
              "      <td>0</td>\n",
              "      <td>0</td>\n",
              "      <td>0</td>\n",
              "      <td>0</td>\n",
              "      <td>0</td>\n",
              "    </tr>\n",
              "    <tr>\n",
              "      <th>1</th>\n",
              "      <td>71251632</td>\n",
              "      <td>N179</td>\n",
              "      <td>135</td>\n",
              "      <td>2021</td>\n",
              "      <td>V24</td>\n",
              "      <td>0</td>\n",
              "      <td>0</td>\n",
              "      <td>0</td>\n",
              "      <td>0</td>\n",
              "      <td>0</td>\n",
              "      <td>0</td>\n",
              "      <td>0</td>\n",
              "      <td>0</td>\n",
              "      <td>0</td>\n",
              "      <td>0</td>\n",
              "      <td>0</td>\n",
              "      <td>0</td>\n",
              "      <td>0</td>\n",
              "      <td>0</td>\n",
              "      <td>0</td>\n",
              "      <td>0</td>\n",
              "      <td>0</td>\n",
              "      <td>0</td>\n",
              "      <td>0</td>\n",
              "      <td>0</td>\n",
              "      <td>0</td>\n",
              "      <td>0</td>\n",
              "      <td>0</td>\n",
              "      <td>0</td>\n",
              "      <td>0</td>\n",
              "      <td>0</td>\n",
              "      <td>0</td>\n",
              "      <td>0</td>\n",
              "      <td>0</td>\n",
              "      <td>0</td>\n",
              "      <td>0</td>\n",
              "      <td>0</td>\n",
              "      <td>0</td>\n",
              "      <td>0</td>\n",
              "      <td>0</td>\n",
              "      <td>...</td>\n",
              "      <td>0</td>\n",
              "      <td>0</td>\n",
              "      <td>0</td>\n",
              "      <td>0</td>\n",
              "      <td>0</td>\n",
              "      <td>0</td>\n",
              "      <td>0</td>\n",
              "      <td>0</td>\n",
              "      <td>0</td>\n",
              "      <td>0</td>\n",
              "      <td>0</td>\n",
              "      <td>0</td>\n",
              "      <td>0</td>\n",
              "      <td>0</td>\n",
              "      <td>0</td>\n",
              "      <td>0</td>\n",
              "      <td>0</td>\n",
              "      <td>0</td>\n",
              "      <td>0</td>\n",
              "      <td>0</td>\n",
              "      <td>0</td>\n",
              "      <td>0</td>\n",
              "      <td>1</td>\n",
              "      <td>0</td>\n",
              "      <td>0</td>\n",
              "      <td>0</td>\n",
              "      <td>0</td>\n",
              "      <td>0</td>\n",
              "      <td>0</td>\n",
              "      <td>0</td>\n",
              "      <td>0</td>\n",
              "      <td>0</td>\n",
              "      <td>0</td>\n",
              "      <td>0</td>\n",
              "      <td>0</td>\n",
              "      <td>0</td>\n",
              "      <td>0</td>\n",
              "      <td>0</td>\n",
              "      <td>0</td>\n",
              "      <td>0</td>\n",
              "    </tr>\n",
              "    <tr>\n",
              "      <th>2</th>\n",
              "      <td>157598647</td>\n",
              "      <td>N179</td>\n",
              "      <td>135</td>\n",
              "      <td>2021</td>\n",
              "      <td>V24</td>\n",
              "      <td>0</td>\n",
              "      <td>0</td>\n",
              "      <td>0</td>\n",
              "      <td>0</td>\n",
              "      <td>0</td>\n",
              "      <td>0</td>\n",
              "      <td>0</td>\n",
              "      <td>0</td>\n",
              "      <td>0</td>\n",
              "      <td>0</td>\n",
              "      <td>0</td>\n",
              "      <td>0</td>\n",
              "      <td>0</td>\n",
              "      <td>0</td>\n",
              "      <td>0</td>\n",
              "      <td>0</td>\n",
              "      <td>0</td>\n",
              "      <td>0</td>\n",
              "      <td>0</td>\n",
              "      <td>0</td>\n",
              "      <td>0</td>\n",
              "      <td>0</td>\n",
              "      <td>0</td>\n",
              "      <td>0</td>\n",
              "      <td>0</td>\n",
              "      <td>0</td>\n",
              "      <td>0</td>\n",
              "      <td>0</td>\n",
              "      <td>0</td>\n",
              "      <td>0</td>\n",
              "      <td>0</td>\n",
              "      <td>0</td>\n",
              "      <td>0</td>\n",
              "      <td>0</td>\n",
              "      <td>0</td>\n",
              "      <td>...</td>\n",
              "      <td>0</td>\n",
              "      <td>0</td>\n",
              "      <td>0</td>\n",
              "      <td>0</td>\n",
              "      <td>0</td>\n",
              "      <td>0</td>\n",
              "      <td>0</td>\n",
              "      <td>0</td>\n",
              "      <td>0</td>\n",
              "      <td>0</td>\n",
              "      <td>0</td>\n",
              "      <td>0</td>\n",
              "      <td>0</td>\n",
              "      <td>0</td>\n",
              "      <td>0</td>\n",
              "      <td>0</td>\n",
              "      <td>0</td>\n",
              "      <td>0</td>\n",
              "      <td>0</td>\n",
              "      <td>0</td>\n",
              "      <td>0</td>\n",
              "      <td>0</td>\n",
              "      <td>1</td>\n",
              "      <td>0</td>\n",
              "      <td>0</td>\n",
              "      <td>0</td>\n",
              "      <td>0</td>\n",
              "      <td>0</td>\n",
              "      <td>0</td>\n",
              "      <td>0</td>\n",
              "      <td>0</td>\n",
              "      <td>0</td>\n",
              "      <td>0</td>\n",
              "      <td>0</td>\n",
              "      <td>0</td>\n",
              "      <td>0</td>\n",
              "      <td>0</td>\n",
              "      <td>0</td>\n",
              "      <td>0</td>\n",
              "      <td>0</td>\n",
              "    </tr>\n",
              "    <tr>\n",
              "      <th>3</th>\n",
              "      <td>1049180</td>\n",
              "      <td>N179</td>\n",
              "      <td>135</td>\n",
              "      <td>2021</td>\n",
              "      <td>V24</td>\n",
              "      <td>0</td>\n",
              "      <td>0</td>\n",
              "      <td>0</td>\n",
              "      <td>0</td>\n",
              "      <td>0</td>\n",
              "      <td>0</td>\n",
              "      <td>0</td>\n",
              "      <td>0</td>\n",
              "      <td>0</td>\n",
              "      <td>0</td>\n",
              "      <td>0</td>\n",
              "      <td>0</td>\n",
              "      <td>0</td>\n",
              "      <td>0</td>\n",
              "      <td>0</td>\n",
              "      <td>0</td>\n",
              "      <td>0</td>\n",
              "      <td>0</td>\n",
              "      <td>0</td>\n",
              "      <td>0</td>\n",
              "      <td>0</td>\n",
              "      <td>0</td>\n",
              "      <td>0</td>\n",
              "      <td>0</td>\n",
              "      <td>0</td>\n",
              "      <td>0</td>\n",
              "      <td>0</td>\n",
              "      <td>0</td>\n",
              "      <td>0</td>\n",
              "      <td>0</td>\n",
              "      <td>0</td>\n",
              "      <td>0</td>\n",
              "      <td>0</td>\n",
              "      <td>0</td>\n",
              "      <td>0</td>\n",
              "      <td>...</td>\n",
              "      <td>0</td>\n",
              "      <td>0</td>\n",
              "      <td>0</td>\n",
              "      <td>0</td>\n",
              "      <td>0</td>\n",
              "      <td>0</td>\n",
              "      <td>0</td>\n",
              "      <td>0</td>\n",
              "      <td>0</td>\n",
              "      <td>0</td>\n",
              "      <td>0</td>\n",
              "      <td>0</td>\n",
              "      <td>0</td>\n",
              "      <td>0</td>\n",
              "      <td>0</td>\n",
              "      <td>0</td>\n",
              "      <td>0</td>\n",
              "      <td>0</td>\n",
              "      <td>0</td>\n",
              "      <td>0</td>\n",
              "      <td>0</td>\n",
              "      <td>0</td>\n",
              "      <td>1</td>\n",
              "      <td>0</td>\n",
              "      <td>0</td>\n",
              "      <td>0</td>\n",
              "      <td>0</td>\n",
              "      <td>0</td>\n",
              "      <td>0</td>\n",
              "      <td>0</td>\n",
              "      <td>0</td>\n",
              "      <td>0</td>\n",
              "      <td>0</td>\n",
              "      <td>0</td>\n",
              "      <td>0</td>\n",
              "      <td>0</td>\n",
              "      <td>0</td>\n",
              "      <td>0</td>\n",
              "      <td>0</td>\n",
              "      <td>0</td>\n",
              "    </tr>\n",
              "    <tr>\n",
              "      <th>4</th>\n",
              "      <td>123742578</td>\n",
              "      <td>N179</td>\n",
              "      <td>135</td>\n",
              "      <td>2021</td>\n",
              "      <td>V24</td>\n",
              "      <td>0</td>\n",
              "      <td>0</td>\n",
              "      <td>0</td>\n",
              "      <td>0</td>\n",
              "      <td>0</td>\n",
              "      <td>0</td>\n",
              "      <td>0</td>\n",
              "      <td>0</td>\n",
              "      <td>0</td>\n",
              "      <td>0</td>\n",
              "      <td>0</td>\n",
              "      <td>0</td>\n",
              "      <td>0</td>\n",
              "      <td>0</td>\n",
              "      <td>0</td>\n",
              "      <td>0</td>\n",
              "      <td>0</td>\n",
              "      <td>0</td>\n",
              "      <td>0</td>\n",
              "      <td>0</td>\n",
              "      <td>0</td>\n",
              "      <td>0</td>\n",
              "      <td>0</td>\n",
              "      <td>0</td>\n",
              "      <td>0</td>\n",
              "      <td>0</td>\n",
              "      <td>0</td>\n",
              "      <td>0</td>\n",
              "      <td>0</td>\n",
              "      <td>0</td>\n",
              "      <td>0</td>\n",
              "      <td>0</td>\n",
              "      <td>0</td>\n",
              "      <td>0</td>\n",
              "      <td>0</td>\n",
              "      <td>...</td>\n",
              "      <td>0</td>\n",
              "      <td>0</td>\n",
              "      <td>0</td>\n",
              "      <td>0</td>\n",
              "      <td>0</td>\n",
              "      <td>0</td>\n",
              "      <td>0</td>\n",
              "      <td>0</td>\n",
              "      <td>0</td>\n",
              "      <td>0</td>\n",
              "      <td>0</td>\n",
              "      <td>0</td>\n",
              "      <td>0</td>\n",
              "      <td>0</td>\n",
              "      <td>0</td>\n",
              "      <td>0</td>\n",
              "      <td>0</td>\n",
              "      <td>0</td>\n",
              "      <td>0</td>\n",
              "      <td>0</td>\n",
              "      <td>0</td>\n",
              "      <td>0</td>\n",
              "      <td>1</td>\n",
              "      <td>0</td>\n",
              "      <td>0</td>\n",
              "      <td>0</td>\n",
              "      <td>0</td>\n",
              "      <td>0</td>\n",
              "      <td>0</td>\n",
              "      <td>0</td>\n",
              "      <td>0</td>\n",
              "      <td>0</td>\n",
              "      <td>0</td>\n",
              "      <td>0</td>\n",
              "      <td>0</td>\n",
              "      <td>0</td>\n",
              "      <td>0</td>\n",
              "      <td>0</td>\n",
              "      <td>0</td>\n",
              "      <td>0</td>\n",
              "    </tr>\n",
              "  </tbody>\n",
              "</table>\n",
              "<p>5 rows × 91 columns</p>\n",
              "</div>"
            ],
            "text/plain": [
              "   PERSON ID DIAGNOSIS CODE  HCC MODEL YEAR  ... HCC176  HCC186  HCC188  HCC189\n",
              "0   59011425           N179  135       2021  ...      0       0       0       0\n",
              "1   71251632           N179  135       2021  ...      0       0       0       0\n",
              "2  157598647           N179  135       2021  ...      0       0       0       0\n",
              "3    1049180           N179  135       2021  ...      0       0       0       0\n",
              "4  123742578           N179  135       2021  ...      0       0       0       0\n",
              "\n",
              "[5 rows x 91 columns]"
            ]
          },
          "metadata": {
            "tags": []
          },
          "execution_count": 27
        }
      ]
    },
    {
      "cell_type": "markdown",
      "metadata": {
        "id": "bUO_yOMTaOHA"
      },
      "source": [
        "## **CC-Override**"
      ]
    },
    {
      "cell_type": "code",
      "metadata": {
        "id": "Gu38HBmkbnb-"
      },
      "source": [
        "!apt-get install openjdk-8-jdk-headless -qq > /dev/null\n",
        "!wget -q https://www-us.apache.org/dist/spark/spark-3.0.2/spark-3.0.2-bin-hadoop2.7.tgz\n",
        "!tar xf spark-3.0.2-bin-hadoop2.7.tgz\n",
        "!pip install -q findspark\n",
        "import os\n",
        "os.environ[\"JAVA_HOME\"] = \"/usr/lib/jvm/java-8-openjdk-amd64\"\n",
        "os.environ[\"SPARK_HOME\"] = \"/content/spark-3.0.2-bin-hadoop2.7\"\n",
        "import findspark\n",
        "findspark.init()\n",
        "findspark.find()\n",
        "\n",
        "from pyspark.sql import SparkSession\n",
        "\n",
        "spark = SparkSession.builder\\\n",
        "        .master(\"local\")\\\n",
        "        .appName(\"Colab\")\\\n",
        "        .config(\"spark.jars.packages\", \"com.crealytics:spark-excel_2.11:0.12.2\")\\\n",
        "        .getOrCreate()\n",
        "\n",
        "#.config('spark.ui.port', '4050')\\"
      ],
      "execution_count": null,
      "outputs": []
    },
    {
      "cell_type": "code",
      "metadata": {
        "id": "WVOqzdN3f75N",
        "colab": {
          "base_uri": "https://localhost:8080/"
        },
        "outputId": "a071fe0b-5096-4241-cd1d-71877c1d3383"
      },
      "source": [
        "from google.colab import drive\n",
        "drive.mount('/content/drive')"
      ],
      "execution_count": null,
      "outputs": [
        {
          "output_type": "stream",
          "text": [
            "Mounted at /content/drive\n"
          ],
          "name": "stdout"
        }
      ]
    },
    {
      "cell_type": "code",
      "metadata": {
        "id": "LfiOWtLvaNPx"
      },
      "source": [
        "import sys\n",
        "sys.path.append('/content/gdrive/My Drive/Index/')"
      ],
      "execution_count": null,
      "outputs": []
    },
    {
      "cell_type": "code",
      "metadata": {
        "id": "0to08ZYff72z"
      },
      "source": [
        " #loading libraries\n",
        "import pandas as pd\n",
        "import os\n",
        "import pyspark.sql.functions as func"
      ],
      "execution_count": null,
      "outputs": []
    },
    {
      "cell_type": "code",
      "metadata": {
        "id": "rLelafukf70V",
        "colab": {
          "base_uri": "https://localhost:8080/",
          "height": 525
        },
        "outputId": "4c6a095a-6e69-4598-b322-ae67a3bbfcea"
      },
      "source": [
        "#data_input = pd.read_excel('data.xlsx')\n",
        "df = pd.read_excel('/content/drive/MyDrive/Index/data.xlsx')\n",
        "df"
      ],
      "execution_count": null,
      "outputs": [
        {
          "output_type": "execute_result",
          "data": {
            "text/html": [
              "<div>\n",
              "<style scoped>\n",
              "    .dataframe tbody tr th:only-of-type {\n",
              "        vertical-align: middle;\n",
              "    }\n",
              "\n",
              "    .dataframe tbody tr th {\n",
              "        vertical-align: top;\n",
              "    }\n",
              "\n",
              "    .dataframe thead th {\n",
              "        text-align: right;\n",
              "    }\n",
              "</style>\n",
              "<table border=\"1\" class=\"dataframe\">\n",
              "  <thead>\n",
              "    <tr style=\"text-align: right;\">\n",
              "      <th></th>\n",
              "      <th>Unnamed: 0</th>\n",
              "      <th>Unnamed: 0_x</th>\n",
              "      <th>PERSON ID</th>\n",
              "      <th>DIAGNOSIS CODE</th>\n",
              "      <th>HCC</th>\n",
              "      <th>MODEL YEAR</th>\n",
              "      <th>Version</th>\n",
              "      <th>HCC1</th>\n",
              "      <th>HCC2</th>\n",
              "      <th>HCC6</th>\n",
              "      <th>HCC8</th>\n",
              "      <th>HCC9</th>\n",
              "      <th>HCC10</th>\n",
              "      <th>HCC11</th>\n",
              "      <th>HCC12</th>\n",
              "      <th>HCC17</th>\n",
              "      <th>HCC18</th>\n",
              "      <th>HCC19</th>\n",
              "      <th>HCC21</th>\n",
              "      <th>HCC22</th>\n",
              "      <th>HCC23</th>\n",
              "      <th>HCC27</th>\n",
              "      <th>HCC28</th>\n",
              "      <th>HCC29</th>\n",
              "      <th>HCC33</th>\n",
              "      <th>HCC34</th>\n",
              "      <th>HCC35</th>\n",
              "      <th>HCC39</th>\n",
              "      <th>HCC40</th>\n",
              "      <th>HCC46</th>\n",
              "      <th>HCC47</th>\n",
              "      <th>HCC48</th>\n",
              "      <th>HCC51</th>\n",
              "      <th>HCC52</th>\n",
              "      <th>HCC54</th>\n",
              "      <th>HCC55</th>\n",
              "      <th>HCC57</th>\n",
              "      <th>HCC58</th>\n",
              "      <th>HCC70</th>\n",
              "      <th>HCC71</th>\n",
              "      <th>...</th>\n",
              "      <th>RXHCC164</th>\n",
              "      <th>RXHCC165</th>\n",
              "      <th>RXHCC166</th>\n",
              "      <th>RXHCC168</th>\n",
              "      <th>RXHCC185</th>\n",
              "      <th>RXHCC186</th>\n",
              "      <th>RXHCC187</th>\n",
              "      <th>RXHCC188</th>\n",
              "      <th>RXHCC193</th>\n",
              "      <th>RXHCC206</th>\n",
              "      <th>RXHCC207</th>\n",
              "      <th>RXHCC215</th>\n",
              "      <th>RXHCC216</th>\n",
              "      <th>RXHCC225</th>\n",
              "      <th>RXHCC226</th>\n",
              "      <th>RXHCC227</th>\n",
              "      <th>RXHCC241</th>\n",
              "      <th>RXHCC243</th>\n",
              "      <th>RXHCC260</th>\n",
              "      <th>RXHCC261</th>\n",
              "      <th>RXHCC262</th>\n",
              "      <th>RXHCC263</th>\n",
              "      <th>RXHCC311</th>\n",
              "      <th>RXHCC314</th>\n",
              "      <th>RXHCC316</th>\n",
              "      <th>RXHCC355</th>\n",
              "      <th>RXHCC395</th>\n",
              "      <th>RXHCC396</th>\n",
              "      <th>RXHCC397</th>\n",
              "      <th>ESRD_NORIGDIS</th>\n",
              "      <th>ESRD_ORIGDIS</th>\n",
              "      <th>F65OD</th>\n",
              "      <th>M65OD</th>\n",
              "      <th>NESRD_NORIGDIS</th>\n",
              "      <th>NESRD_ORIGDIS</th>\n",
              "      <th>NonAged</th>\n",
              "      <th>HCC56</th>\n",
              "      <th>HCC59</th>\n",
              "      <th>HCC60</th>\n",
              "      <th>LTIMCAID_O</th>\n",
              "    </tr>\n",
              "  </thead>\n",
              "  <tbody>\n",
              "    <tr>\n",
              "      <th>0</th>\n",
              "      <td>0</td>\n",
              "      <td>0</td>\n",
              "      <td>59011425</td>\n",
              "      <td>N179</td>\n",
              "      <td>135.0</td>\n",
              "      <td>2020</td>\n",
              "      <td>ESRD-P1</td>\n",
              "      <td>0.0</td>\n",
              "      <td>0.0</td>\n",
              "      <td>0.0</td>\n",
              "      <td>0.0</td>\n",
              "      <td>0.0</td>\n",
              "      <td>0.0</td>\n",
              "      <td>0.0</td>\n",
              "      <td>0.0</td>\n",
              "      <td>0.0</td>\n",
              "      <td>0.0</td>\n",
              "      <td>0.0</td>\n",
              "      <td>0.0</td>\n",
              "      <td>0.0</td>\n",
              "      <td>0.0</td>\n",
              "      <td>0.0</td>\n",
              "      <td>0.0</td>\n",
              "      <td>0.0</td>\n",
              "      <td>0.0</td>\n",
              "      <td>0.0</td>\n",
              "      <td>0.0</td>\n",
              "      <td>0.0</td>\n",
              "      <td>0.0</td>\n",
              "      <td>0.0</td>\n",
              "      <td>0.0</td>\n",
              "      <td>0.0</td>\n",
              "      <td>0.0</td>\n",
              "      <td>0.0</td>\n",
              "      <td>0.0</td>\n",
              "      <td>0.0</td>\n",
              "      <td>0.0</td>\n",
              "      <td>0.0</td>\n",
              "      <td>0.0</td>\n",
              "      <td>0.0</td>\n",
              "      <td>...</td>\n",
              "      <td>NaN</td>\n",
              "      <td>NaN</td>\n",
              "      <td>NaN</td>\n",
              "      <td>NaN</td>\n",
              "      <td>NaN</td>\n",
              "      <td>NaN</td>\n",
              "      <td>NaN</td>\n",
              "      <td>NaN</td>\n",
              "      <td>NaN</td>\n",
              "      <td>NaN</td>\n",
              "      <td>NaN</td>\n",
              "      <td>NaN</td>\n",
              "      <td>NaN</td>\n",
              "      <td>NaN</td>\n",
              "      <td>NaN</td>\n",
              "      <td>NaN</td>\n",
              "      <td>NaN</td>\n",
              "      <td>NaN</td>\n",
              "      <td>NaN</td>\n",
              "      <td>NaN</td>\n",
              "      <td>NaN</td>\n",
              "      <td>NaN</td>\n",
              "      <td>NaN</td>\n",
              "      <td>NaN</td>\n",
              "      <td>NaN</td>\n",
              "      <td>NaN</td>\n",
              "      <td>NaN</td>\n",
              "      <td>NaN</td>\n",
              "      <td>NaN</td>\n",
              "      <td>NaN</td>\n",
              "      <td>NaN</td>\n",
              "      <td>NaN</td>\n",
              "      <td>NaN</td>\n",
              "      <td>NaN</td>\n",
              "      <td>NaN</td>\n",
              "      <td>NaN</td>\n",
              "      <td>NaN</td>\n",
              "      <td>NaN</td>\n",
              "      <td>NaN</td>\n",
              "      <td>NaN</td>\n",
              "    </tr>\n",
              "    <tr>\n",
              "      <th>1</th>\n",
              "      <td>1</td>\n",
              "      <td>63</td>\n",
              "      <td>59011425</td>\n",
              "      <td>E1142</td>\n",
              "      <td>18.0</td>\n",
              "      <td>2020</td>\n",
              "      <td>ESRD-P1</td>\n",
              "      <td>0.0</td>\n",
              "      <td>0.0</td>\n",
              "      <td>0.0</td>\n",
              "      <td>0.0</td>\n",
              "      <td>0.0</td>\n",
              "      <td>0.0</td>\n",
              "      <td>0.0</td>\n",
              "      <td>0.0</td>\n",
              "      <td>0.0</td>\n",
              "      <td>1.0</td>\n",
              "      <td>0.0</td>\n",
              "      <td>0.0</td>\n",
              "      <td>0.0</td>\n",
              "      <td>0.0</td>\n",
              "      <td>0.0</td>\n",
              "      <td>0.0</td>\n",
              "      <td>0.0</td>\n",
              "      <td>0.0</td>\n",
              "      <td>0.0</td>\n",
              "      <td>0.0</td>\n",
              "      <td>0.0</td>\n",
              "      <td>0.0</td>\n",
              "      <td>0.0</td>\n",
              "      <td>0.0</td>\n",
              "      <td>0.0</td>\n",
              "      <td>0.0</td>\n",
              "      <td>0.0</td>\n",
              "      <td>0.0</td>\n",
              "      <td>0.0</td>\n",
              "      <td>0.0</td>\n",
              "      <td>0.0</td>\n",
              "      <td>0.0</td>\n",
              "      <td>0.0</td>\n",
              "      <td>...</td>\n",
              "      <td>NaN</td>\n",
              "      <td>NaN</td>\n",
              "      <td>NaN</td>\n",
              "      <td>NaN</td>\n",
              "      <td>NaN</td>\n",
              "      <td>NaN</td>\n",
              "      <td>NaN</td>\n",
              "      <td>NaN</td>\n",
              "      <td>NaN</td>\n",
              "      <td>NaN</td>\n",
              "      <td>NaN</td>\n",
              "      <td>NaN</td>\n",
              "      <td>NaN</td>\n",
              "      <td>NaN</td>\n",
              "      <td>NaN</td>\n",
              "      <td>NaN</td>\n",
              "      <td>NaN</td>\n",
              "      <td>NaN</td>\n",
              "      <td>NaN</td>\n",
              "      <td>NaN</td>\n",
              "      <td>NaN</td>\n",
              "      <td>NaN</td>\n",
              "      <td>NaN</td>\n",
              "      <td>NaN</td>\n",
              "      <td>NaN</td>\n",
              "      <td>NaN</td>\n",
              "      <td>NaN</td>\n",
              "      <td>NaN</td>\n",
              "      <td>NaN</td>\n",
              "      <td>NaN</td>\n",
              "      <td>NaN</td>\n",
              "      <td>NaN</td>\n",
              "      <td>NaN</td>\n",
              "      <td>NaN</td>\n",
              "      <td>NaN</td>\n",
              "      <td>NaN</td>\n",
              "      <td>NaN</td>\n",
              "      <td>NaN</td>\n",
              "      <td>NaN</td>\n",
              "      <td>NaN</td>\n",
              "    </tr>\n",
              "    <tr>\n",
              "      <th>2</th>\n",
              "      <td>2</td>\n",
              "      <td>64</td>\n",
              "      <td>59011425</td>\n",
              "      <td>E1142</td>\n",
              "      <td>75.0</td>\n",
              "      <td>2020</td>\n",
              "      <td>ESRD-P1</td>\n",
              "      <td>0.0</td>\n",
              "      <td>0.0</td>\n",
              "      <td>0.0</td>\n",
              "      <td>0.0</td>\n",
              "      <td>0.0</td>\n",
              "      <td>0.0</td>\n",
              "      <td>0.0</td>\n",
              "      <td>0.0</td>\n",
              "      <td>0.0</td>\n",
              "      <td>0.0</td>\n",
              "      <td>0.0</td>\n",
              "      <td>0.0</td>\n",
              "      <td>0.0</td>\n",
              "      <td>0.0</td>\n",
              "      <td>0.0</td>\n",
              "      <td>0.0</td>\n",
              "      <td>0.0</td>\n",
              "      <td>0.0</td>\n",
              "      <td>0.0</td>\n",
              "      <td>0.0</td>\n",
              "      <td>0.0</td>\n",
              "      <td>0.0</td>\n",
              "      <td>0.0</td>\n",
              "      <td>0.0</td>\n",
              "      <td>0.0</td>\n",
              "      <td>0.0</td>\n",
              "      <td>0.0</td>\n",
              "      <td>0.0</td>\n",
              "      <td>0.0</td>\n",
              "      <td>0.0</td>\n",
              "      <td>0.0</td>\n",
              "      <td>0.0</td>\n",
              "      <td>0.0</td>\n",
              "      <td>...</td>\n",
              "      <td>NaN</td>\n",
              "      <td>NaN</td>\n",
              "      <td>NaN</td>\n",
              "      <td>NaN</td>\n",
              "      <td>NaN</td>\n",
              "      <td>NaN</td>\n",
              "      <td>NaN</td>\n",
              "      <td>NaN</td>\n",
              "      <td>NaN</td>\n",
              "      <td>NaN</td>\n",
              "      <td>NaN</td>\n",
              "      <td>NaN</td>\n",
              "      <td>NaN</td>\n",
              "      <td>NaN</td>\n",
              "      <td>NaN</td>\n",
              "      <td>NaN</td>\n",
              "      <td>NaN</td>\n",
              "      <td>NaN</td>\n",
              "      <td>NaN</td>\n",
              "      <td>NaN</td>\n",
              "      <td>NaN</td>\n",
              "      <td>NaN</td>\n",
              "      <td>NaN</td>\n",
              "      <td>NaN</td>\n",
              "      <td>NaN</td>\n",
              "      <td>NaN</td>\n",
              "      <td>NaN</td>\n",
              "      <td>NaN</td>\n",
              "      <td>NaN</td>\n",
              "      <td>NaN</td>\n",
              "      <td>NaN</td>\n",
              "      <td>NaN</td>\n",
              "      <td>NaN</td>\n",
              "      <td>NaN</td>\n",
              "      <td>NaN</td>\n",
              "      <td>NaN</td>\n",
              "      <td>NaN</td>\n",
              "      <td>NaN</td>\n",
              "      <td>NaN</td>\n",
              "      <td>NaN</td>\n",
              "    </tr>\n",
              "    <tr>\n",
              "      <th>3</th>\n",
              "      <td>3</td>\n",
              "      <td>386</td>\n",
              "      <td>59011425</td>\n",
              "      <td>E11610</td>\n",
              "      <td>18.0</td>\n",
              "      <td>2020</td>\n",
              "      <td>ESRD-P1</td>\n",
              "      <td>0.0</td>\n",
              "      <td>0.0</td>\n",
              "      <td>0.0</td>\n",
              "      <td>0.0</td>\n",
              "      <td>0.0</td>\n",
              "      <td>0.0</td>\n",
              "      <td>0.0</td>\n",
              "      <td>0.0</td>\n",
              "      <td>0.0</td>\n",
              "      <td>1.0</td>\n",
              "      <td>0.0</td>\n",
              "      <td>0.0</td>\n",
              "      <td>0.0</td>\n",
              "      <td>0.0</td>\n",
              "      <td>0.0</td>\n",
              "      <td>0.0</td>\n",
              "      <td>0.0</td>\n",
              "      <td>0.0</td>\n",
              "      <td>0.0</td>\n",
              "      <td>0.0</td>\n",
              "      <td>0.0</td>\n",
              "      <td>0.0</td>\n",
              "      <td>0.0</td>\n",
              "      <td>0.0</td>\n",
              "      <td>0.0</td>\n",
              "      <td>0.0</td>\n",
              "      <td>0.0</td>\n",
              "      <td>0.0</td>\n",
              "      <td>0.0</td>\n",
              "      <td>0.0</td>\n",
              "      <td>0.0</td>\n",
              "      <td>0.0</td>\n",
              "      <td>0.0</td>\n",
              "      <td>...</td>\n",
              "      <td>NaN</td>\n",
              "      <td>NaN</td>\n",
              "      <td>NaN</td>\n",
              "      <td>NaN</td>\n",
              "      <td>NaN</td>\n",
              "      <td>NaN</td>\n",
              "      <td>NaN</td>\n",
              "      <td>NaN</td>\n",
              "      <td>NaN</td>\n",
              "      <td>NaN</td>\n",
              "      <td>NaN</td>\n",
              "      <td>NaN</td>\n",
              "      <td>NaN</td>\n",
              "      <td>NaN</td>\n",
              "      <td>NaN</td>\n",
              "      <td>NaN</td>\n",
              "      <td>NaN</td>\n",
              "      <td>NaN</td>\n",
              "      <td>NaN</td>\n",
              "      <td>NaN</td>\n",
              "      <td>NaN</td>\n",
              "      <td>NaN</td>\n",
              "      <td>NaN</td>\n",
              "      <td>NaN</td>\n",
              "      <td>NaN</td>\n",
              "      <td>NaN</td>\n",
              "      <td>NaN</td>\n",
              "      <td>NaN</td>\n",
              "      <td>NaN</td>\n",
              "      <td>NaN</td>\n",
              "      <td>NaN</td>\n",
              "      <td>NaN</td>\n",
              "      <td>NaN</td>\n",
              "      <td>NaN</td>\n",
              "      <td>NaN</td>\n",
              "      <td>NaN</td>\n",
              "      <td>NaN</td>\n",
              "      <td>NaN</td>\n",
              "      <td>NaN</td>\n",
              "      <td>NaN</td>\n",
              "    </tr>\n",
              "    <tr>\n",
              "      <th>4</th>\n",
              "      <td>4</td>\n",
              "      <td>452</td>\n",
              "      <td>59011425</td>\n",
              "      <td>E118</td>\n",
              "      <td>18.0</td>\n",
              "      <td>2020</td>\n",
              "      <td>ESRD-P1</td>\n",
              "      <td>0.0</td>\n",
              "      <td>0.0</td>\n",
              "      <td>0.0</td>\n",
              "      <td>0.0</td>\n",
              "      <td>0.0</td>\n",
              "      <td>0.0</td>\n",
              "      <td>0.0</td>\n",
              "      <td>0.0</td>\n",
              "      <td>0.0</td>\n",
              "      <td>1.0</td>\n",
              "      <td>0.0</td>\n",
              "      <td>0.0</td>\n",
              "      <td>0.0</td>\n",
              "      <td>0.0</td>\n",
              "      <td>0.0</td>\n",
              "      <td>0.0</td>\n",
              "      <td>0.0</td>\n",
              "      <td>0.0</td>\n",
              "      <td>0.0</td>\n",
              "      <td>0.0</td>\n",
              "      <td>0.0</td>\n",
              "      <td>0.0</td>\n",
              "      <td>0.0</td>\n",
              "      <td>0.0</td>\n",
              "      <td>0.0</td>\n",
              "      <td>0.0</td>\n",
              "      <td>0.0</td>\n",
              "      <td>0.0</td>\n",
              "      <td>0.0</td>\n",
              "      <td>0.0</td>\n",
              "      <td>0.0</td>\n",
              "      <td>0.0</td>\n",
              "      <td>0.0</td>\n",
              "      <td>...</td>\n",
              "      <td>NaN</td>\n",
              "      <td>NaN</td>\n",
              "      <td>NaN</td>\n",
              "      <td>NaN</td>\n",
              "      <td>NaN</td>\n",
              "      <td>NaN</td>\n",
              "      <td>NaN</td>\n",
              "      <td>NaN</td>\n",
              "      <td>NaN</td>\n",
              "      <td>NaN</td>\n",
              "      <td>NaN</td>\n",
              "      <td>NaN</td>\n",
              "      <td>NaN</td>\n",
              "      <td>NaN</td>\n",
              "      <td>NaN</td>\n",
              "      <td>NaN</td>\n",
              "      <td>NaN</td>\n",
              "      <td>NaN</td>\n",
              "      <td>NaN</td>\n",
              "      <td>NaN</td>\n",
              "      <td>NaN</td>\n",
              "      <td>NaN</td>\n",
              "      <td>NaN</td>\n",
              "      <td>NaN</td>\n",
              "      <td>NaN</td>\n",
              "      <td>NaN</td>\n",
              "      <td>NaN</td>\n",
              "      <td>NaN</td>\n",
              "      <td>NaN</td>\n",
              "      <td>NaN</td>\n",
              "      <td>NaN</td>\n",
              "      <td>NaN</td>\n",
              "      <td>NaN</td>\n",
              "      <td>NaN</td>\n",
              "      <td>NaN</td>\n",
              "      <td>NaN</td>\n",
              "      <td>NaN</td>\n",
              "      <td>NaN</td>\n",
              "      <td>NaN</td>\n",
              "      <td>NaN</td>\n",
              "    </tr>\n",
              "    <tr>\n",
              "      <th>...</th>\n",
              "      <td>...</td>\n",
              "      <td>...</td>\n",
              "      <td>...</td>\n",
              "      <td>...</td>\n",
              "      <td>...</td>\n",
              "      <td>...</td>\n",
              "      <td>...</td>\n",
              "      <td>...</td>\n",
              "      <td>...</td>\n",
              "      <td>...</td>\n",
              "      <td>...</td>\n",
              "      <td>...</td>\n",
              "      <td>...</td>\n",
              "      <td>...</td>\n",
              "      <td>...</td>\n",
              "      <td>...</td>\n",
              "      <td>...</td>\n",
              "      <td>...</td>\n",
              "      <td>...</td>\n",
              "      <td>...</td>\n",
              "      <td>...</td>\n",
              "      <td>...</td>\n",
              "      <td>...</td>\n",
              "      <td>...</td>\n",
              "      <td>...</td>\n",
              "      <td>...</td>\n",
              "      <td>...</td>\n",
              "      <td>...</td>\n",
              "      <td>...</td>\n",
              "      <td>...</td>\n",
              "      <td>...</td>\n",
              "      <td>...</td>\n",
              "      <td>...</td>\n",
              "      <td>...</td>\n",
              "      <td>...</td>\n",
              "      <td>...</td>\n",
              "      <td>...</td>\n",
              "      <td>...</td>\n",
              "      <td>...</td>\n",
              "      <td>...</td>\n",
              "      <td>...</td>\n",
              "      <td>...</td>\n",
              "      <td>...</td>\n",
              "      <td>...</td>\n",
              "      <td>...</td>\n",
              "      <td>...</td>\n",
              "      <td>...</td>\n",
              "      <td>...</td>\n",
              "      <td>...</td>\n",
              "      <td>...</td>\n",
              "      <td>...</td>\n",
              "      <td>...</td>\n",
              "      <td>...</td>\n",
              "      <td>...</td>\n",
              "      <td>...</td>\n",
              "      <td>...</td>\n",
              "      <td>...</td>\n",
              "      <td>...</td>\n",
              "      <td>...</td>\n",
              "      <td>...</td>\n",
              "      <td>...</td>\n",
              "      <td>...</td>\n",
              "      <td>...</td>\n",
              "      <td>...</td>\n",
              "      <td>...</td>\n",
              "      <td>...</td>\n",
              "      <td>...</td>\n",
              "      <td>...</td>\n",
              "      <td>...</td>\n",
              "      <td>...</td>\n",
              "      <td>...</td>\n",
              "      <td>...</td>\n",
              "      <td>...</td>\n",
              "      <td>...</td>\n",
              "      <td>...</td>\n",
              "      <td>...</td>\n",
              "      <td>...</td>\n",
              "      <td>...</td>\n",
              "      <td>...</td>\n",
              "      <td>...</td>\n",
              "      <td>...</td>\n",
              "    </tr>\n",
              "    <tr>\n",
              "      <th>20812</th>\n",
              "      <td>2005</td>\n",
              "      <td>1928</td>\n",
              "      <td>128707425</td>\n",
              "      <td>I739</td>\n",
              "      <td>108.0</td>\n",
              "      <td>2021</td>\n",
              "      <td>V24</td>\n",
              "      <td>0.0</td>\n",
              "      <td>0.0</td>\n",
              "      <td>0.0</td>\n",
              "      <td>0.0</td>\n",
              "      <td>0.0</td>\n",
              "      <td>0.0</td>\n",
              "      <td>0.0</td>\n",
              "      <td>0.0</td>\n",
              "      <td>0.0</td>\n",
              "      <td>0.0</td>\n",
              "      <td>0.0</td>\n",
              "      <td>0.0</td>\n",
              "      <td>0.0</td>\n",
              "      <td>0.0</td>\n",
              "      <td>0.0</td>\n",
              "      <td>0.0</td>\n",
              "      <td>0.0</td>\n",
              "      <td>0.0</td>\n",
              "      <td>0.0</td>\n",
              "      <td>0.0</td>\n",
              "      <td>0.0</td>\n",
              "      <td>0.0</td>\n",
              "      <td>0.0</td>\n",
              "      <td>0.0</td>\n",
              "      <td>0.0</td>\n",
              "      <td>0.0</td>\n",
              "      <td>0.0</td>\n",
              "      <td>0.0</td>\n",
              "      <td>0.0</td>\n",
              "      <td>0.0</td>\n",
              "      <td>0.0</td>\n",
              "      <td>0.0</td>\n",
              "      <td>0.0</td>\n",
              "      <td>...</td>\n",
              "      <td>NaN</td>\n",
              "      <td>NaN</td>\n",
              "      <td>NaN</td>\n",
              "      <td>NaN</td>\n",
              "      <td>NaN</td>\n",
              "      <td>NaN</td>\n",
              "      <td>NaN</td>\n",
              "      <td>NaN</td>\n",
              "      <td>NaN</td>\n",
              "      <td>NaN</td>\n",
              "      <td>NaN</td>\n",
              "      <td>NaN</td>\n",
              "      <td>NaN</td>\n",
              "      <td>NaN</td>\n",
              "      <td>NaN</td>\n",
              "      <td>NaN</td>\n",
              "      <td>NaN</td>\n",
              "      <td>NaN</td>\n",
              "      <td>NaN</td>\n",
              "      <td>NaN</td>\n",
              "      <td>NaN</td>\n",
              "      <td>NaN</td>\n",
              "      <td>NaN</td>\n",
              "      <td>NaN</td>\n",
              "      <td>NaN</td>\n",
              "      <td>NaN</td>\n",
              "      <td>NaN</td>\n",
              "      <td>NaN</td>\n",
              "      <td>NaN</td>\n",
              "      <td>NaN</td>\n",
              "      <td>NaN</td>\n",
              "      <td>NaN</td>\n",
              "      <td>NaN</td>\n",
              "      <td>NaN</td>\n",
              "      <td>NaN</td>\n",
              "      <td>NaN</td>\n",
              "      <td>0.0</td>\n",
              "      <td>0.0</td>\n",
              "      <td>0.0</td>\n",
              "      <td>1.0</td>\n",
              "    </tr>\n",
              "    <tr>\n",
              "      <th>20813</th>\n",
              "      <td>2006</td>\n",
              "      <td>1930</td>\n",
              "      <td>19804968</td>\n",
              "      <td>I739</td>\n",
              "      <td>108.0</td>\n",
              "      <td>2021</td>\n",
              "      <td>V24</td>\n",
              "      <td>0.0</td>\n",
              "      <td>0.0</td>\n",
              "      <td>0.0</td>\n",
              "      <td>0.0</td>\n",
              "      <td>0.0</td>\n",
              "      <td>0.0</td>\n",
              "      <td>0.0</td>\n",
              "      <td>0.0</td>\n",
              "      <td>0.0</td>\n",
              "      <td>0.0</td>\n",
              "      <td>0.0</td>\n",
              "      <td>0.0</td>\n",
              "      <td>0.0</td>\n",
              "      <td>0.0</td>\n",
              "      <td>0.0</td>\n",
              "      <td>0.0</td>\n",
              "      <td>0.0</td>\n",
              "      <td>0.0</td>\n",
              "      <td>0.0</td>\n",
              "      <td>0.0</td>\n",
              "      <td>0.0</td>\n",
              "      <td>0.0</td>\n",
              "      <td>0.0</td>\n",
              "      <td>0.0</td>\n",
              "      <td>0.0</td>\n",
              "      <td>0.0</td>\n",
              "      <td>0.0</td>\n",
              "      <td>0.0</td>\n",
              "      <td>0.0</td>\n",
              "      <td>0.0</td>\n",
              "      <td>0.0</td>\n",
              "      <td>0.0</td>\n",
              "      <td>0.0</td>\n",
              "      <td>...</td>\n",
              "      <td>NaN</td>\n",
              "      <td>NaN</td>\n",
              "      <td>NaN</td>\n",
              "      <td>NaN</td>\n",
              "      <td>NaN</td>\n",
              "      <td>NaN</td>\n",
              "      <td>NaN</td>\n",
              "      <td>NaN</td>\n",
              "      <td>NaN</td>\n",
              "      <td>NaN</td>\n",
              "      <td>NaN</td>\n",
              "      <td>NaN</td>\n",
              "      <td>NaN</td>\n",
              "      <td>NaN</td>\n",
              "      <td>NaN</td>\n",
              "      <td>NaN</td>\n",
              "      <td>NaN</td>\n",
              "      <td>NaN</td>\n",
              "      <td>NaN</td>\n",
              "      <td>NaN</td>\n",
              "      <td>NaN</td>\n",
              "      <td>NaN</td>\n",
              "      <td>NaN</td>\n",
              "      <td>NaN</td>\n",
              "      <td>NaN</td>\n",
              "      <td>NaN</td>\n",
              "      <td>NaN</td>\n",
              "      <td>NaN</td>\n",
              "      <td>NaN</td>\n",
              "      <td>NaN</td>\n",
              "      <td>NaN</td>\n",
              "      <td>NaN</td>\n",
              "      <td>NaN</td>\n",
              "      <td>NaN</td>\n",
              "      <td>NaN</td>\n",
              "      <td>NaN</td>\n",
              "      <td>0.0</td>\n",
              "      <td>0.0</td>\n",
              "      <td>0.0</td>\n",
              "      <td>1.0</td>\n",
              "    </tr>\n",
              "    <tr>\n",
              "      <th>20814</th>\n",
              "      <td>2007</td>\n",
              "      <td>1982</td>\n",
              "      <td>132178472</td>\n",
              "      <td>E6601</td>\n",
              "      <td>22.0</td>\n",
              "      <td>2021</td>\n",
              "      <td>V24</td>\n",
              "      <td>0.0</td>\n",
              "      <td>0.0</td>\n",
              "      <td>0.0</td>\n",
              "      <td>0.0</td>\n",
              "      <td>0.0</td>\n",
              "      <td>0.0</td>\n",
              "      <td>0.0</td>\n",
              "      <td>0.0</td>\n",
              "      <td>0.0</td>\n",
              "      <td>0.0</td>\n",
              "      <td>0.0</td>\n",
              "      <td>0.0</td>\n",
              "      <td>1.0</td>\n",
              "      <td>0.0</td>\n",
              "      <td>0.0</td>\n",
              "      <td>0.0</td>\n",
              "      <td>0.0</td>\n",
              "      <td>0.0</td>\n",
              "      <td>0.0</td>\n",
              "      <td>0.0</td>\n",
              "      <td>0.0</td>\n",
              "      <td>0.0</td>\n",
              "      <td>0.0</td>\n",
              "      <td>0.0</td>\n",
              "      <td>0.0</td>\n",
              "      <td>0.0</td>\n",
              "      <td>0.0</td>\n",
              "      <td>0.0</td>\n",
              "      <td>0.0</td>\n",
              "      <td>0.0</td>\n",
              "      <td>0.0</td>\n",
              "      <td>0.0</td>\n",
              "      <td>0.0</td>\n",
              "      <td>...</td>\n",
              "      <td>NaN</td>\n",
              "      <td>NaN</td>\n",
              "      <td>NaN</td>\n",
              "      <td>NaN</td>\n",
              "      <td>NaN</td>\n",
              "      <td>NaN</td>\n",
              "      <td>NaN</td>\n",
              "      <td>NaN</td>\n",
              "      <td>NaN</td>\n",
              "      <td>NaN</td>\n",
              "      <td>NaN</td>\n",
              "      <td>NaN</td>\n",
              "      <td>NaN</td>\n",
              "      <td>NaN</td>\n",
              "      <td>NaN</td>\n",
              "      <td>NaN</td>\n",
              "      <td>NaN</td>\n",
              "      <td>NaN</td>\n",
              "      <td>NaN</td>\n",
              "      <td>NaN</td>\n",
              "      <td>NaN</td>\n",
              "      <td>NaN</td>\n",
              "      <td>NaN</td>\n",
              "      <td>NaN</td>\n",
              "      <td>NaN</td>\n",
              "      <td>NaN</td>\n",
              "      <td>NaN</td>\n",
              "      <td>NaN</td>\n",
              "      <td>NaN</td>\n",
              "      <td>NaN</td>\n",
              "      <td>NaN</td>\n",
              "      <td>NaN</td>\n",
              "      <td>NaN</td>\n",
              "      <td>NaN</td>\n",
              "      <td>NaN</td>\n",
              "      <td>NaN</td>\n",
              "      <td>0.0</td>\n",
              "      <td>0.0</td>\n",
              "      <td>0.0</td>\n",
              "      <td>1.0</td>\n",
              "    </tr>\n",
              "    <tr>\n",
              "      <th>20815</th>\n",
              "      <td>2008</td>\n",
              "      <td>1990</td>\n",
              "      <td>152542839</td>\n",
              "      <td>E6601</td>\n",
              "      <td>22.0</td>\n",
              "      <td>2021</td>\n",
              "      <td>V24</td>\n",
              "      <td>0.0</td>\n",
              "      <td>0.0</td>\n",
              "      <td>0.0</td>\n",
              "      <td>0.0</td>\n",
              "      <td>0.0</td>\n",
              "      <td>0.0</td>\n",
              "      <td>0.0</td>\n",
              "      <td>0.0</td>\n",
              "      <td>0.0</td>\n",
              "      <td>0.0</td>\n",
              "      <td>0.0</td>\n",
              "      <td>0.0</td>\n",
              "      <td>1.0</td>\n",
              "      <td>0.0</td>\n",
              "      <td>0.0</td>\n",
              "      <td>0.0</td>\n",
              "      <td>0.0</td>\n",
              "      <td>0.0</td>\n",
              "      <td>0.0</td>\n",
              "      <td>0.0</td>\n",
              "      <td>0.0</td>\n",
              "      <td>0.0</td>\n",
              "      <td>0.0</td>\n",
              "      <td>0.0</td>\n",
              "      <td>0.0</td>\n",
              "      <td>0.0</td>\n",
              "      <td>0.0</td>\n",
              "      <td>0.0</td>\n",
              "      <td>0.0</td>\n",
              "      <td>0.0</td>\n",
              "      <td>0.0</td>\n",
              "      <td>0.0</td>\n",
              "      <td>0.0</td>\n",
              "      <td>...</td>\n",
              "      <td>NaN</td>\n",
              "      <td>NaN</td>\n",
              "      <td>NaN</td>\n",
              "      <td>NaN</td>\n",
              "      <td>NaN</td>\n",
              "      <td>NaN</td>\n",
              "      <td>NaN</td>\n",
              "      <td>NaN</td>\n",
              "      <td>NaN</td>\n",
              "      <td>NaN</td>\n",
              "      <td>NaN</td>\n",
              "      <td>NaN</td>\n",
              "      <td>NaN</td>\n",
              "      <td>NaN</td>\n",
              "      <td>NaN</td>\n",
              "      <td>NaN</td>\n",
              "      <td>NaN</td>\n",
              "      <td>NaN</td>\n",
              "      <td>NaN</td>\n",
              "      <td>NaN</td>\n",
              "      <td>NaN</td>\n",
              "      <td>NaN</td>\n",
              "      <td>NaN</td>\n",
              "      <td>NaN</td>\n",
              "      <td>NaN</td>\n",
              "      <td>NaN</td>\n",
              "      <td>NaN</td>\n",
              "      <td>NaN</td>\n",
              "      <td>NaN</td>\n",
              "      <td>NaN</td>\n",
              "      <td>NaN</td>\n",
              "      <td>NaN</td>\n",
              "      <td>NaN</td>\n",
              "      <td>NaN</td>\n",
              "      <td>NaN</td>\n",
              "      <td>NaN</td>\n",
              "      <td>0.0</td>\n",
              "      <td>0.0</td>\n",
              "      <td>0.0</td>\n",
              "      <td>1.0</td>\n",
              "    </tr>\n",
              "    <tr>\n",
              "      <th>20816</th>\n",
              "      <td>2009</td>\n",
              "      <td>2007</td>\n",
              "      <td>92941551</td>\n",
              "      <td>F325</td>\n",
              "      <td>59.0</td>\n",
              "      <td>2021</td>\n",
              "      <td>V24</td>\n",
              "      <td>0.0</td>\n",
              "      <td>0.0</td>\n",
              "      <td>0.0</td>\n",
              "      <td>0.0</td>\n",
              "      <td>0.0</td>\n",
              "      <td>0.0</td>\n",
              "      <td>0.0</td>\n",
              "      <td>0.0</td>\n",
              "      <td>0.0</td>\n",
              "      <td>0.0</td>\n",
              "      <td>0.0</td>\n",
              "      <td>0.0</td>\n",
              "      <td>0.0</td>\n",
              "      <td>0.0</td>\n",
              "      <td>0.0</td>\n",
              "      <td>0.0</td>\n",
              "      <td>0.0</td>\n",
              "      <td>0.0</td>\n",
              "      <td>0.0</td>\n",
              "      <td>0.0</td>\n",
              "      <td>0.0</td>\n",
              "      <td>0.0</td>\n",
              "      <td>0.0</td>\n",
              "      <td>0.0</td>\n",
              "      <td>0.0</td>\n",
              "      <td>0.0</td>\n",
              "      <td>0.0</td>\n",
              "      <td>0.0</td>\n",
              "      <td>0.0</td>\n",
              "      <td>0.0</td>\n",
              "      <td>0.0</td>\n",
              "      <td>0.0</td>\n",
              "      <td>0.0</td>\n",
              "      <td>...</td>\n",
              "      <td>NaN</td>\n",
              "      <td>NaN</td>\n",
              "      <td>NaN</td>\n",
              "      <td>NaN</td>\n",
              "      <td>NaN</td>\n",
              "      <td>NaN</td>\n",
              "      <td>NaN</td>\n",
              "      <td>NaN</td>\n",
              "      <td>NaN</td>\n",
              "      <td>NaN</td>\n",
              "      <td>NaN</td>\n",
              "      <td>NaN</td>\n",
              "      <td>NaN</td>\n",
              "      <td>NaN</td>\n",
              "      <td>NaN</td>\n",
              "      <td>NaN</td>\n",
              "      <td>NaN</td>\n",
              "      <td>NaN</td>\n",
              "      <td>NaN</td>\n",
              "      <td>NaN</td>\n",
              "      <td>NaN</td>\n",
              "      <td>NaN</td>\n",
              "      <td>NaN</td>\n",
              "      <td>NaN</td>\n",
              "      <td>NaN</td>\n",
              "      <td>NaN</td>\n",
              "      <td>NaN</td>\n",
              "      <td>NaN</td>\n",
              "      <td>NaN</td>\n",
              "      <td>NaN</td>\n",
              "      <td>NaN</td>\n",
              "      <td>NaN</td>\n",
              "      <td>NaN</td>\n",
              "      <td>NaN</td>\n",
              "      <td>NaN</td>\n",
              "      <td>NaN</td>\n",
              "      <td>0.0</td>\n",
              "      <td>1.0</td>\n",
              "      <td>0.0</td>\n",
              "      <td>1.0</td>\n",
              "    </tr>\n",
              "  </tbody>\n",
              "</table>\n",
              "<p>20817 rows × 286 columns</p>\n",
              "</div>"
            ],
            "text/plain": [
              "       Unnamed: 0  Unnamed: 0_x  PERSON ID  ... HCC59  HCC60  LTIMCAID_O\n",
              "0               0             0   59011425  ...   NaN    NaN         NaN\n",
              "1               1            63   59011425  ...   NaN    NaN         NaN\n",
              "2               2            64   59011425  ...   NaN    NaN         NaN\n",
              "3               3           386   59011425  ...   NaN    NaN         NaN\n",
              "4               4           452   59011425  ...   NaN    NaN         NaN\n",
              "...           ...           ...        ...  ...   ...    ...         ...\n",
              "20812        2005          1928  128707425  ...   0.0    0.0         1.0\n",
              "20813        2006          1930   19804968  ...   0.0    0.0         1.0\n",
              "20814        2007          1982  132178472  ...   0.0    0.0         1.0\n",
              "20815        2008          1990  152542839  ...   0.0    0.0         1.0\n",
              "20816        2009          2007   92941551  ...   1.0    0.0         1.0\n",
              "\n",
              "[20817 rows x 286 columns]"
            ]
          },
          "metadata": {
            "tags": []
          },
          "execution_count": 69
        }
      ]
    },
    {
      "cell_type": "code",
      "metadata": {
        "id": "ZxzLaGVkf7xm"
      },
      "source": [
        "df.rename(columns={'DIAGNOSIS CODE':'DIAG', 'Gender':'SEX', 'Age':'AGEF'}, inplace = True)"
      ],
      "execution_count": null,
      "outputs": []
    },
    {
      "cell_type": "code",
      "metadata": {
        "id": "Yv1foDjFfqhh"
      },
      "source": [
        "df.HCC = df.HCC.astype(str)"
      ],
      "execution_count": null,
      "outputs": []
    },
    {
      "cell_type": "code",
      "metadata": {
        "colab": {
          "base_uri": "https://localhost:8080/",
          "height": 822
        },
        "id": "GVPz0MZfa9qz",
        "outputId": "94504035-cac1-420d-9cd3-4ab6c1dcc3f6"
      },
      "source": [
        "dataCC = pd.read_csv(\"/content/drive/MyDrive/Index/CC Override Rules.csv\")\n",
        "#dataCC = pd.read_csv(\"CC Override Rules.csv\")\n",
        "\n",
        "dataCC"
      ],
      "execution_count": null,
      "outputs": [
        {
          "output_type": "execute_result",
          "data": {
            "text/html": [
              "<div>\n",
              "<style scoped>\n",
              "    .dataframe tbody tr th:only-of-type {\n",
              "        vertical-align: middle;\n",
              "    }\n",
              "\n",
              "    .dataframe tbody tr th {\n",
              "        vertical-align: top;\n",
              "    }\n",
              "\n",
              "    .dataframe thead th {\n",
              "        text-align: right;\n",
              "    }\n",
              "</style>\n",
              "<table border=\"1\" class=\"dataframe\">\n",
              "  <thead>\n",
              "    <tr style=\"text-align: right;\">\n",
              "      <th></th>\n",
              "      <th>MODEL YEAR</th>\n",
              "      <th>VERSION</th>\n",
              "      <th>OVERRIDE CC</th>\n",
              "      <th>CONDITION</th>\n",
              "      <th>DIAGNOSIS CODES</th>\n",
              "    </tr>\n",
              "  </thead>\n",
              "  <tbody>\n",
              "    <tr>\n",
              "      <th>0</th>\n",
              "      <td>2020</td>\n",
              "      <td>ESRD-P1</td>\n",
              "      <td>48</td>\n",
              "      <td>CASE WHEN (SEX = '2' AND DIAG IN ('D66','D67')...</td>\n",
              "      <td>('D66','D67')</td>\n",
              "    </tr>\n",
              "    <tr>\n",
              "      <th>1</th>\n",
              "      <td>2020</td>\n",
              "      <td>ESRD-P1</td>\n",
              "      <td>112</td>\n",
              "      <td>CASE WHEN (AGEF &lt; 18 AND DIAG IN ('J410','J411...</td>\n",
              "      <td>('J410','J411','J418','J42','J430','J431','J43...</td>\n",
              "    </tr>\n",
              "    <tr>\n",
              "      <th>2</th>\n",
              "      <td>2020</td>\n",
              "      <td>ESRD-P1</td>\n",
              "      <td>-1</td>\n",
              "      <td>CASE WHEN ((AGEF &lt; 6 OR AGEF &gt; 18) AND DIAG IN...</td>\n",
              "      <td>('F3481')</td>\n",
              "    </tr>\n",
              "    <tr>\n",
              "      <th>3</th>\n",
              "      <td>2020</td>\n",
              "      <td>RX</td>\n",
              "      <td>133</td>\n",
              "      <td>CASE WHEN ((AGEF &lt; 6 OR AGEF &gt; 18) AND DIAG IN...</td>\n",
              "      <td>('F3481')</td>\n",
              "    </tr>\n",
              "    <tr>\n",
              "      <th>4</th>\n",
              "      <td>2020</td>\n",
              "      <td>V22</td>\n",
              "      <td>48</td>\n",
              "      <td>CASE WHEN (SEX = '2' AND DIAG IN ('D66','D67')...</td>\n",
              "      <td>('D66','D67')</td>\n",
              "    </tr>\n",
              "    <tr>\n",
              "      <th>5</th>\n",
              "      <td>2020</td>\n",
              "      <td>V22</td>\n",
              "      <td>112</td>\n",
              "      <td>CASE WHEN (AGEF &lt; 18 AND DIAG IN ('J410','J411...</td>\n",
              "      <td>('J410','J411','J418','J42','J430','J431','J43...</td>\n",
              "    </tr>\n",
              "    <tr>\n",
              "      <th>6</th>\n",
              "      <td>2020</td>\n",
              "      <td>V22</td>\n",
              "      <td>-1</td>\n",
              "      <td>CASE WHEN ((AGEF &lt; 6 OR AGEF &gt; 18) AND DIAG IN...</td>\n",
              "      <td>('F3481')</td>\n",
              "    </tr>\n",
              "    <tr>\n",
              "      <th>7</th>\n",
              "      <td>2020</td>\n",
              "      <td>V24</td>\n",
              "      <td>48</td>\n",
              "      <td>CASE WHEN (SEX = '2' AND DIAG IN ('D66','D67')...</td>\n",
              "      <td>('D66','D67')</td>\n",
              "    </tr>\n",
              "    <tr>\n",
              "      <th>8</th>\n",
              "      <td>2020</td>\n",
              "      <td>V24</td>\n",
              "      <td>112</td>\n",
              "      <td>CASE WHEN (AGEF &lt; 18 AND DIAG IN ('J410','J411...</td>\n",
              "      <td>('J410','J411','J418','J42','J430','J431','J43...</td>\n",
              "    </tr>\n",
              "    <tr>\n",
              "      <th>9</th>\n",
              "      <td>2020</td>\n",
              "      <td>V24</td>\n",
              "      <td>-1</td>\n",
              "      <td>CASE WHEN ((AGEF &lt; 6 OR AGEF &gt; 18) AND DIAG IN...</td>\n",
              "      <td>('F3481')</td>\n",
              "    </tr>\n",
              "    <tr>\n",
              "      <th>10</th>\n",
              "      <td>2020</td>\n",
              "      <td>ESRD-P2</td>\n",
              "      <td>48</td>\n",
              "      <td>CASE WHEN (SEX = '2' AND DIAG IN ('D66','D67')...</td>\n",
              "      <td>('D66','D67')</td>\n",
              "    </tr>\n",
              "    <tr>\n",
              "      <th>11</th>\n",
              "      <td>2020</td>\n",
              "      <td>ESRD-P2</td>\n",
              "      <td>112</td>\n",
              "      <td>CASE WHEN (AGEF &lt; 18 AND DIAG IN ('J410','J411...</td>\n",
              "      <td>('J410','J411','J418','J42','J430','J431','J43...</td>\n",
              "    </tr>\n",
              "    <tr>\n",
              "      <th>12</th>\n",
              "      <td>2020</td>\n",
              "      <td>ESRD-P2</td>\n",
              "      <td>-1</td>\n",
              "      <td>CASE WHEN ((AGEF &lt; 6 OR AGEF &gt; 18) AND DIAG IN...</td>\n",
              "      <td>('F3481')</td>\n",
              "    </tr>\n",
              "    <tr>\n",
              "      <th>13</th>\n",
              "      <td>2021</td>\n",
              "      <td>ESRD-P1</td>\n",
              "      <td>48</td>\n",
              "      <td>CASE WHEN (SEX = '2' AND DIAG IN ('D66','D67')...</td>\n",
              "      <td>('D66','D67')</td>\n",
              "    </tr>\n",
              "    <tr>\n",
              "      <th>14</th>\n",
              "      <td>2021</td>\n",
              "      <td>ESRD-P1</td>\n",
              "      <td>112</td>\n",
              "      <td>CASE WHEN (AGEF &lt; 18 AND DIAG IN ('J410','J411...</td>\n",
              "      <td>('J410','J411','J418','J42','J430','J431','J43...</td>\n",
              "    </tr>\n",
              "    <tr>\n",
              "      <th>15</th>\n",
              "      <td>2021</td>\n",
              "      <td>ESRD-P1</td>\n",
              "      <td>-1</td>\n",
              "      <td>CASE WHEN ((AGEF &lt; 6 OR AGEF &gt; 18) AND DIAG IN...</td>\n",
              "      <td>('F3481')</td>\n",
              "    </tr>\n",
              "    <tr>\n",
              "      <th>16</th>\n",
              "      <td>2021</td>\n",
              "      <td>RX</td>\n",
              "      <td>133</td>\n",
              "      <td>CASE WHEN ((AGEF &lt; 6 OR AGEF &gt; 18) AND DIAG IN...</td>\n",
              "      <td>('F3481')</td>\n",
              "    </tr>\n",
              "    <tr>\n",
              "      <th>17</th>\n",
              "      <td>2021</td>\n",
              "      <td>V22</td>\n",
              "      <td>48</td>\n",
              "      <td>CASE WHEN (SEX = '2' AND DIAG IN ('D66','D67')...</td>\n",
              "      <td>('D66','D67')</td>\n",
              "    </tr>\n",
              "    <tr>\n",
              "      <th>18</th>\n",
              "      <td>2021</td>\n",
              "      <td>V22</td>\n",
              "      <td>112</td>\n",
              "      <td>CASE WHEN (AGEF &lt; 18 AND DIAG IN ('J410','J411...</td>\n",
              "      <td>('J410','J411','J418','J42','J430','J431','J43...</td>\n",
              "    </tr>\n",
              "    <tr>\n",
              "      <th>19</th>\n",
              "      <td>2021</td>\n",
              "      <td>V22</td>\n",
              "      <td>-1</td>\n",
              "      <td>CASE WHEN ((AGEF &lt; 6 OR AGEF &gt; 18) AND DIAG IN...</td>\n",
              "      <td>('F3481')</td>\n",
              "    </tr>\n",
              "    <tr>\n",
              "      <th>20</th>\n",
              "      <td>2021</td>\n",
              "      <td>V24</td>\n",
              "      <td>48</td>\n",
              "      <td>CASE WHEN (SEX = '2' AND DIAG IN ('D66','D67')...</td>\n",
              "      <td>('D66','D67')</td>\n",
              "    </tr>\n",
              "    <tr>\n",
              "      <th>21</th>\n",
              "      <td>2021</td>\n",
              "      <td>V24</td>\n",
              "      <td>112</td>\n",
              "      <td>CASE WHEN (AGEF &lt; 18 AND DIAG IN ('J410','J411...</td>\n",
              "      <td>('J410','J411','J418','J42','J430','J431','J43...</td>\n",
              "    </tr>\n",
              "    <tr>\n",
              "      <th>22</th>\n",
              "      <td>2021</td>\n",
              "      <td>V24</td>\n",
              "      <td>-1</td>\n",
              "      <td>CASE WHEN ((AGEF &lt; 6 OR AGEF &gt; 18) AND DIAG IN...</td>\n",
              "      <td>('F3481')</td>\n",
              "    </tr>\n",
              "    <tr>\n",
              "      <th>23</th>\n",
              "      <td>2021</td>\n",
              "      <td>ESRD-P2</td>\n",
              "      <td>48</td>\n",
              "      <td>CASE WHEN (SEX = '2' AND DIAG IN ('D66','D67')...</td>\n",
              "      <td>('D66','D67')</td>\n",
              "    </tr>\n",
              "    <tr>\n",
              "      <th>24</th>\n",
              "      <td>2021</td>\n",
              "      <td>ESRD-P2</td>\n",
              "      <td>112</td>\n",
              "      <td>CASE WHEN (AGEF &lt; 18 AND DIAG IN ('J410','J411...</td>\n",
              "      <td>('J410','J411','J418','J42','J430','J431','J43...</td>\n",
              "    </tr>\n",
              "    <tr>\n",
              "      <th>25</th>\n",
              "      <td>2021</td>\n",
              "      <td>ESRD-P2</td>\n",
              "      <td>-1</td>\n",
              "      <td>CASE WHEN ((AGEF &lt; 6 OR AGEF &gt; 18) AND DIAG IN...</td>\n",
              "      <td>('F3481')</td>\n",
              "    </tr>\n",
              "  </tbody>\n",
              "</table>\n",
              "</div>"
            ],
            "text/plain": [
              "    MODEL YEAR  ...                                    DIAGNOSIS CODES\n",
              "0         2020  ...                                      ('D66','D67')\n",
              "1         2020  ...  ('J410','J411','J418','J42','J430','J431','J43...\n",
              "2         2020  ...                                          ('F3481')\n",
              "3         2020  ...                                          ('F3481')\n",
              "4         2020  ...                                      ('D66','D67')\n",
              "5         2020  ...  ('J410','J411','J418','J42','J430','J431','J43...\n",
              "6         2020  ...                                          ('F3481')\n",
              "7         2020  ...                                      ('D66','D67')\n",
              "8         2020  ...  ('J410','J411','J418','J42','J430','J431','J43...\n",
              "9         2020  ...                                          ('F3481')\n",
              "10        2020  ...                                      ('D66','D67')\n",
              "11        2020  ...  ('J410','J411','J418','J42','J430','J431','J43...\n",
              "12        2020  ...                                          ('F3481')\n",
              "13        2021  ...                                      ('D66','D67')\n",
              "14        2021  ...  ('J410','J411','J418','J42','J430','J431','J43...\n",
              "15        2021  ...                                          ('F3481')\n",
              "16        2021  ...                                          ('F3481')\n",
              "17        2021  ...                                      ('D66','D67')\n",
              "18        2021  ...  ('J410','J411','J418','J42','J430','J431','J43...\n",
              "19        2021  ...                                          ('F3481')\n",
              "20        2021  ...                                      ('D66','D67')\n",
              "21        2021  ...  ('J410','J411','J418','J42','J430','J431','J43...\n",
              "22        2021  ...                                          ('F3481')\n",
              "23        2021  ...                                      ('D66','D67')\n",
              "24        2021  ...  ('J410','J411','J418','J42','J430','J431','J43...\n",
              "25        2021  ...                                          ('F3481')\n",
              "\n",
              "[26 rows x 5 columns]"
            ]
          },
          "metadata": {
            "tags": []
          },
          "execution_count": 72
        }
      ]
    },
    {
      "cell_type": "code",
      "metadata": {
        "colab": {
          "base_uri": "https://localhost:8080/"
        },
        "id": "q-YGnCnca-al",
        "outputId": "7ba98eb8-1c84-40c8-e089-39242ca0e8a9"
      },
      "source": [
        "versions = dataCC['VERSION'].unique().tolist()\n",
        "versions"
      ],
      "execution_count": null,
      "outputs": [
        {
          "output_type": "execute_result",
          "data": {
            "text/plain": [
              "['ESRD-P1', 'RX', 'V22', 'V24', 'ESRD-P2']"
            ]
          },
          "metadata": {
            "tags": []
          },
          "execution_count": 73
        }
      ]
    },
    {
      "cell_type": "code",
      "metadata": {
        "colab": {
          "base_uri": "https://localhost:8080/"
        },
        "id": "obhClCtda-cz",
        "outputId": "f1f577fb-b38e-4035-c451-7d8a0a77a430"
      },
      "source": [
        "years = dataCC['MODEL YEAR'].unique().tolist()\n",
        "years"
      ],
      "execution_count": null,
      "outputs": [
        {
          "output_type": "execute_result",
          "data": {
            "text/plain": [
              "[2020, 2021]"
            ]
          },
          "metadata": {
            "tags": []
          },
          "execution_count": 74
        }
      ]
    },
    {
      "cell_type": "code",
      "metadata": {
        "id": "8X8jRXnSa-e-"
      },
      "source": [
        "from pyspark.sql.functions import datediff, to_date, lit\n",
        "from pyspark.sql.functions import col, expr, when\n",
        "import pyspark.sql.functions as F\n",
        "from pyspark.sql.types import *"
      ],
      "execution_count": null,
      "outputs": []
    },
    {
      "cell_type": "code",
      "metadata": {
        "id": "sgB_3Kf8a-hG"
      },
      "source": [
        "\n",
        "data = (spark.read.format(\"csv\").options(header=\"true\").load(\"/content/drive/MyDrive/Index/data.csv\"))\n"
      ],
      "execution_count": null,
      "outputs": []
    },
    {
      "cell_type": "code",
      "metadata": {
        "id": "CsZAbyKya-jW"
      },
      "source": [
        "# overide_df = (spark.read.format(\"csv\").options(header=\"true\").load(\"/content/CC Override Rules.csv\"))\n",
        "\n",
        "overide_df = (spark.read.format(\"csv\").options(header=\"true\").load(\"/content/drive/MyDrive/Index/CC Override Rules.csv\"))"
      ],
      "execution_count": null,
      "outputs": []
    },
    {
      "cell_type": "code",
      "metadata": {
        "id": "5eoMy-1Na-lc"
      },
      "source": [
        "df1 = df.copy()\n",
        "data = spark.createDataFrame(df1)\n",
        "    \n",
        "overide_df = (spark.read.format(\"csv\").options(header=\"true\").load(\"/content/drive/MyDrive/Index/CC Override Rules.csv\"))\n",
        "overide_df=overide_df.withColumnRenamed(\"MODEL YEAR\",\"MODEL_YEAR\")\n",
        "overide_df = overide_df.filter((overide_df.VERSION.isin(versions))&(overide_df.MODEL_YEAR.isin(years)))\n",
        "for i in overide_df.collect():\n",
        "  data = data.withColumn('HCC', expr(i[3]))\n",
        "data.toPandas().to_excel('Merged_CCOveride.xlsx')  \n",
        "    "
      ],
      "execution_count": null,
      "outputs": []
    },
    {
      "cell_type": "code",
      "metadata": {
        "id": "WnNef400a-o9",
        "colab": {
          "base_uri": "https://localhost:8080/",
          "height": 319
        },
        "outputId": "6fa5592b-e1bc-4fca-ec1d-f8b7866ef789"
      },
      "source": [
        "df_CCmerged = pd.read_excel('/content/drive/MyDrive/Index/Merged_CCOveride.xlsx')\n",
        "df_CCmerged"
      ],
      "execution_count": null,
      "outputs": [
        {
          "output_type": "error",
          "ename": "KeyboardInterrupt",
          "evalue": "ignored",
          "traceback": [
            "\u001b[0;31m---------------------------------------------------------------------------\u001b[0m",
            "\u001b[0;31mKeyboardInterrupt\u001b[0m                         Traceback (most recent call last)",
            "\u001b[0;32m<ipython-input-79-060bca2d951d>\u001b[0m in \u001b[0;36m<module>\u001b[0;34m()\u001b[0m\n\u001b[0;32m----> 1\u001b[0;31m \u001b[0mdf_CCmerged\u001b[0m \u001b[0;34m=\u001b[0m \u001b[0mpd\u001b[0m\u001b[0;34m.\u001b[0m\u001b[0mread_excel\u001b[0m\u001b[0;34m(\u001b[0m\u001b[0;34m'/content/drive/MyDrive/Index/Merged_CCOveride.xlsx'\u001b[0m\u001b[0;34m)\u001b[0m\u001b[0;34m\u001b[0m\u001b[0;34m\u001b[0m\u001b[0m\n\u001b[0m\u001b[1;32m      2\u001b[0m \u001b[0mdf_CCmerged\u001b[0m\u001b[0;34m\u001b[0m\u001b[0;34m\u001b[0m\u001b[0m\n",
            "\u001b[0;32m/usr/local/lib/python3.7/dist-packages/pandas/util/_decorators.py\u001b[0m in \u001b[0;36mwrapper\u001b[0;34m(*args, **kwargs)\u001b[0m\n\u001b[1;32m    294\u001b[0m                 )\n\u001b[1;32m    295\u001b[0m                 \u001b[0mwarnings\u001b[0m\u001b[0;34m.\u001b[0m\u001b[0mwarn\u001b[0m\u001b[0;34m(\u001b[0m\u001b[0mmsg\u001b[0m\u001b[0;34m,\u001b[0m \u001b[0mFutureWarning\u001b[0m\u001b[0;34m,\u001b[0m \u001b[0mstacklevel\u001b[0m\u001b[0;34m=\u001b[0m\u001b[0mstacklevel\u001b[0m\u001b[0;34m)\u001b[0m\u001b[0;34m\u001b[0m\u001b[0;34m\u001b[0m\u001b[0m\n\u001b[0;32m--> 296\u001b[0;31m             \u001b[0;32mreturn\u001b[0m \u001b[0mfunc\u001b[0m\u001b[0;34m(\u001b[0m\u001b[0;34m*\u001b[0m\u001b[0margs\u001b[0m\u001b[0;34m,\u001b[0m \u001b[0;34m**\u001b[0m\u001b[0mkwargs\u001b[0m\u001b[0;34m)\u001b[0m\u001b[0;34m\u001b[0m\u001b[0;34m\u001b[0m\u001b[0m\n\u001b[0m\u001b[1;32m    297\u001b[0m \u001b[0;34m\u001b[0m\u001b[0m\n\u001b[1;32m    298\u001b[0m         \u001b[0;32mreturn\u001b[0m \u001b[0mwrapper\u001b[0m\u001b[0;34m\u001b[0m\u001b[0;34m\u001b[0m\u001b[0m\n",
            "\u001b[0;32m/usr/local/lib/python3.7/dist-packages/pandas/io/excel/_base.py\u001b[0m in \u001b[0;36mread_excel\u001b[0;34m(io, sheet_name, header, names, index_col, usecols, squeeze, dtype, engine, converters, true_values, false_values, skiprows, nrows, na_values, keep_default_na, na_filter, verbose, parse_dates, date_parser, thousands, comment, skipfooter, convert_float, mangle_dupe_cols)\u001b[0m\n\u001b[1;32m    332\u001b[0m         \u001b[0mskipfooter\u001b[0m\u001b[0;34m=\u001b[0m\u001b[0mskipfooter\u001b[0m\u001b[0;34m,\u001b[0m\u001b[0;34m\u001b[0m\u001b[0;34m\u001b[0m\u001b[0m\n\u001b[1;32m    333\u001b[0m         \u001b[0mconvert_float\u001b[0m\u001b[0;34m=\u001b[0m\u001b[0mconvert_float\u001b[0m\u001b[0;34m,\u001b[0m\u001b[0;34m\u001b[0m\u001b[0;34m\u001b[0m\u001b[0m\n\u001b[0;32m--> 334\u001b[0;31m         \u001b[0mmangle_dupe_cols\u001b[0m\u001b[0;34m=\u001b[0m\u001b[0mmangle_dupe_cols\u001b[0m\u001b[0;34m,\u001b[0m\u001b[0;34m\u001b[0m\u001b[0;34m\u001b[0m\u001b[0m\n\u001b[0m\u001b[1;32m    335\u001b[0m     )\n\u001b[1;32m    336\u001b[0m \u001b[0;34m\u001b[0m\u001b[0m\n",
            "\u001b[0;32m/usr/local/lib/python3.7/dist-packages/pandas/io/excel/_base.py\u001b[0m in \u001b[0;36mparse\u001b[0;34m(self, sheet_name, header, names, index_col, usecols, squeeze, converters, true_values, false_values, skiprows, nrows, na_values, parse_dates, date_parser, thousands, comment, skipfooter, convert_float, mangle_dupe_cols, **kwds)\u001b[0m\n\u001b[1;32m    924\u001b[0m             \u001b[0mconvert_float\u001b[0m\u001b[0;34m=\u001b[0m\u001b[0mconvert_float\u001b[0m\u001b[0;34m,\u001b[0m\u001b[0;34m\u001b[0m\u001b[0;34m\u001b[0m\u001b[0m\n\u001b[1;32m    925\u001b[0m             \u001b[0mmangle_dupe_cols\u001b[0m\u001b[0;34m=\u001b[0m\u001b[0mmangle_dupe_cols\u001b[0m\u001b[0;34m,\u001b[0m\u001b[0;34m\u001b[0m\u001b[0;34m\u001b[0m\u001b[0m\n\u001b[0;32m--> 926\u001b[0;31m             \u001b[0;34m**\u001b[0m\u001b[0mkwds\u001b[0m\u001b[0;34m,\u001b[0m\u001b[0;34m\u001b[0m\u001b[0;34m\u001b[0m\u001b[0m\n\u001b[0m\u001b[1;32m    927\u001b[0m         )\n\u001b[1;32m    928\u001b[0m \u001b[0;34m\u001b[0m\u001b[0m\n",
            "\u001b[0;32m/usr/local/lib/python3.7/dist-packages/pandas/io/excel/_base.py\u001b[0m in \u001b[0;36mparse\u001b[0;34m(self, sheet_name, header, names, index_col, usecols, squeeze, dtype, true_values, false_values, skiprows, nrows, na_values, verbose, parse_dates, date_parser, thousands, comment, skipfooter, convert_float, mangle_dupe_cols, **kwds)\u001b[0m\n\u001b[1;32m    441\u001b[0m                 \u001b[0msheet\u001b[0m \u001b[0;34m=\u001b[0m \u001b[0mself\u001b[0m\u001b[0;34m.\u001b[0m\u001b[0mget_sheet_by_index\u001b[0m\u001b[0;34m(\u001b[0m\u001b[0masheetname\u001b[0m\u001b[0;34m)\u001b[0m\u001b[0;34m\u001b[0m\u001b[0;34m\u001b[0m\u001b[0m\n\u001b[1;32m    442\u001b[0m \u001b[0;34m\u001b[0m\u001b[0m\n\u001b[0;32m--> 443\u001b[0;31m             \u001b[0mdata\u001b[0m \u001b[0;34m=\u001b[0m \u001b[0mself\u001b[0m\u001b[0;34m.\u001b[0m\u001b[0mget_sheet_data\u001b[0m\u001b[0;34m(\u001b[0m\u001b[0msheet\u001b[0m\u001b[0;34m,\u001b[0m \u001b[0mconvert_float\u001b[0m\u001b[0;34m)\u001b[0m\u001b[0;34m\u001b[0m\u001b[0;34m\u001b[0m\u001b[0m\n\u001b[0m\u001b[1;32m    444\u001b[0m             \u001b[0musecols\u001b[0m \u001b[0;34m=\u001b[0m \u001b[0m_maybe_convert_usecols\u001b[0m\u001b[0;34m(\u001b[0m\u001b[0musecols\u001b[0m\u001b[0;34m)\u001b[0m\u001b[0;34m\u001b[0m\u001b[0;34m\u001b[0m\u001b[0m\n\u001b[1;32m    445\u001b[0m \u001b[0;34m\u001b[0m\u001b[0m\n",
            "\u001b[0;32m/usr/local/lib/python3.7/dist-packages/pandas/io/excel/_xlrd.py\u001b[0m in \u001b[0;36mget_sheet_data\u001b[0;34m(self, sheet, convert_float)\u001b[0m\n\u001b[1;32m    101\u001b[0m             row = [\n\u001b[1;32m    102\u001b[0m                 \u001b[0m_parse_cell\u001b[0m\u001b[0;34m(\u001b[0m\u001b[0mvalue\u001b[0m\u001b[0;34m,\u001b[0m \u001b[0mtyp\u001b[0m\u001b[0;34m)\u001b[0m\u001b[0;34m\u001b[0m\u001b[0;34m\u001b[0m\u001b[0m\n\u001b[0;32m--> 103\u001b[0;31m                 \u001b[0;32mfor\u001b[0m \u001b[0mvalue\u001b[0m\u001b[0;34m,\u001b[0m \u001b[0mtyp\u001b[0m \u001b[0;32min\u001b[0m \u001b[0mzip\u001b[0m\u001b[0;34m(\u001b[0m\u001b[0msheet\u001b[0m\u001b[0;34m.\u001b[0m\u001b[0mrow_values\u001b[0m\u001b[0;34m(\u001b[0m\u001b[0mi\u001b[0m\u001b[0;34m)\u001b[0m\u001b[0;34m,\u001b[0m \u001b[0msheet\u001b[0m\u001b[0;34m.\u001b[0m\u001b[0mrow_types\u001b[0m\u001b[0;34m(\u001b[0m\u001b[0mi\u001b[0m\u001b[0;34m)\u001b[0m\u001b[0;34m)\u001b[0m\u001b[0;34m\u001b[0m\u001b[0;34m\u001b[0m\u001b[0m\n\u001b[0m\u001b[1;32m    104\u001b[0m             ]\n\u001b[1;32m    105\u001b[0m             \u001b[0mdata\u001b[0m\u001b[0;34m.\u001b[0m\u001b[0mappend\u001b[0m\u001b[0;34m(\u001b[0m\u001b[0mrow\u001b[0m\u001b[0;34m)\u001b[0m\u001b[0;34m\u001b[0m\u001b[0;34m\u001b[0m\u001b[0m\n",
            "\u001b[0;32m/usr/local/lib/python3.7/dist-packages/pandas/io/excel/_xlrd.py\u001b[0m in \u001b[0;36m<listcomp>\u001b[0;34m(.0)\u001b[0m\n\u001b[1;32m    101\u001b[0m             row = [\n\u001b[1;32m    102\u001b[0m                 \u001b[0m_parse_cell\u001b[0m\u001b[0;34m(\u001b[0m\u001b[0mvalue\u001b[0m\u001b[0;34m,\u001b[0m \u001b[0mtyp\u001b[0m\u001b[0;34m)\u001b[0m\u001b[0;34m\u001b[0m\u001b[0;34m\u001b[0m\u001b[0m\n\u001b[0;32m--> 103\u001b[0;31m                 \u001b[0;32mfor\u001b[0m \u001b[0mvalue\u001b[0m\u001b[0;34m,\u001b[0m \u001b[0mtyp\u001b[0m \u001b[0;32min\u001b[0m \u001b[0mzip\u001b[0m\u001b[0;34m(\u001b[0m\u001b[0msheet\u001b[0m\u001b[0;34m.\u001b[0m\u001b[0mrow_values\u001b[0m\u001b[0;34m(\u001b[0m\u001b[0mi\u001b[0m\u001b[0;34m)\u001b[0m\u001b[0;34m,\u001b[0m \u001b[0msheet\u001b[0m\u001b[0;34m.\u001b[0m\u001b[0mrow_types\u001b[0m\u001b[0;34m(\u001b[0m\u001b[0mi\u001b[0m\u001b[0;34m)\u001b[0m\u001b[0;34m)\u001b[0m\u001b[0;34m\u001b[0m\u001b[0;34m\u001b[0m\u001b[0m\n\u001b[0m\u001b[1;32m    104\u001b[0m             ]\n\u001b[1;32m    105\u001b[0m             \u001b[0mdata\u001b[0m\u001b[0;34m.\u001b[0m\u001b[0mappend\u001b[0m\u001b[0;34m(\u001b[0m\u001b[0mrow\u001b[0m\u001b[0;34m)\u001b[0m\u001b[0;34m\u001b[0m\u001b[0;34m\u001b[0m\u001b[0m\n",
            "\u001b[0;31mKeyboardInterrupt\u001b[0m: "
          ]
        }
      ]
    },
    {
      "cell_type": "markdown",
      "metadata": {
        "id": "c_CxiFzoQEJz"
      },
      "source": [
        "HCC_HIERARCHY"
      ]
    },
    {
      "cell_type": "code",
      "metadata": {
        "id": "J4bKiu6BbiID"
      },
      "source": [
        "hcc_data = pd.read_excel('/content/gdrive/My Drive/HCC Hierarchy (1).xlsx')\n",
        "hcc_data = hcc_data.sort_values('HIERARCHY_LEVEL', ascending=False)"
      ],
      "execution_count": null,
      "outputs": []
    },
    {
      "cell_type": "code",
      "metadata": {
        "id": "9Ht7YeeGbiKV"
      },
      "source": [
        "data1 = spark.createDataFrame(hcc_data)\n",
        "data1.show()"
      ],
      "execution_count": null,
      "outputs": []
    },
    {
      "cell_type": "code",
      "metadata": {
        "id": "8intMQaYbiND"
      },
      "source": [
        "versions = hcc_data['MODEL_VRSN'].unique()\n",
        "years = hcc_data['MODEL_YR'].unique()"
      ],
      "execution_count": null,
      "outputs": []
    },
    {
      "cell_type": "code",
      "metadata": {
        "id": "GXa36IHlbiQF"
      },
      "source": [
        "from pyspark.sql import functions as F"
      ],
      "execution_count": null,
      "outputs": []
    },
    {
      "cell_type": "code",
      "metadata": {
        "id": "V-9JEor6PWqo"
      },
      "source": [
        "lis = {}\n",
        "for k in range(len(years)):\n",
        "  for l in range(len(versions)):\n",
        "    var = str(years[k]) + '_' +  str(versions[l])\n",
        "    lis[var] = []\n",
        "    data_2020_test = hcc_data[(hcc_data['MODEL_YR'] == years[k]) & (hcc_data['MODEL_VRSN'] == versions[l])]\n",
        "    merged_cc_2020_test = df_CCmerged[(df_CCmerged['MODEL_YEAR'] == years[k]) & (df_CCmerged['Version'] == versions[l]) ]\n",
        "    merged_cc_2020_spark_test = spark.createDataFrame(merged_cc_2020_test)\n",
        "    for i in range(len(data_2020_test)):\n",
        "      merged_cc_2020_spark1 = 0\n",
        "      if list(data_2020_test['HIGHER_HCC'])[i] in merged_cc_2020_spark_test.columns:\n",
        "        merged_cc_2020_spark1 = merged_cc_2020_spark_test.withColumn(list(data_2020_test['LOWER_HCC'])[i], F.when((F.col(list(data_2020_test['HIGHER_HCC'])[i])==1) & (F.col(list(data_2020_test['LOWER_HCC'])[i])== 1) & (F.col('VERSION')== list(data_2020_test['MODEL_VRSN'])[i]) ,0).otherwise(F.col(list(data_2020_test['LOWER_HCC'])[i])))\n",
        "        # print(i)\n",
        "    lis[var].append(merged_cc_2020_spark1)\n",
        "\n"
      ],
      "execution_count": null,
      "outputs": []
    },
    {
      "cell_type": "code",
      "metadata": {
        "id": "Jb2JbgDxPWtD"
      },
      "source": [
        "for i in lis.keys():\n",
        "  print(i)\n",
        "  if lis[i][0]!=0:  \n",
        "    frame = lis[i][0]\n",
        "    frame = frame.toPandas()\n",
        "    frame.to_excel('/content/gdrive/My Drive/' + str(i) + '.xlsx')\n"
      ],
      "execution_count": null,
      "outputs": []
    },
    {
      "cell_type": "code",
      "metadata": {
        "id": "n6Qump4fPWu5"
      },
      "source": [
        ""
      ],
      "execution_count": null,
      "outputs": []
    }
  ]
}